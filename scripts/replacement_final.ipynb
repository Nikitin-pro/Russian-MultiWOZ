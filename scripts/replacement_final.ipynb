{
  "nbformat": 4,
  "nbformat_minor": 0,
  "metadata": {
    "colab": {
      "name": "replacement_final.ipynb",
      "provenance": [],
      "collapsed_sections": []
    },
    "kernelspec": {
      "name": "python3",
      "display_name": "Python 3"
    },
    "language_info": {
      "name": "python"
    }
  },
  "cells": [
    {
      "cell_type": "markdown",
      "metadata": {
        "id": "GhHG8D39Aa0w"
      },
      "source": [
        "Get dialogues"
      ]
    },
    {
      "cell_type": "code",
      "metadata": {
        "id": "iMWXCzeS9Vpj"
      },
      "source": [
        "import json\n",
        "import re\n",
        "import pandas as pd\n",
        "import copy"
      ],
      "execution_count": 122,
      "outputs": []
    },
    {
      "cell_type": "markdown",
      "metadata": {
        "id": "Lf-GY1fsEQsN"
      },
      "source": [
        "Slots"
      ]
    },
    {
      "cell_type": "markdown",
      "metadata": {
        "id": "4W4fSH7M9CJm"
      },
      "source": [
        "# 1.Собираем фразы из диалогов."
      ]
    },
    {
      "cell_type": "code",
      "metadata": {
        "id": "SDIW7f8R9Rx3"
      },
      "source": [
        "with open('/content/dialogues_012_russian.json','r',encoding = 'utf-8') as f:\n",
        "  dialogues = json.load(f)"
      ],
      "execution_count": 26,
      "outputs": []
    },
    {
      "cell_type": "code",
      "metadata": {
        "id": "RleRDqZZ9ZJD"
      },
      "source": [
        "def get_utts(dialog_number):\n",
        "  utts = []\n",
        "  i = -1\n",
        "  for turn in dialogues[dialog_number]['turns']:    \n",
        "    i += 1\n",
        "    ut = dialogues[dialog_number]['turns'][i]['utterance']\n",
        "    utts.append(ut)\n",
        "  return utts"
      ],
      "execution_count": 123,
      "outputs": []
    },
    {
      "cell_type": "code",
      "metadata": {
        "id": "kRGfLXSg94dJ",
        "colab": {
          "base_uri": "https://localhost:8080/"
        },
        "outputId": "36fbe848-2064-4ee6-c232-ff6cb8c04277"
      },
      "source": [
        "get_utts(4)"
      ],
      "execution_count": 124,
      "outputs": [
        {
          "output_type": "execute_result",
          "data": {
            "text/plain": [
              "[' Ищу информацию. Вы можете помочь мне с местом, где я могу остановиться, пока я буду в городе?',\n",
              " ' Я могу помочь вам. В какой части города?',\n",
              " ' Я хочу поехать в северную часть города, там есть бесплатная парковка и 4 звезды.',\n",
              " ' Хорошо, а как насчет гостевого дома Acorn? Он расположен на 154 честертон-роуд. Вы хотите, чтобы я сделал заказ?',\n",
              " ' Это звучит идеально. Мне нужна комната на 3 человека и 4 ночи, начиная с воскресенья.',\n",
              " ' Бронирование прошло успешно. Вы забронировали номер для 3 человек, остановившись на 4 ночи в гостевом доме Acorn, начиная с воскресенья. Ваш справочный номер: Z45I87LD.',\n",
              " ' Спасибо! Еще мне нужен бассейн в северной части Кембриджа.',\n",
              " ' Я бы порекомендовал Иисус зеленый открытый бассейн. Хотите узнать больше?',\n",
              " ' Не могли бы вы сообщить мне адрес, почтовый индекс и номер телефона?',\n",
              " ' Конечно! Адрес находится между дорогой Виктория и рекой, почтовый индекс cb43px, номер телефона 01223302579.',\n",
              " ' Напоследок такси от отеля до бассейна, пожалуйста.',\n",
              " ' Вы думаете о времени прибытия?',\n",
              " ' Я хочу покинуть отель до 10:30.',\n",
              " ' Когда ваше время прибытия?',\n",
              " ' Мое время прибытия будет 17:00.',\n",
              " ' Ваше такси забронировано для черного Volvo, его контактный номер: 07055228719.',\n",
              " ' Спасибо. На сегодня все.',\n",
              " ' спасибо, что спросили у нас, и хорошего дня',\n",
              " ' Спасибо. Я надеюсь, у тебя тоже хороший день.',\n",
              " ' это точно. Благодарю.',\n",
              " ' Хорошо. Рад это слышать. Вы можете закончить этот разговор прямо сейчас. Больше мне ничего не нужно.',\n",
              " ' Спасибо, что воспользовались нашим сервисом.']"
            ]
          },
          "metadata": {},
          "execution_count": 124
        }
      ]
    },
    {
      "cell_type": "markdown",
      "metadata": {
        "id": "fb8N4Xq7-JXt"
      },
      "source": [
        "# 2. Достаем слоты из размеченных диалогов"
      ]
    },
    {
      "cell_type": "code",
      "metadata": {
        "id": "8IKsfeaf-UBA"
      },
      "source": [
        "with open('/content/dialogues_012_ru.txt','r',encoding = 'utf-8') as f:\n",
        "  dialogues_txt = f.read().split('\\n\\n')"
      ],
      "execution_count": 125,
      "outputs": []
    },
    {
      "cell_type": "code",
      "metadata": {
        "id": "CBSSox1p-fvf"
      },
      "source": [
        "def get_dialogue(dialogue_number):\n",
        "  dialogue = dialogues_txt[dialogue_number].split(\"\\n\")\n",
        "  return dialogue"
      ],
      "execution_count": 153,
      "outputs": []
    },
    {
      "cell_type": "code",
      "source": [
        "len(dialogues_txt)"
      ],
      "metadata": {
        "colab": {
          "base_uri": "https://localhost:8080/"
        },
        "id": "muHi9foH0BXZ",
        "outputId": "800a31f6-dc25-4b44-e4f6-df776aef85fd"
      },
      "execution_count": 155,
      "outputs": [
        {
          "output_type": "execute_result",
          "data": {
            "text/plain": [
              "513"
            ]
          },
          "metadata": {},
          "execution_count": 155
        }
      ]
    },
    {
      "cell_type": "code",
      "metadata": {
        "id": "eQZ45yWx_Nbo"
      },
      "source": [
        "dialogu_e = get_dialogue(4)"
      ],
      "execution_count": 127,
      "outputs": []
    },
    {
      "cell_type": "code",
      "metadata": {
        "id": "TX5nZ0HuSl2g"
      },
      "source": [
        "dialogue_4 = []\n",
        "for x in dialogu_e:\n",
        "  if len(x)>0:\n",
        "    dialogue_4.append(x)"
      ],
      "execution_count": 128,
      "outputs": []
    },
    {
      "cell_type": "code",
      "source": [
        "dialogue_4"
      ],
      "metadata": {
        "colab": {
          "base_uri": "https://localhost:8080/"
        },
        "id": "6aOHFngtqoeo",
        "outputId": "396bcef0-16fd-4a8d-c793-aedac90c64a5"
      },
      "execution_count": 129,
      "outputs": [
        {
          "output_type": "execute_result",
          "data": {
            "text/plain": [
              "['Ищу информацию. Вы можете помочь мне с местом, где я могу остановиться, пока я буду в городе?',\n",
              " 'Я могу помочь вам. В какой части города?',\n",
              " 'Я хочу поехать в северную часть города, там есть бесплатная парковка и 4 звезды.',\n",
              " 'Хорошо, а как насчет [гостевого дома Acorn]? Он расположен на 154 честертон-роуд. Вы хотите, чтобы я сделал заказ?',\n",
              " 'Это звучит идеально. Мне нужна комната на 3 человека и 4 ночи, начиная с воскресенья.',\n",
              " 'Бронирование прошло успешно. Вы забронировали номер для 3 человек, остановившись на 4 ночи в гостевом доме Acorn, начиная с воскресенья. Ваш справочный номер: Z45I87LD.',\n",
              " 'Спасибо! Еще мне нужен бассейн в северной части Кембриджа.',\n",
              " 'Я бы порекомендовал [Иисус зеленый открытый бассейн]. Хотите узнать больше?',\n",
              " 'Не могли бы вы сообщить мне адрес, почтовый индекс и номер телефона?',\n",
              " 'Конечно! Адрес находится между дорогой Виктория и рекой, почтовый индекс cb43px, номер телефона 01223302579.',\n",
              " 'Напоследок такси от отеля до бассейна, пожалуйста.',\n",
              " 'Вы думаете о времени прибытия?',\n",
              " 'Я хочу покинуть отель до [10:30].',\n",
              " 'Когда ваше время прибытия?',\n",
              " 'Мое время прибытия будет [17:00].',\n",
              " 'Ваше такси забронировано для черного Volvo, его контактный номер: 07055228719.',\n",
              " 'Спасибо. На сегодня все.',\n",
              " 'спасибо, что спросили у нас, и хорошего дня',\n",
              " 'Спасибо. Я надеюсь, у тебя тоже хороший день.',\n",
              " 'это точно. Благодарю.',\n",
              " 'Хорошо. Рад это слышать. Вы можете закончить этот разговор прямо сейчас. Больше мне ничего не нужно.',\n",
              " 'Спасибо, что воспользовались нашим сервисом.']"
            ]
          },
          "metadata": {},
          "execution_count": 129
        }
      ]
    },
    {
      "cell_type": "markdown",
      "metadata": {
        "id": "0S7N2eQp_dKS"
      },
      "source": [
        "## 2.1 Достаем слоты из диалога"
      ]
    },
    {
      "cell_type": "code",
      "metadata": {
        "id": "cNTWJ9SL_mmg"
      },
      "source": [
        "def get_slots(dialogue_number):\n",
        "  slots_russian = re.findall(r'\\[.+\\]', dialogues_txt[dialogue_number])\n",
        "  return slots_russian"
      ],
      "execution_count": 130,
      "outputs": []
    },
    {
      "cell_type": "code",
      "metadata": {
        "id": "CNpfi85qADDD",
        "colab": {
          "base_uri": "https://localhost:8080/"
        },
        "outputId": "3cd33734-3246-4615-ed9c-8ac214713d59"
      },
      "source": [
        "get_slots(4)"
      ],
      "execution_count": 131,
      "outputs": [
        {
          "output_type": "execute_result",
          "data": {
            "text/plain": [
              "['[гостевого дома Acorn]',\n",
              " '[Иисус зеленый открытый бассейн]',\n",
              " '[10:30]',\n",
              " '[17:00]']"
            ]
          },
          "metadata": {},
          "execution_count": 131
        }
      ]
    },
    {
      "cell_type": "markdown",
      "metadata": {
        "id": "r-EnymHkCFlf"
      },
      "source": [
        "# 3. Датафрейм для замены слотов"
      ]
    },
    {
      "cell_type": "code",
      "metadata": {
        "id": "cOLeZrdvGTIg"
      },
      "source": [
        "worksheets_dfs = pd.DataFrame()\n",
        "xlsx = pd.ExcelFile('/content/slot_replacements.xlsx')\n",
        "sheets = xlsx.sheet_names\n",
        "for sheet in sheets[1:3]: # Достаем необходимые листы для склейки в датафрейм ('attraction','hotels')\n",
        "  data = xlsx.parse(sheet_name = sheet)\n",
        "  worksheets_dfs = worksheets_dfs.append(data)\n",
        "worksheets_dfs.to_excel('replacement_combined.xlsx')"
      ],
      "execution_count": 132,
      "outputs": []
    },
    {
      "cell_type": "markdown",
      "metadata": {
        "id": "8R2IQwZ5DyYk"
      },
      "source": [
        "# 4. Замена слотов"
      ]
    },
    {
      "cell_type": "markdown",
      "metadata": {
        "id": "F8usQpp3EGKU"
      },
      "source": [
        "## 4.1 Достаем индекс"
      ]
    },
    {
      "cell_type": "code",
      "metadata": {
        "id": "XJtdXpuJLN3g"
      },
      "source": [
        "# Открываем replacement_combined.xlsx\n",
        "replacement_combined = []\n",
        "content = pd.ExcelFile('/content/replacement_combined.xlsx')\n",
        "sheets = content.sheet_names\n",
        "for sheet in sheets:\n",
        "  data = pd.read_excel(content, sheet_name = sheet)\n",
        "  data[\"sheet\"] = sheet\n",
        "  replacement_combined.append(data)"
      ],
      "execution_count": 133,
      "outputs": []
    },
    {
      "cell_type": "code",
      "metadata": {
        "colab": {
          "base_uri": "https://localhost:8080/"
        },
        "id": "cQob_D1MKvUp",
        "outputId": "e06258b9-9317-4b30-db24-9ada77fb045f"
      },
      "source": [
        "### достаем все индексы из таблички\n",
        "inds = []\n",
        "for slot in range(len(get_slots(4))):\n",
        "  for line in replacement_combined[0]['ru']:\n",
        "    if get_slots(4)[slot] in str(line):\n",
        "      index = replacement_combined[0].index\n",
        "      condition = replacement_combined[0]['ru'] == line\n",
        "      slot_indices = index[condition]\n",
        "      slot_indices_list = slot_indices.tolist()\n",
        "      ind = slot_indices_list\n",
        "      inds.append(ind)\n",
        "print(inds)"
      ],
      "execution_count": 134,
      "outputs": [
        {
          "output_type": "stream",
          "name": "stdout",
          "text": [
            "[[760], [92]]\n"
          ]
        }
      ]
    },
    {
      "cell_type": "code",
      "metadata": {
        "id": "BeYbEBQzj6lg"
      },
      "source": [
        "# Достаем сущности по индексам\n",
        "final_slots_russian = []\n",
        "for ind in inds:\n",
        "  final_slots_russian.append(' '.join(replacement_combined[0]['repl'][ind].tolist()))"
      ],
      "execution_count": 135,
      "outputs": []
    },
    {
      "cell_type": "code",
      "metadata": {
        "colab": {
          "base_uri": "https://localhost:8080/"
        },
        "id": "nMph3gThkoWK",
        "outputId": "5f546fa2-19ca-4528-a08c-61ed80eca94d"
      },
      "source": [
        "final_slots_russian "
      ],
      "execution_count": 136,
      "outputs": [
        {
          "output_type": "execute_result",
          "data": {
            "text/plain": [
              "[\"'[гостевого дома Величъ]'\", \"'[Открытый Аквакомплекс «Лужники»]'\"]"
            ]
          },
          "metadata": {},
          "execution_count": 136
        }
      ]
    },
    {
      "cell_type": "code",
      "metadata": {
        "id": "sLHxw2Ms-rK0"
      },
      "source": [
        "# Создаем новый список слотов\n",
        "slots = get_slots(4)\n",
        "i = 0\n",
        "for slot in final_slots_russian:\n",
        "  slots[i] = slot\n",
        "  i += 1"
      ],
      "execution_count": 137,
      "outputs": []
    },
    {
      "cell_type": "code",
      "metadata": {
        "colab": {
          "base_uri": "https://localhost:8080/"
        },
        "id": "ooN8ymW_YhlI",
        "outputId": "718a2fce-d659-4d51-c912-74efae135751"
      },
      "source": [
        "slots"
      ],
      "execution_count": 138,
      "outputs": [
        {
          "output_type": "execute_result",
          "data": {
            "text/plain": [
              "[\"'[гостевого дома Величъ]'\",\n",
              " \"'[Открытый Аквакомплекс «Лужники»]'\",\n",
              " '[10:30]',\n",
              " '[17:00]']"
            ]
          },
          "metadata": {},
          "execution_count": 138
        }
      ]
    },
    {
      "cell_type": "code",
      "metadata": {
        "colab": {
          "base_uri": "https://localhost:8080/"
        },
        "id": "JpQeO3SufUk0",
        "outputId": "6f8fddb7-37f3-4440-e38a-5cacf2dc23ed"
      },
      "source": [
        "# пересобираем текстовые данные\n",
        "utts = dialogue_4\n",
        "i = 0\n",
        "for utt in utts:\n",
        "  if re.findall(r'\\[.+\\]', utt):\n",
        "    ind = utts.index(utt)\n",
        "    utts[ind] =  re.sub(r'\\[.+\\]', slots[i], utts[ind])\n",
        "    i += 1\n",
        "print(utts)"
      ],
      "execution_count": 139,
      "outputs": [
        {
          "output_type": "stream",
          "name": "stdout",
          "text": [
            "['Ищу информацию. Вы можете помочь мне с местом, где я могу остановиться, пока я буду в городе?', 'Я могу помочь вам. В какой части города?', 'Я хочу поехать в северную часть города, там есть бесплатная парковка и 4 звезды.', \"Хорошо, а как насчет '[гостевого дома Величъ]'? Он расположен на 154 честертон-роуд. Вы хотите, чтобы я сделал заказ?\", 'Это звучит идеально. Мне нужна комната на 3 человека и 4 ночи, начиная с воскресенья.', 'Бронирование прошло успешно. Вы забронировали номер для 3 человек, остановившись на 4 ночи в гостевом доме Acorn, начиная с воскресенья. Ваш справочный номер: Z45I87LD.', 'Спасибо! Еще мне нужен бассейн в северной части Кембриджа.', \"Я бы порекомендовал '[Открытый Аквакомплекс «Лужники»]'. Хотите узнать больше?\", 'Не могли бы вы сообщить мне адрес, почтовый индекс и номер телефона?', 'Конечно! Адрес находится между дорогой Виктория и рекой, почтовый индекс cb43px, номер телефона 01223302579.', 'Напоследок такси от отеля до бассейна, пожалуйста.', 'Вы думаете о времени прибытия?', 'Я хочу покинуть отель до [10:30].', 'Когда ваше время прибытия?', 'Мое время прибытия будет [17:00].', 'Ваше такси забронировано для черного Volvo, его контактный номер: 07055228719.', 'Спасибо. На сегодня все.', 'спасибо, что спросили у нас, и хорошего дня', 'Спасибо. Я надеюсь, у тебя тоже хороший день.', 'это точно. Благодарю.', 'Хорошо. Рад это слышать. Вы можете закончить этот разговор прямо сейчас. Больше мне ничего не нужно.', 'Спасибо, что воспользовались нашим сервисом.']\n"
          ]
        }
      ]
    },
    {
      "cell_type": "code",
      "metadata": {
        "colab": {
          "base_uri": "https://localhost:8080/"
        },
        "id": "R9-KbaEPcezQ",
        "outputId": "28aef3d8-c8af-4e08-fdcc-5ec0e2c6f9b3"
      },
      "source": [
        "dialogue_4"
      ],
      "execution_count": 140,
      "outputs": [
        {
          "output_type": "execute_result",
          "data": {
            "text/plain": [
              "['Ищу информацию. Вы можете помочь мне с местом, где я могу остановиться, пока я буду в городе?',\n",
              " 'Я могу помочь вам. В какой части города?',\n",
              " 'Я хочу поехать в северную часть города, там есть бесплатная парковка и 4 звезды.',\n",
              " \"Хорошо, а как насчет '[гостевого дома Величъ]'? Он расположен на 154 честертон-роуд. Вы хотите, чтобы я сделал заказ?\",\n",
              " 'Это звучит идеально. Мне нужна комната на 3 человека и 4 ночи, начиная с воскресенья.',\n",
              " 'Бронирование прошло успешно. Вы забронировали номер для 3 человек, остановившись на 4 ночи в гостевом доме Acorn, начиная с воскресенья. Ваш справочный номер: Z45I87LD.',\n",
              " 'Спасибо! Еще мне нужен бассейн в северной части Кембриджа.',\n",
              " \"Я бы порекомендовал '[Открытый Аквакомплекс «Лужники»]'. Хотите узнать больше?\",\n",
              " 'Не могли бы вы сообщить мне адрес, почтовый индекс и номер телефона?',\n",
              " 'Конечно! Адрес находится между дорогой Виктория и рекой, почтовый индекс cb43px, номер телефона 01223302579.',\n",
              " 'Напоследок такси от отеля до бассейна, пожалуйста.',\n",
              " 'Вы думаете о времени прибытия?',\n",
              " 'Я хочу покинуть отель до [10:30].',\n",
              " 'Когда ваше время прибытия?',\n",
              " 'Мое время прибытия будет [17:00].',\n",
              " 'Ваше такси забронировано для черного Volvo, его контактный номер: 07055228719.',\n",
              " 'Спасибо. На сегодня все.',\n",
              " 'спасибо, что спросили у нас, и хорошего дня',\n",
              " 'Спасибо. Я надеюсь, у тебя тоже хороший день.',\n",
              " 'это точно. Благодарю.',\n",
              " 'Хорошо. Рад это слышать. Вы можете закончить этот разговор прямо сейчас. Больше мне ничего не нужно.',\n",
              " 'Спасибо, что воспользовались нашим сервисом.']"
            ]
          },
          "metadata": {},
          "execution_count": 140
        }
      ]
    },
    {
      "cell_type": "code",
      "source": [
        "def parse_translate(translated_text):\n",
        "    lines = translated_text.split('\\n')\n",
        "    texts = []\n",
        "    current_text = []\n",
        "    skip = False\n",
        "    for line in lines:\n",
        "        if not skip:\n",
        "            if line != ' ':\n",
        "                current_text.append(line)\n",
        "            else:\n",
        "                texts.append(current_text)\n",
        "                skip = True\n",
        "        else:\n",
        "            skip = False\n",
        "            current_text = []\n",
        "\n",
        "    return texts"
      ],
      "metadata": {
        "id": "6ZN6sxmXrnUa"
      },
      "execution_count": 141,
      "outputs": []
    },
    {
      "cell_type": "code",
      "source": [
        "translated = dialogue_4"
      ],
      "metadata": {
        "id": "v0wyvME8pJlU"
      },
      "execution_count": 142,
      "outputs": []
    },
    {
      "cell_type": "code",
      "source": [
        "def translated2json(translated_dialogue, dialogue):\n",
        "    new_dialogue = dialogue.copy()\n",
        "    for i, text in enumerate(translated_dialogue):\n",
        "        spans = list(reversed(search_spans(text, \"[\", \"]\"))) # reverse list, the first entry become last\n",
        "        offset_front = 0\n",
        "        offset_back = 1\n",
        "        remove_spec_brackets = False\n",
        "        for frame in new_dialogue['turns'][i]['frames']:\n",
        "            for slot in frame['slots']:\n",
        "                if 'start' in slot:\n",
        "                    if len(spans) != 0:\n",
        "                        start, end = spans.pop() # after reverse, we can use .pop() to get and remove first entry (i.e 'spans' list is now FIFO-queue)\n",
        "                    elif \"«\" in text:\n",
        "                        start, end = search_spans(text, \"«\", \"»\")[0] # assuming that there is only one span with «» brackets\n",
        "                        remove_spec_brackets = True\n",
        "                    else:\n",
        "                        continue\n",
        "                        \n",
        "                    slot['start'] = start - offset_front\n",
        "                    slot['exclusive_end'] = end - offset_back # offsetting '[', which will be removed\n",
        "                    slot['value'] = text[start + 1:end] # offsetting not yet remove '[' for value extraction\n",
        "                    offset_front += 2\n",
        "                    offset_back += 2\n",
        "                        \n",
        "\n",
        "        new_text = text.replace(\"[\", \"\").replace(\"]\", \"\")\n",
        "        if remove_spec_brackets:\n",
        "              new_text = new_text.replace(\"«\", \"\").replace(\"»\", \"\")\n",
        "        new_dialogue['turns'][i]['utterance'] = new_text\n",
        "            \n",
        "        #print(new_dialogue['turns'][i]['utterance'])\n",
        "    return new_dialogue"
      ],
      "metadata": {
        "id": "tWxfgjBnisrY"
      },
      "execution_count": 143,
      "outputs": []
    },
    {
      "cell_type": "code",
      "source": [
        "def search_spans(text, start_symbol: str = \"[\", end_symbol: str = \"]\"):\n",
        "    subtext1=start_symbol\n",
        "    result1 = []\n",
        "    flag = False\n",
        "    n = 1\n",
        "    for i,element in enumerate(text):\n",
        "        if flag:\n",
        "            if n > len(subtext1)-1:\n",
        "                flag = False\n",
        "                n = 1\n",
        "            elif element == subtext1[n]:\n",
        "                n += 1\n",
        "            elif element != subtext1[n]:\n",
        "                result1 = result1[:-1]\n",
        "                n = 1\n",
        "                flag = False\n",
        "        if element == subtext1[0] and not flag:\n",
        "            flag = True\n",
        "            result1.append(i)\n",
        "\n",
        "    subtext2=end_symbol\n",
        " \n",
        "    result2 = []\n",
        "\n",
        "    flag = False\n",
        "    n = 1\n",
        "\n",
        "    for i,element in enumerate(text):\n",
        "        if flag:\n",
        "            if n > len(subtext2)-1:\n",
        "                flag = False\n",
        "                n = 1\n",
        "            elif element == subtext2[n]:\n",
        "                n += 1\n",
        "            elif element != subtext2[n]:\n",
        "                result2 = result2[:-1]\n",
        "                n = 1\n",
        "                flag = False\n",
        "        if element == subtext2[0] and not flag:\n",
        "            flag = True\n",
        "            result2.append(i)\n",
        "    ress = list(zip(result1, result2))\n",
        "\n",
        "    return ress"
      ],
      "metadata": {
        "id": "h8-OvvuQk7lK"
      },
      "execution_count": 144,
      "outputs": []
    },
    {
      "cell_type": "code",
      "source": [
        "!wget https://raw.githubusercontent.com/budzianowski/multiwoz/master/data/MultiWOZ_2.2/train/dialogues_012.json"
      ],
      "metadata": {
        "colab": {
          "base_uri": "https://localhost:8080/"
        },
        "id": "pDzCcPKPn78f",
        "outputId": "8e0165d5-ae68-4510-aab4-4a6398b15921"
      },
      "execution_count": 145,
      "outputs": [
        {
          "output_type": "stream",
          "name": "stdout",
          "text": [
            "--2022-03-22 22:35:05--  https://raw.githubusercontent.com/budzianowski/multiwoz/master/data/MultiWOZ_2.2/train/dialogues_012.json\n",
            "Resolving raw.githubusercontent.com (raw.githubusercontent.com)... 185.199.111.133, 185.199.110.133, 185.199.109.133, ...\n",
            "Connecting to raw.githubusercontent.com (raw.githubusercontent.com)|185.199.111.133|:443... connected.\n",
            "HTTP request sent, awaiting response... 200 OK\n",
            "Length: 10584880 (10M) [text/plain]\n",
            "Saving to: ‘dialogues_012.json.1’\n",
            "\n",
            "\rdialogues_012.json.   0%[                    ]       0  --.-KB/s               \rdialogues_012.json. 100%[===================>]  10.09M  --.-KB/s    in 0.04s   \n",
            "\n",
            "2022-03-22 22:35:05 (277 MB/s) - ‘dialogues_012.json.1’ saved [10584880/10584880]\n",
            "\n"
          ]
        }
      ]
    },
    {
      "cell_type": "code",
      "source": [
        "with open(\"/content/dialogues_012.json\", 'r', encoding='utf-8') as f:\n",
        "    data = json.load(f)"
      ],
      "metadata": {
        "id": "8LPMYGTqlL1D"
      },
      "execution_count": 156,
      "outputs": []
    },
    {
      "cell_type": "code",
      "source": [
        "data[4]"
      ],
      "metadata": {
        "colab": {
          "base_uri": "https://localhost:8080/"
        },
        "id": "V7OvDRtxosdZ",
        "outputId": "50761c22-af0f-4e0a-81b4-e6d9341f6b0b"
      },
      "execution_count": 157,
      "outputs": [
        {
          "output_type": "execute_result",
          "data": {
            "text/plain": [
              "{'dialogue_id': 'PMUL3490.json',\n",
              " 'services': ['taxi', 'attraction', 'hotel'],\n",
              " 'turns': [{'frames': [{'actions': [],\n",
              "     'service': 'taxi',\n",
              "     'slots': [],\n",
              "     'state': {'active_intent': 'NONE',\n",
              "      'requested_slots': [],\n",
              "      'slot_values': {}}},\n",
              "    {'actions': [],\n",
              "     'service': 'train',\n",
              "     'slots': [],\n",
              "     'state': {'active_intent': 'NONE',\n",
              "      'requested_slots': [],\n",
              "      'slot_values': {}}},\n",
              "    {'actions': [],\n",
              "     'service': 'bus',\n",
              "     'slots': [],\n",
              "     'state': {'active_intent': 'NONE',\n",
              "      'requested_slots': [],\n",
              "      'slot_values': {}}},\n",
              "    {'actions': [],\n",
              "     'service': 'police',\n",
              "     'slots': [],\n",
              "     'state': {'active_intent': 'NONE',\n",
              "      'requested_slots': [],\n",
              "      'slot_values': {}}},\n",
              "    {'actions': [],\n",
              "     'service': 'hotel',\n",
              "     'slots': [],\n",
              "     'state': {'active_intent': 'find_hotel',\n",
              "      'requested_slots': [],\n",
              "      'slot_values': {}}},\n",
              "    {'actions': [],\n",
              "     'service': 'restaurant',\n",
              "     'slots': [],\n",
              "     'state': {'active_intent': 'NONE',\n",
              "      'requested_slots': [],\n",
              "      'slot_values': {}}},\n",
              "    {'actions': [],\n",
              "     'service': 'attraction',\n",
              "     'slots': [],\n",
              "     'state': {'active_intent': 'NONE',\n",
              "      'requested_slots': [],\n",
              "      'slot_values': {}}},\n",
              "    {'actions': [],\n",
              "     'service': 'hospital',\n",
              "     'slots': [],\n",
              "     'state': {'active_intent': 'NONE',\n",
              "      'requested_slots': [],\n",
              "      'slot_values': {}}}],\n",
              "   'speaker': 'USER',\n",
              "   'turn_id': '0',\n",
              "   'utterance': \"I am looking for information. Can you help me with a place to stay while I'm in town?\"},\n",
              "  {'frames': [],\n",
              "   'speaker': 'SYSTEM',\n",
              "   'turn_id': '1',\n",
              "   'utterance': 'I can help you. Which part of town?'},\n",
              "  {'frames': [{'actions': [],\n",
              "     'service': 'hotel',\n",
              "     'slots': [],\n",
              "     'state': {'active_intent': 'find_hotel',\n",
              "      'requested_slots': [],\n",
              "      'slot_values': {'hotel-area': ['north'],\n",
              "       'hotel-parking': ['yes'],\n",
              "       'hotel-stars': ['4']}}},\n",
              "    {'actions': [],\n",
              "     'service': 'taxi',\n",
              "     'slots': [],\n",
              "     'state': {'active_intent': 'NONE',\n",
              "      'requested_slots': [],\n",
              "      'slot_values': {}}},\n",
              "    {'actions': [],\n",
              "     'service': 'train',\n",
              "     'slots': [],\n",
              "     'state': {'active_intent': 'NONE',\n",
              "      'requested_slots': [],\n",
              "      'slot_values': {}}},\n",
              "    {'actions': [],\n",
              "     'service': 'bus',\n",
              "     'slots': [],\n",
              "     'state': {'active_intent': 'NONE',\n",
              "      'requested_slots': [],\n",
              "      'slot_values': {}}},\n",
              "    {'actions': [],\n",
              "     'service': 'police',\n",
              "     'slots': [],\n",
              "     'state': {'active_intent': 'NONE',\n",
              "      'requested_slots': [],\n",
              "      'slot_values': {}}},\n",
              "    {'actions': [],\n",
              "     'service': 'restaurant',\n",
              "     'slots': [],\n",
              "     'state': {'active_intent': 'NONE',\n",
              "      'requested_slots': [],\n",
              "      'slot_values': {}}},\n",
              "    {'actions': [],\n",
              "     'service': 'attraction',\n",
              "     'slots': [],\n",
              "     'state': {'active_intent': 'find_attraction',\n",
              "      'requested_slots': [],\n",
              "      'slot_values': {}}},\n",
              "    {'actions': [],\n",
              "     'service': 'hospital',\n",
              "     'slots': [],\n",
              "     'state': {'active_intent': 'NONE',\n",
              "      'requested_slots': [],\n",
              "      'slot_values': {}}}],\n",
              "   'speaker': 'USER',\n",
              "   'turn_id': '2',\n",
              "   'utterance': 'The North part of town is where I want to go and include free parking and should have a star of 4'},\n",
              "  {'frames': [{'actions': [],\n",
              "     'service': 'hotel',\n",
              "     'slots': [{'exclusive_end': 37,\n",
              "       'slot': 'hotel-name',\n",
              "       'start': 20,\n",
              "       'value': 'Acorn Guest House'}]}],\n",
              "   'speaker': 'SYSTEM',\n",
              "   'turn_id': '3',\n",
              "   'utterance': \"Okay, how about the Acorn Guest House? It's located on 154 chesterton road. Would you like me to make a reservation?\"},\n",
              "  {'frames': [{'actions': [],\n",
              "     'service': 'hotel',\n",
              "     'slots': [],\n",
              "     'state': {'active_intent': 'book_hotel',\n",
              "      'requested_slots': [],\n",
              "      'slot_values': {'hotel-area': ['north'],\n",
              "       'hotel-bookday': ['sunday'],\n",
              "       'hotel-bookpeople': ['3'],\n",
              "       'hotel-bookstay': ['4'],\n",
              "       'hotel-name': ['acorn guest house'],\n",
              "       'hotel-parking': ['yes'],\n",
              "       'hotel-stars': ['4']}}},\n",
              "    {'actions': [],\n",
              "     'service': 'taxi',\n",
              "     'slots': [],\n",
              "     'state': {'active_intent': 'NONE',\n",
              "      'requested_slots': [],\n",
              "      'slot_values': {}}},\n",
              "    {'actions': [],\n",
              "     'service': 'train',\n",
              "     'slots': [],\n",
              "     'state': {'active_intent': 'NONE',\n",
              "      'requested_slots': [],\n",
              "      'slot_values': {}}},\n",
              "    {'actions': [],\n",
              "     'service': 'bus',\n",
              "     'slots': [],\n",
              "     'state': {'active_intent': 'NONE',\n",
              "      'requested_slots': [],\n",
              "      'slot_values': {}}},\n",
              "    {'actions': [],\n",
              "     'service': 'police',\n",
              "     'slots': [],\n",
              "     'state': {'active_intent': 'NONE',\n",
              "      'requested_slots': [],\n",
              "      'slot_values': {}}},\n",
              "    {'actions': [],\n",
              "     'service': 'restaurant',\n",
              "     'slots': [],\n",
              "     'state': {'active_intent': 'NONE',\n",
              "      'requested_slots': [],\n",
              "      'slot_values': {}}},\n",
              "    {'actions': [],\n",
              "     'service': 'attraction',\n",
              "     'slots': [],\n",
              "     'state': {'active_intent': 'NONE',\n",
              "      'requested_slots': [],\n",
              "      'slot_values': {}}},\n",
              "    {'actions': [],\n",
              "     'service': 'hospital',\n",
              "     'slots': [],\n",
              "     'state': {'active_intent': 'NONE',\n",
              "      'requested_slots': [],\n",
              "      'slot_values': {}}}],\n",
              "   'speaker': 'USER',\n",
              "   'turn_id': '4',\n",
              "   'utterance': 'That sounds perfect. I need a room for 3 people and 4 nights starting from sunday.'},\n",
              "  {'frames': [],\n",
              "   'speaker': 'SYSTEM',\n",
              "   'turn_id': '5',\n",
              "   'utterance': 'The booking was successful. You have a reservation for 3 people, staying 4 nights a Acorn Guest House starting on Sunday. Your Reference number is : Z45I87LD .'},\n",
              "  {'frames': [{'actions': [],\n",
              "     'service': 'hotel',\n",
              "     'slots': [],\n",
              "     'state': {'active_intent': 'NONE',\n",
              "      'requested_slots': [],\n",
              "      'slot_values': {'hotel-area': ['north'],\n",
              "       'hotel-bookday': ['sunday'],\n",
              "       'hotel-bookpeople': ['3'],\n",
              "       'hotel-bookstay': ['4'],\n",
              "       'hotel-name': ['acorn guest house'],\n",
              "       'hotel-parking': ['yes'],\n",
              "       'hotel-stars': ['4']}}},\n",
              "    {'actions': [],\n",
              "     'service': 'attraction',\n",
              "     'slots': [],\n",
              "     'state': {'active_intent': 'find_attraction',\n",
              "      'requested_slots': [],\n",
              "      'slot_values': {'attraction-area': ['north'],\n",
              "       'attraction-type': ['swimmingpool']}}},\n",
              "    {'actions': [],\n",
              "     'service': 'train',\n",
              "     'slots': [],\n",
              "     'state': {'active_intent': 'NONE',\n",
              "      'requested_slots': [],\n",
              "      'slot_values': {}}},\n",
              "    {'actions': [],\n",
              "     'service': 'bus',\n",
              "     'slots': [],\n",
              "     'state': {'active_intent': 'NONE',\n",
              "      'requested_slots': [],\n",
              "      'slot_values': {}}},\n",
              "    {'actions': [],\n",
              "     'service': 'police',\n",
              "     'slots': [],\n",
              "     'state': {'active_intent': 'NONE',\n",
              "      'requested_slots': [],\n",
              "      'slot_values': {}}},\n",
              "    {'actions': [],\n",
              "     'service': 'restaurant',\n",
              "     'slots': [],\n",
              "     'state': {'active_intent': 'NONE',\n",
              "      'requested_slots': [],\n",
              "      'slot_values': {}}},\n",
              "    {'actions': [],\n",
              "     'service': 'taxi',\n",
              "     'slots': [],\n",
              "     'state': {'active_intent': 'NONE',\n",
              "      'requested_slots': [],\n",
              "      'slot_values': {}}},\n",
              "    {'actions': [],\n",
              "     'service': 'hospital',\n",
              "     'slots': [],\n",
              "     'state': {'active_intent': 'NONE',\n",
              "      'requested_slots': [],\n",
              "      'slot_values': {}}}],\n",
              "   'speaker': 'USER',\n",
              "   'turn_id': '6',\n",
              "   'utterance': 'Thank you! I also need a swimming pool in the north area of Cambridge.'},\n",
              "  {'frames': [{'actions': [],\n",
              "     'service': 'attraction',\n",
              "     'slots': [{'exclusive_end': 38,\n",
              "       'slot': 'attraction-name',\n",
              "       'start': 14,\n",
              "       'value': 'jesus green outdoor pool'}]}],\n",
              "   'speaker': 'SYSTEM',\n",
              "   'turn_id': '7',\n",
              "   'utterance': \"I'd recommend jesus green outdoor pool. Would you like more information?\"},\n",
              "  {'frames': [{'actions': [],\n",
              "     'service': 'hotel',\n",
              "     'slots': [],\n",
              "     'state': {'active_intent': 'NONE',\n",
              "      'requested_slots': [],\n",
              "      'slot_values': {'hotel-area': ['north'],\n",
              "       'hotel-bookday': ['sunday'],\n",
              "       'hotel-bookpeople': ['3'],\n",
              "       'hotel-bookstay': ['4'],\n",
              "       'hotel-name': ['acorn guest house'],\n",
              "       'hotel-parking': ['yes'],\n",
              "       'hotel-stars': ['4']}}},\n",
              "    {'actions': [],\n",
              "     'service': 'attraction',\n",
              "     'slots': [],\n",
              "     'state': {'active_intent': 'find_attraction',\n",
              "      'requested_slots': ['attraction-address',\n",
              "       'attraction-postcode',\n",
              "       'attraction-phone'],\n",
              "      'slot_values': {'attraction-area': ['north'],\n",
              "       'attraction-name': ['jesus green outdoor pool'],\n",
              "       'attraction-type': ['swimmingpool']}}},\n",
              "    {'actions': [],\n",
              "     'service': 'train',\n",
              "     'slots': [],\n",
              "     'state': {'active_intent': 'NONE',\n",
              "      'requested_slots': [],\n",
              "      'slot_values': {}}},\n",
              "    {'actions': [],\n",
              "     'service': 'bus',\n",
              "     'slots': [],\n",
              "     'state': {'active_intent': 'NONE',\n",
              "      'requested_slots': [],\n",
              "      'slot_values': {}}},\n",
              "    {'actions': [],\n",
              "     'service': 'police',\n",
              "     'slots': [],\n",
              "     'state': {'active_intent': 'NONE',\n",
              "      'requested_slots': [],\n",
              "      'slot_values': {}}},\n",
              "    {'actions': [],\n",
              "     'service': 'restaurant',\n",
              "     'slots': [],\n",
              "     'state': {'active_intent': 'NONE',\n",
              "      'requested_slots': [],\n",
              "      'slot_values': {}}},\n",
              "    {'actions': [],\n",
              "     'service': 'taxi',\n",
              "     'slots': [],\n",
              "     'state': {'active_intent': 'NONE',\n",
              "      'requested_slots': [],\n",
              "      'slot_values': {}}},\n",
              "    {'actions': [],\n",
              "     'service': 'hospital',\n",
              "     'slots': [],\n",
              "     'state': {'active_intent': 'NONE',\n",
              "      'requested_slots': [],\n",
              "      'slot_values': {}}}],\n",
              "   'speaker': 'USER',\n",
              "   'turn_id': '8',\n",
              "   'utterance': 'Can you please provide me with the address, postcode and phone number?'},\n",
              "  {'frames': [],\n",
              "   'speaker': 'SYSTEM',\n",
              "   'turn_id': '9',\n",
              "   'utterance': 'Sure! The address is between victoria road and the river, the postcode is cb43px, and the phone number is 01223302579.'},\n",
              "  {'frames': [{'actions': [],\n",
              "     'service': 'taxi',\n",
              "     'slots': [{'copy_from': 'attraction-name',\n",
              "       'slot': 'taxi-destination',\n",
              "       'value': ['jesus green outdoor pool']},\n",
              "      {'copy_from': 'hotel-name',\n",
              "       'slot': 'taxi-departure',\n",
              "       'value': ['acorn guest house']}],\n",
              "     'state': {'active_intent': 'find_taxi',\n",
              "      'requested_slots': [],\n",
              "      'slot_values': {'taxi-departure': ['acorn guest house'],\n",
              "       'taxi-destination': ['jesus green outdoor pool']}}},\n",
              "    {'actions': [],\n",
              "     'service': 'hotel',\n",
              "     'slots': [],\n",
              "     'state': {'active_intent': 'book_hotel',\n",
              "      'requested_slots': [],\n",
              "      'slot_values': {'hotel-area': ['north'],\n",
              "       'hotel-bookday': ['sunday'],\n",
              "       'hotel-bookpeople': ['3'],\n",
              "       'hotel-bookstay': ['4'],\n",
              "       'hotel-name': ['acorn guest house'],\n",
              "       'hotel-parking': ['yes'],\n",
              "       'hotel-stars': ['4']}}},\n",
              "    {'actions': [],\n",
              "     'service': 'attraction',\n",
              "     'slots': [],\n",
              "     'state': {'active_intent': 'NONE',\n",
              "      'requested_slots': [],\n",
              "      'slot_values': {'attraction-area': ['north'],\n",
              "       'attraction-name': ['jesus green outdoor pool'],\n",
              "       'attraction-type': ['swimmingpool']}}},\n",
              "    {'actions': [],\n",
              "     'service': 'bus',\n",
              "     'slots': [],\n",
              "     'state': {'active_intent': 'NONE',\n",
              "      'requested_slots': [],\n",
              "      'slot_values': {}}},\n",
              "    {'actions': [],\n",
              "     'service': 'police',\n",
              "     'slots': [],\n",
              "     'state': {'active_intent': 'NONE',\n",
              "      'requested_slots': [],\n",
              "      'slot_values': {}}},\n",
              "    {'actions': [],\n",
              "     'service': 'restaurant',\n",
              "     'slots': [],\n",
              "     'state': {'active_intent': 'NONE',\n",
              "      'requested_slots': [],\n",
              "      'slot_values': {}}},\n",
              "    {'actions': [],\n",
              "     'service': 'train',\n",
              "     'slots': [],\n",
              "     'state': {'active_intent': 'NONE',\n",
              "      'requested_slots': [],\n",
              "      'slot_values': {}}},\n",
              "    {'actions': [],\n",
              "     'service': 'hospital',\n",
              "     'slots': [],\n",
              "     'state': {'active_intent': 'NONE',\n",
              "      'requested_slots': [],\n",
              "      'slot_values': {}}}],\n",
              "   'speaker': 'USER',\n",
              "   'turn_id': '10',\n",
              "   'utterance': 'Lastly a taxi from the hotel to the pool please.'},\n",
              "  {'frames': [],\n",
              "   'speaker': 'SYSTEM',\n",
              "   'turn_id': '11',\n",
              "   'utterance': 'Do you have a arrival time in mind ?'},\n",
              "  {'frames': [{'actions': [],\n",
              "     'service': 'taxi',\n",
              "     'slots': [{'exclusive_end': 37,\n",
              "       'slot': 'taxi-leaveat',\n",
              "       'start': 32,\n",
              "       'value': '10:30'}],\n",
              "     'state': {'active_intent': 'find_taxi',\n",
              "      'requested_slots': [],\n",
              "      'slot_values': {'taxi-departure': ['acorn guest house'],\n",
              "       'taxi-destination': ['jesus green outdoor pool'],\n",
              "       'taxi-leaveat': ['10:30']}}},\n",
              "    {'actions': [],\n",
              "     'service': 'hotel',\n",
              "     'slots': [],\n",
              "     'state': {'active_intent': 'NONE',\n",
              "      'requested_slots': [],\n",
              "      'slot_values': {'hotel-area': ['north'],\n",
              "       'hotel-bookday': ['sunday'],\n",
              "       'hotel-bookpeople': ['3'],\n",
              "       'hotel-bookstay': ['4'],\n",
              "       'hotel-name': ['acorn guest house'],\n",
              "       'hotel-parking': ['yes'],\n",
              "       'hotel-stars': ['4']}}},\n",
              "    {'actions': [],\n",
              "     'service': 'attraction',\n",
              "     'slots': [],\n",
              "     'state': {'active_intent': 'NONE',\n",
              "      'requested_slots': [],\n",
              "      'slot_values': {'attraction-area': ['north'],\n",
              "       'attraction-name': ['jesus green outdoor pool'],\n",
              "       'attraction-type': ['swimmingpool']}}},\n",
              "    {'actions': [],\n",
              "     'service': 'bus',\n",
              "     'slots': [],\n",
              "     'state': {'active_intent': 'NONE',\n",
              "      'requested_slots': [],\n",
              "      'slot_values': {}}},\n",
              "    {'actions': [],\n",
              "     'service': 'police',\n",
              "     'slots': [],\n",
              "     'state': {'active_intent': 'NONE',\n",
              "      'requested_slots': [],\n",
              "      'slot_values': {}}},\n",
              "    {'actions': [],\n",
              "     'service': 'restaurant',\n",
              "     'slots': [],\n",
              "     'state': {'active_intent': 'NONE',\n",
              "      'requested_slots': [],\n",
              "      'slot_values': {}}},\n",
              "    {'actions': [],\n",
              "     'service': 'train',\n",
              "     'slots': [],\n",
              "     'state': {'active_intent': 'NONE',\n",
              "      'requested_slots': [],\n",
              "      'slot_values': {}}},\n",
              "    {'actions': [],\n",
              "     'service': 'hospital',\n",
              "     'slots': [],\n",
              "     'state': {'active_intent': 'NONE',\n",
              "      'requested_slots': [],\n",
              "      'slot_values': {}}}],\n",
              "   'speaker': 'USER',\n",
              "   'turn_id': '12',\n",
              "   'utterance': 'I want to to leave the hotel by 10:30.'},\n",
              "  {'frames': [],\n",
              "   'speaker': 'SYSTEM',\n",
              "   'turn_id': '13',\n",
              "   'utterance': 'When is your arrival time?'},\n",
              "  {'frames': [{'actions': [],\n",
              "     'service': 'taxi',\n",
              "     'slots': [{'exclusive_end': 29,\n",
              "       'slot': 'taxi-arriveby',\n",
              "       'start': 24,\n",
              "       'value': '17:00'}],\n",
              "     'state': {'active_intent': 'find_taxi',\n",
              "      'requested_slots': [],\n",
              "      'slot_values': {'taxi-arriveby': ['17:00'],\n",
              "       'taxi-departure': ['acorn guest house'],\n",
              "       'taxi-destination': ['jesus green outdoor pool'],\n",
              "       'taxi-leaveat': ['10:30']}}},\n",
              "    {'actions': [],\n",
              "     'service': 'hotel',\n",
              "     'slots': [],\n",
              "     'state': {'active_intent': 'NONE',\n",
              "      'requested_slots': [],\n",
              "      'slot_values': {'hotel-area': ['north'],\n",
              "       'hotel-bookday': ['sunday'],\n",
              "       'hotel-bookpeople': ['3'],\n",
              "       'hotel-bookstay': ['4'],\n",
              "       'hotel-name': ['acorn guest house'],\n",
              "       'hotel-parking': ['yes'],\n",
              "       'hotel-stars': ['4']}}},\n",
              "    {'actions': [],\n",
              "     'service': 'attraction',\n",
              "     'slots': [],\n",
              "     'state': {'active_intent': 'NONE',\n",
              "      'requested_slots': [],\n",
              "      'slot_values': {'attraction-area': ['north'],\n",
              "       'attraction-name': ['jesus green outdoor pool'],\n",
              "       'attraction-type': ['swimmingpool']}}},\n",
              "    {'actions': [],\n",
              "     'service': 'bus',\n",
              "     'slots': [],\n",
              "     'state': {'active_intent': 'NONE',\n",
              "      'requested_slots': [],\n",
              "      'slot_values': {}}},\n",
              "    {'actions': [],\n",
              "     'service': 'police',\n",
              "     'slots': [],\n",
              "     'state': {'active_intent': 'NONE',\n",
              "      'requested_slots': [],\n",
              "      'slot_values': {}}},\n",
              "    {'actions': [],\n",
              "     'service': 'restaurant',\n",
              "     'slots': [],\n",
              "     'state': {'active_intent': 'NONE',\n",
              "      'requested_slots': [],\n",
              "      'slot_values': {}}},\n",
              "    {'actions': [],\n",
              "     'service': 'train',\n",
              "     'slots': [],\n",
              "     'state': {'active_intent': 'NONE',\n",
              "      'requested_slots': [],\n",
              "      'slot_values': {}}},\n",
              "    {'actions': [],\n",
              "     'service': 'hospital',\n",
              "     'slots': [],\n",
              "     'state': {'active_intent': 'NONE',\n",
              "      'requested_slots': [],\n",
              "      'slot_values': {}}}],\n",
              "   'speaker': 'USER',\n",
              "   'turn_id': '14',\n",
              "   'utterance': 'My arrival time will be 17:00.'},\n",
              "  {'frames': [],\n",
              "   'speaker': 'SYSTEM',\n",
              "   'turn_id': '15',\n",
              "   'utterance': 'Your taxi have been booked for a black volvo and its contact number is 07055228719.'},\n",
              "  {'frames': [{'actions': [],\n",
              "     'service': 'taxi',\n",
              "     'slots': [],\n",
              "     'state': {'active_intent': 'NONE',\n",
              "      'requested_slots': [],\n",
              "      'slot_values': {'taxi-arriveby': ['17:00'],\n",
              "       'taxi-departure': ['acorn guest house'],\n",
              "       'taxi-destination': ['jesus green outdoor pool'],\n",
              "       'taxi-leaveat': ['10:30']}}},\n",
              "    {'actions': [],\n",
              "     'service': 'hotel',\n",
              "     'slots': [],\n",
              "     'state': {'active_intent': 'NONE',\n",
              "      'requested_slots': [],\n",
              "      'slot_values': {'hotel-area': ['north'],\n",
              "       'hotel-bookday': ['sunday'],\n",
              "       'hotel-bookpeople': ['3'],\n",
              "       'hotel-bookstay': ['4'],\n",
              "       'hotel-name': ['acorn guest house'],\n",
              "       'hotel-parking': ['yes'],\n",
              "       'hotel-stars': ['4']}}},\n",
              "    {'actions': [],\n",
              "     'service': 'attraction',\n",
              "     'slots': [],\n",
              "     'state': {'active_intent': 'NONE',\n",
              "      'requested_slots': [],\n",
              "      'slot_values': {'attraction-area': ['north'],\n",
              "       'attraction-name': ['jesus green outdoor pool'],\n",
              "       'attraction-type': ['swimmingpool']}}},\n",
              "    {'actions': [],\n",
              "     'service': 'bus',\n",
              "     'slots': [],\n",
              "     'state': {'active_intent': 'NONE',\n",
              "      'requested_slots': [],\n",
              "      'slot_values': {}}},\n",
              "    {'actions': [],\n",
              "     'service': 'police',\n",
              "     'slots': [],\n",
              "     'state': {'active_intent': 'NONE',\n",
              "      'requested_slots': [],\n",
              "      'slot_values': {}}},\n",
              "    {'actions': [],\n",
              "     'service': 'restaurant',\n",
              "     'slots': [],\n",
              "     'state': {'active_intent': 'NONE',\n",
              "      'requested_slots': [],\n",
              "      'slot_values': {}}},\n",
              "    {'actions': [],\n",
              "     'service': 'train',\n",
              "     'slots': [],\n",
              "     'state': {'active_intent': 'NONE',\n",
              "      'requested_slots': [],\n",
              "      'slot_values': {}}},\n",
              "    {'actions': [],\n",
              "     'service': 'hospital',\n",
              "     'slots': [],\n",
              "     'state': {'active_intent': 'NONE',\n",
              "      'requested_slots': [],\n",
              "      'slot_values': {}}}],\n",
              "   'speaker': 'USER',\n",
              "   'turn_id': '16',\n",
              "   'utterance': 'Thanks. That is all for today.'},\n",
              "  {'frames': [],\n",
              "   'speaker': 'SYSTEM',\n",
              "   'turn_id': '17',\n",
              "   'utterance': 'thanks for inquiring with us and have a great day'},\n",
              "  {'frames': [{'actions': [],\n",
              "     'service': 'taxi',\n",
              "     'slots': [],\n",
              "     'state': {'active_intent': 'NONE',\n",
              "      'requested_slots': [],\n",
              "      'slot_values': {'taxi-arriveby': ['17:00'],\n",
              "       'taxi-departure': ['acorn guest house'],\n",
              "       'taxi-destination': ['jesus green outdoor pool'],\n",
              "       'taxi-leaveat': ['10:30']}}},\n",
              "    {'actions': [],\n",
              "     'service': 'hotel',\n",
              "     'slots': [],\n",
              "     'state': {'active_intent': 'NONE',\n",
              "      'requested_slots': [],\n",
              "      'slot_values': {'hotel-area': ['north'],\n",
              "       'hotel-bookday': ['sunday'],\n",
              "       'hotel-bookpeople': ['3'],\n",
              "       'hotel-bookstay': ['4'],\n",
              "       'hotel-name': ['acorn guest house'],\n",
              "       'hotel-parking': ['yes'],\n",
              "       'hotel-stars': ['4']}}},\n",
              "    {'actions': [],\n",
              "     'service': 'attraction',\n",
              "     'slots': [],\n",
              "     'state': {'active_intent': 'NONE',\n",
              "      'requested_slots': [],\n",
              "      'slot_values': {'attraction-area': ['north'],\n",
              "       'attraction-name': ['jesus green outdoor pool'],\n",
              "       'attraction-type': ['swimmingpool']}}},\n",
              "    {'actions': [],\n",
              "     'service': 'bus',\n",
              "     'slots': [],\n",
              "     'state': {'active_intent': 'NONE',\n",
              "      'requested_slots': [],\n",
              "      'slot_values': {}}},\n",
              "    {'actions': [],\n",
              "     'service': 'police',\n",
              "     'slots': [],\n",
              "     'state': {'active_intent': 'NONE',\n",
              "      'requested_slots': [],\n",
              "      'slot_values': {}}},\n",
              "    {'actions': [],\n",
              "     'service': 'restaurant',\n",
              "     'slots': [],\n",
              "     'state': {'active_intent': 'NONE',\n",
              "      'requested_slots': [],\n",
              "      'slot_values': {}}},\n",
              "    {'actions': [],\n",
              "     'service': 'train',\n",
              "     'slots': [],\n",
              "     'state': {'active_intent': 'NONE',\n",
              "      'requested_slots': [],\n",
              "      'slot_values': {}}},\n",
              "    {'actions': [],\n",
              "     'service': 'hospital',\n",
              "     'slots': [],\n",
              "     'state': {'active_intent': 'NONE',\n",
              "      'requested_slots': [],\n",
              "      'slot_values': {}}}],\n",
              "   'speaker': 'USER',\n",
              "   'turn_id': '18',\n",
              "   'utterance': 'Thanks. I hope your day is good too.'},\n",
              "  {'frames': [],\n",
              "   'speaker': 'SYSTEM',\n",
              "   'turn_id': '19',\n",
              "   'utterance': 'it sure is. thanks.'},\n",
              "  {'frames': [{'actions': [],\n",
              "     'service': 'taxi',\n",
              "     'slots': [],\n",
              "     'state': {'active_intent': 'NONE',\n",
              "      'requested_slots': [],\n",
              "      'slot_values': {'taxi-arriveby': ['17:00'],\n",
              "       'taxi-departure': ['acorn guest house'],\n",
              "       'taxi-destination': ['jesus green outdoor pool'],\n",
              "       'taxi-leaveat': ['10:30']}}},\n",
              "    {'actions': [],\n",
              "     'service': 'hotel',\n",
              "     'slots': [],\n",
              "     'state': {'active_intent': 'NONE',\n",
              "      'requested_slots': [],\n",
              "      'slot_values': {'hotel-area': ['north'],\n",
              "       'hotel-bookday': ['sunday'],\n",
              "       'hotel-bookpeople': ['3'],\n",
              "       'hotel-bookstay': ['4'],\n",
              "       'hotel-name': ['acorn guest house'],\n",
              "       'hotel-parking': ['yes'],\n",
              "       'hotel-stars': ['4']}}},\n",
              "    {'actions': [],\n",
              "     'service': 'attraction',\n",
              "     'slots': [],\n",
              "     'state': {'active_intent': 'NONE',\n",
              "      'requested_slots': [],\n",
              "      'slot_values': {'attraction-area': ['north'],\n",
              "       'attraction-name': ['jesus green outdoor pool'],\n",
              "       'attraction-type': ['swimmingpool']}}},\n",
              "    {'actions': [],\n",
              "     'service': 'bus',\n",
              "     'slots': [],\n",
              "     'state': {'active_intent': 'NONE',\n",
              "      'requested_slots': [],\n",
              "      'slot_values': {}}},\n",
              "    {'actions': [],\n",
              "     'service': 'police',\n",
              "     'slots': [],\n",
              "     'state': {'active_intent': 'NONE',\n",
              "      'requested_slots': [],\n",
              "      'slot_values': {}}},\n",
              "    {'actions': [],\n",
              "     'service': 'restaurant',\n",
              "     'slots': [],\n",
              "     'state': {'active_intent': 'NONE',\n",
              "      'requested_slots': [],\n",
              "      'slot_values': {}}},\n",
              "    {'actions': [],\n",
              "     'service': 'train',\n",
              "     'slots': [],\n",
              "     'state': {'active_intent': 'NONE',\n",
              "      'requested_slots': [],\n",
              "      'slot_values': {}}},\n",
              "    {'actions': [],\n",
              "     'service': 'hospital',\n",
              "     'slots': [],\n",
              "     'state': {'active_intent': 'NONE',\n",
              "      'requested_slots': [],\n",
              "      'slot_values': {}}}],\n",
              "   'speaker': 'USER',\n",
              "   'turn_id': '20',\n",
              "   'utterance': \"Good. Glad to hear it. You can end this conversation now. I don't need anything else.\"},\n",
              "  {'frames': [],\n",
              "   'speaker': 'SYSTEM',\n",
              "   'turn_id': '21',\n",
              "   'utterance': 'Thank you for using our service.'}]}"
            ]
          },
          "metadata": {},
          "execution_count": 157
        }
      ]
    },
    {
      "cell_type": "code",
      "source": [
        "res = translated2json(translated, data[4])"
      ],
      "metadata": {
        "id": "InQdfF-bktTv"
      },
      "execution_count": 148,
      "outputs": []
    },
    {
      "cell_type": "code",
      "source": [
        "res"
      ],
      "metadata": {
        "id": "_YRs8J5ArFRV"
      },
      "execution_count": null,
      "outputs": []
    },
    {
      "cell_type": "code",
      "metadata": {
        "id": "wczButjinYj8"
      },
      "source": [
        "translated_json = []\n",
        "for i in range(len(translated)):\n",
        "    translated_json.append(res)\n",
        "    \n",
        "with open(\"dialogues_001_russian.json\", \"w\", encoding='utf-8') as f:\n",
        "    json.dump(translated_json, f, indent=2, ensure_ascii=False)"
      ],
      "execution_count": 150,
      "outputs": []
    }
  ]
}