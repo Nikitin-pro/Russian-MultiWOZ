{
  "nbformat": 4,
  "nbformat_minor": 0,
  "metadata": {
    "colab": {
      "name": "DialogueCorpus_v_2 (3).ipynb",
      "provenance": [],
      "collapsed_sections": []
    },
    "kernelspec": {
      "display_name": "Python 3",
      "language": "python",
      "name": "python3"
    },
    "language_info": {
      "codemirror_mode": {
        "name": "ipython",
        "version": 3
      },
      "file_extension": ".py",
      "mimetype": "text/x-python",
      "name": "python",
      "nbconvert_exporter": "python",
      "pygments_lexer": "ipython3",
      "version": "3.7.0"
    }
  },
  "cells": [
    {
      "cell_type": "code",
      "metadata": {
        "colab": {
          "base_uri": "https://localhost:8080/"
        },
        "id": "z3VpcqldpPKZ",
        "outputId": "68123e6a-f924-4d99-bc41-6bac4652b48c"
      },
      "source": [
        "!pip install -q rich"
      ],
      "execution_count": null,
      "outputs": [
        {
          "output_type": "stream",
          "text": [
            "\u001b[K     |████████████████████████████████| 204kB 7.1MB/s \n",
            "\u001b[K     |████████████████████████████████| 51kB 4.9MB/s \n",
            "\u001b[?25h"
          ],
          "name": "stdout"
        }
      ]
    },
    {
      "cell_type": "code",
      "metadata": {
        "colab": {
          "base_uri": "https://localhost:8080/"
        },
        "id": "5eJoEBz3p4uI",
        "outputId": "00413498-f766-44c4-8a50-44c60e0fd94c"
      },
      "source": [
        "!wget https://raw.githubusercontent.com/budzianowski/multiwoz/master/data/MultiWOZ_2.2/dev/dialogues_002.json"
      ],
      "execution_count": 209,
      "outputs": [
        {
          "output_type": "stream",
          "text": [
            "--2021-05-15 13:12:28--  https://raw.githubusercontent.com/budzianowski/multiwoz/master/data/MultiWOZ_2.2/dev/dialogues_002.json\n",
            "Resolving raw.githubusercontent.com (raw.githubusercontent.com)... 185.199.108.133, 185.199.109.133, 185.199.110.133, ...\n",
            "Connecting to raw.githubusercontent.com (raw.githubusercontent.com)|185.199.108.133|:443... connected.\n",
            "HTTP request sent, awaiting response... 200 OK\n",
            "Length: 10708830 (10M) [text/plain]\n",
            "Saving to: ‘dialogues_002.json’\n",
            "\n",
            "dialogues_002.json  100%[===================>]  10.21M  34.7MB/s    in 0.3s    \n",
            "\n",
            "2021-05-15 13:12:29 (34.7 MB/s) - ‘dialogues_002.json’ saved [10708830/10708830]\n",
            "\n"
          ],
          "name": "stdout"
        }
      ]
    },
    {
      "cell_type": "code",
      "metadata": {
        "id": "zXmLBxSvJ-6R"
      },
      "source": [
        ""
      ],
      "execution_count": null,
      "outputs": []
    },
    {
      "cell_type": "code",
      "metadata": {
        "id": "b3CKM3XMrW7X"
      },
      "source": [
        "from rich import print\n",
        "import json\n",
        "import copy"
      ],
      "execution_count": 243,
      "outputs": []
    },
    {
      "cell_type": "code",
      "metadata": {
        "id": "AY-z2TJkrash"
      },
      "source": [
        "with open('/content/dialogues_001.json.2', 'r', encoding='utf-8') as f:\n",
        "  data = json.load(f)"
      ],
      "execution_count": 264,
      "outputs": []
    },
    {
      "cell_type": "code",
      "metadata": {
        "id": "SnfSN9_TrkHr"
      },
      "source": [
        "original_data = copy.deepcopy(data)"
      ],
      "execution_count": 265,
      "outputs": []
    },
    {
      "cell_type": "code",
      "metadata": {
        "id": "CyL2TwxcruOD"
      },
      "source": [
        "def json2txt(dialogue):\n",
        "    result = []\n",
        "    for turn in dialogue['turns']:\n",
        "        markup = []\n",
        "        for frame in turn['frames']:\n",
        "            slots = filter(lambda x: \"start\" in x, frame['slots']) # we need only slots with start/excl_end keys\n",
        "            markup += slots\n",
        "\n",
        "        markup = sorted(markup, key=lambda x: x['start'])\n",
        "\n",
        "        text = turn['utterance']\n",
        "        offset = 0\n",
        "        for slot in markup:\n",
        "            pre = text[:slot['start']+offset]\n",
        "            target = text[slot['start']+offset:slot['exclusive_end']+offset]\n",
        "            post = text[slot['exclusive_end']+offset:]\n",
        "            text = f\"{pre}[{target}]{post}\"\n",
        "            offset += 2\n",
        "\n",
        "        result.append(text)\n",
        "\n",
        "    return result"
      ],
      "execution_count": 266,
      "outputs": []
    },
    {
      "cell_type": "code",
      "metadata": {
        "colab": {
          "base_uri": "https://localhost:8080/",
          "height": 323
        },
        "id": "-zc05_1-yndQ",
        "outputId": "35fc9403-aaf7-4781-9c66-f44e95997aea"
      },
      "source": [
        "print(json2txt(data[0]))"
      ],
      "execution_count": 267,
      "outputs": [
        {
          "output_type": "display_data",
          "data": {
            "text/html": [
              "<pre style=\"white-space:pre;overflow-x:auto;line-height:normal;font-family:Menlo,'DejaVu Sans Mono',consolas,'Courier New',monospace\"><span style=\"font-weight: bold\">[</span>\n",
              "    <span style=\"color: #008000; text-decoration-color: #008000\">\"I'm looking for a local place to dine in the centre that serves [chinese] food.\"</span>,\n",
              "    <span style=\"color: #008000; text-decoration-color: #008000\">'I have restaurants matching your criteria in all price ranges. Do you have a preference </span>\n",
              "<span style=\"color: #008000; text-decoration-color: #008000\">on price?'</span>,\n",
              "    <span style=\"color: #008000; text-decoration-color: #008000\">'I need the address, postcode and the price range.'</span>,\n",
              "    <span style=\"color: #008000; text-decoration-color: #008000\">'Ok how about Charlie Chan, located at Regent Street City Centre. Postcode is cb21db with</span>\n",
              "<span style=\"color: #008000; text-decoration-color: #008000\">a cheap price. Can I help you further today?'</span>,\n",
              "    <span style=\"color: #008000; text-decoration-color: #008000\">'I also need a train. The train should leave after [16:15] and should leave on sunday.'</span>,\n",
              "    <span style=\"color: #008000; text-decoration-color: #008000\">\"Can I have more information for the train you're needing? Where are you departing from </span>\n",
              "<span style=\"color: #008000; text-decoration-color: #008000\">and arriving to?\"</span>,\n",
              "    <span style=\"color: #008000; text-decoration-color: #008000\">'I am leaving from Cambridge and going to Norwich.'</span>,\n",
              "    <span style=\"color: #008000; text-decoration-color: #008000\">'I have train TR1840 leaving at 16:36 is that okay?'</span>,\n",
              "    <span style=\"color: #008000; text-decoration-color: #008000\">'book for 5 people and get me the reference number'</span>,\n",
              "    <span style=\"color: #008000; text-decoration-color: #008000\">\"You're all set. Reference number is NJB87PAP . Is there anything else I can help you </span>\n",
              "<span style=\"color: #008000; text-decoration-color: #008000\">with today?\"</span>,\n",
              "    <span style=\"color: #008000; text-decoration-color: #008000\">'No, this is all I will need. Thank you.'</span>,\n",
              "    <span style=\"color: #008000; text-decoration-color: #008000\">'Thank for calling us today. I hope you have a good trip.'</span>\n",
              "<span style=\"font-weight: bold\">]</span>\n",
              "</pre>\n"
            ],
            "text/plain": [
              "\u001b[1m[\u001b[0m\n",
              "    \u001b[32m\"I'm looking for a local place to dine in the centre that serves \u001b[0m\u001b[32m[\u001b[0m\u001b[32mchinese\u001b[0m\u001b[32m]\u001b[0m\u001b[32m food.\"\u001b[0m,\n",
              "    \u001b[32m'I have restaurants matching your criteria in all price ranges. Do you have a preference \u001b[0m\n",
              "\u001b[32mon price?'\u001b[0m,\n",
              "    \u001b[32m'I need the address, postcode and the price range.'\u001b[0m,\n",
              "    \u001b[32m'Ok how about Charlie Chan, located at Regent Street City Centre. Postcode is cb21db with\u001b[0m\n",
              "\u001b[32ma cheap price. Can I help you further today?'\u001b[0m,\n",
              "    \u001b[32m'I also need a train. The train should leave after \u001b[0m\u001b[32m[\u001b[0m\u001b[32m16:15\u001b[0m\u001b[32m]\u001b[0m\u001b[32m and should leave on sunday.'\u001b[0m,\n",
              "    \u001b[32m\"Can I have more information for the train you're needing? Where are you departing from \u001b[0m\n",
              "\u001b[32mand arriving to?\"\u001b[0m,\n",
              "    \u001b[32m'I am leaving from Cambridge and going to Norwich.'\u001b[0m,\n",
              "    \u001b[32m'I have train TR1840 leaving at 16:36 is that okay?'\u001b[0m,\n",
              "    \u001b[32m'book for 5 people and get me the reference number'\u001b[0m,\n",
              "    \u001b[32m\"You're all set. Reference number is NJB87PAP . Is there anything else I can help you \u001b[0m\n",
              "\u001b[32mwith today?\"\u001b[0m,\n",
              "    \u001b[32m'No, this is all I will need. Thank you.'\u001b[0m,\n",
              "    \u001b[32m'Thank for calling us today. I hope you have a good trip.'\u001b[0m\n",
              "\u001b[1m]\u001b[0m\n"
            ]
          },
          "metadata": {
            "tags": []
          }
        }
      ]
    },
    {
      "cell_type": "code",
      "metadata": {
        "colab": {
          "base_uri": "https://localhost:8080/"
        },
        "id": "gXY7KkMDIA7b",
        "outputId": "c5d31af5-aa23-4c34-b417-2f64468a4ef0"
      },
      "source": [
        "len(data)"
      ],
      "execution_count": 268,
      "outputs": [
        {
          "output_type": "execute_result",
          "data": {
            "text/plain": [
              "512"
            ]
          },
          "metadata": {
            "tags": []
          },
          "execution_count": 268
        }
      ]
    },
    {
      "cell_type": "code",
      "metadata": {
        "id": "3G6Dds-jugY9"
      },
      "source": [
        "accum = \"\"\n",
        "\n",
        "for x in data:\n",
        "    utts = json2txt(x)\n",
        "    text = \"\\n\".join(utts)\n",
        "    accum += text + \"\\n\\n\\n\""
      ],
      "execution_count": 269,
      "outputs": []
    },
    {
      "cell_type": "code",
      "metadata": {
        "id": "0YWROdCjyL8r"
      },
      "source": [
        "with open(\"dialogues_001.txt\", 'w', encoding='utf-8') as f:\n",
        "    f.write(accum)"
      ],
      "execution_count": 278,
      "outputs": []
    },
    {
      "cell_type": "code",
      "metadata": {
        "id": "OmnAX9jXr4QN"
      },
      "source": [
        "with open(\"/content/dialogues_0001_ru.txt\", 'r', encoding='utf-8') as f:\n",
        "    translated = f.readlines()"
      ],
      "execution_count": 279,
      "outputs": []
    },
    {
      "cell_type": "code",
      "metadata": {
        "id": "7WNtEspNAX0a"
      },
      "source": [
        "trans = ' '.join(translated)"
      ],
      "execution_count": 280,
      "outputs": []
    },
    {
      "cell_type": "code",
      "metadata": {
        "colab": {
          "base_uri": "https://localhost:8080/"
        },
        "id": "m3WyQBoi-gDU",
        "outputId": "7bc787ad-10fd-4609-a43c-7013c930258b"
      },
      "source": [
        "type(trans)"
      ],
      "execution_count": 281,
      "outputs": [
        {
          "output_type": "execute_result",
          "data": {
            "text/plain": [
              "str"
            ]
          },
          "metadata": {
            "tags": []
          },
          "execution_count": 281
        }
      ]
    },
    {
      "cell_type": "code",
      "metadata": {
        "id": "HOBmFL7w3YUr"
      },
      "source": [
        "def parse_translate(translated_text):\n",
        "    lines = translated_text.split('\\n')\n",
        "    texts = []\n",
        "    current_text = []\n",
        "    skip = False\n",
        "    for line in lines:\n",
        "        if not skip:\n",
        "            if line != ' ':\n",
        "                current_text.append(line)\n",
        "            else:\n",
        "                texts.append(current_text)\n",
        "                skip = True\n",
        "        else:\n",
        "            skip = False\n",
        "            current_text = []\n",
        "\n",
        "    return texts"
      ],
      "execution_count": 282,
      "outputs": []
    },
    {
      "cell_type": "code",
      "metadata": {
        "id": "T1zrEKUm3bdT"
      },
      "source": [
        "translated = parse_translate(trans)"
      ],
      "execution_count": 283,
      "outputs": []
    },
    {
      "cell_type": "code",
      "metadata": {
        "colab": {
          "base_uri": "https://localhost:8080/"
        },
        "id": "xd2Y9-Ie_R3x",
        "outputId": "a03ad88e-62e4-4794-dd9a-f51c7d8018ab"
      },
      "source": [
        "len(translated)"
      ],
      "execution_count": 284,
      "outputs": [
        {
          "output_type": "execute_result",
          "data": {
            "text/plain": [
              "511"
            ]
          },
          "metadata": {
            "tags": []
          },
          "execution_count": 284
        }
      ]
    },
    {
      "cell_type": "code",
      "metadata": {
        "colab": {
          "base_uri": "https://localhost:8080/",
          "height": 1000
        },
        "id": "W9jRdPu79X2E",
        "outputId": "edf0bc72-9f9f-44be-d082-90e9d1bdab87"
      },
      "source": [
        "from collections import Counter\n",
        "for idx, i in enumerate(translated):\n",
        "    for idx_i, t in enumerate(i):\n",
        "        if Counter(t)[']'] >= 2:\n",
        "            print(f\"{idx}-{idx_i}: {Counter(t)[']']}\")\n",
        "            print(t)"
      ],
      "execution_count": 285,
      "outputs": [
        {
          "output_type": "display_data",
          "data": {
            "text/html": [
              "<pre style=\"white-space:pre;overflow-x:auto;line-height:normal;font-family:Menlo,'DejaVu Sans Mono',consolas,'Courier New',monospace\"><span style=\"color: #008080; text-decoration-color: #008080; font-weight: bold\">2</span>-<span style=\"color: #008080; text-decoration-color: #008080; font-weight: bold\">0</span>: <span style=\"color: #008080; text-decoration-color: #008080; font-weight: bold\">2</span>\n",
              "</pre>\n"
            ],
            "text/plain": [
              "\u001b[1;36m2\u001b[0m-\u001b[1;36m0\u001b[0m: \u001b[1;36m2\u001b[0m\n"
            ]
          },
          "metadata": {
            "tags": []
          }
        },
        {
          "output_type": "display_data",
          "data": {
            "text/html": [
              "<pre style=\"white-space:pre;overflow-x:auto;line-height:normal;font-family:Menlo,'DejaVu Sans Mono',consolas,'Courier New',monospace\"> Мне нужно такси, чтобы приехать в <span style=\"font-weight: bold\">[</span>бистро на переулке<span style=\"font-weight: bold\">]</span> к <span style=\"font-weight: bold\">[</span><span style=\"color: #00ff00; text-decoration-color: #00ff00; font-weight: bold\">19:30</span><span style=\"font-weight: bold\">]</span>.\n",
              "</pre>\n"
            ],
            "text/plain": [
              " Мне нужно такси, чтобы приехать в \u001b[1m[\u001b[0mбистро на переулке\u001b[1m]\u001b[0m к \u001b[1m[\u001b[0m\u001b[1;92m19:30\u001b[0m\u001b[1m]\u001b[0m.\n"
            ]
          },
          "metadata": {
            "tags": []
          }
        },
        {
          "output_type": "display_data",
          "data": {
            "text/html": [
              "<pre style=\"white-space:pre;overflow-x:auto;line-height:normal;font-family:Menlo,'DejaVu Sans Mono',consolas,'Courier New',monospace\"><span style=\"color: #008080; text-decoration-color: #008080; font-weight: bold\">23</span>-<span style=\"color: #008080; text-decoration-color: #008080; font-weight: bold\">2</span>: <span style=\"color: #008080; text-decoration-color: #008080; font-weight: bold\">2</span>\n",
              "</pre>\n"
            ],
            "text/plain": [
              "\u001b[1;36m23\u001b[0m-\u001b[1;36m2\u001b[0m: \u001b[1;36m2\u001b[0m\n"
            ]
          },
          "metadata": {
            "tags": []
          }
        },
        {
          "output_type": "display_data",
          "data": {
            "text/html": [
              "<pre style=\"white-space:pre;overflow-x:auto;line-height:normal;font-family:Menlo,'DejaVu Sans Mono',consolas,'Courier New',monospace\"> Я хочу, чтобы такси было здесь в <span style=\"font-weight: bold\">[</span>одиннадцать часов утра<span style=\"font-weight: bold\">]</span>, чтобы я мог прибыть в пункт \n",
              "назначения <span style=\"font-weight: bold\">[</span>в полдень<span style=\"font-weight: bold\">]</span>.\n",
              "</pre>\n"
            ],
            "text/plain": [
              " Я хочу, чтобы такси было здесь в \u001b[1m[\u001b[0mодиннадцать часов утра\u001b[1m]\u001b[0m, чтобы я мог прибыть в пункт \n",
              "назначения \u001b[1m[\u001b[0mв полдень\u001b[1m]\u001b[0m.\n"
            ]
          },
          "metadata": {
            "tags": []
          }
        },
        {
          "output_type": "display_data",
          "data": {
            "text/html": [
              "<pre style=\"white-space:pre;overflow-x:auto;line-height:normal;font-family:Menlo,'DejaVu Sans Mono',consolas,'Courier New',monospace\"><span style=\"color: #008080; text-decoration-color: #008080; font-weight: bold\">26</span>-<span style=\"color: #008080; text-decoration-color: #008080; font-weight: bold\">8</span>: <span style=\"color: #008080; text-decoration-color: #008080; font-weight: bold\">2</span>\n",
              "</pre>\n"
            ],
            "text/plain": [
              "\u001b[1;36m26\u001b[0m-\u001b[1;36m8\u001b[0m: \u001b[1;36m2\u001b[0m\n"
            ]
          },
          "metadata": {
            "tags": []
          }
        },
        {
          "output_type": "display_data",
          "data": {
            "text/html": [
              "<pre style=\"white-space:pre;overflow-x:auto;line-height:normal;font-family:Menlo,'DejaVu Sans Mono',consolas,'Courier New',monospace\"> Я хочу заказать такси, чтобы отвезти меня из ресторана до <span style=\"font-weight: bold\">[</span>перекрестка<span style=\"font-weight: bold\">]</span> в <span style=\"font-weight: bold\">[</span><span style=\"color: #00ff00; text-decoration-color: #00ff00; font-weight: bold\">9:00</span><span style=\"font-weight: bold\">]</span>\n",
              "</pre>\n"
            ],
            "text/plain": [
              " Я хочу заказать такси, чтобы отвезти меня из ресторана до \u001b[1m[\u001b[0mперекрестка\u001b[1m]\u001b[0m в \u001b[1m[\u001b[0m\u001b[1;92m9:00\u001b[0m\u001b[1m]\u001b[0m\n"
            ]
          },
          "metadata": {
            "tags": []
          }
        },
        {
          "output_type": "display_data",
          "data": {
            "text/html": [
              "<pre style=\"white-space:pre;overflow-x:auto;line-height:normal;font-family:Menlo,'DejaVu Sans Mono',consolas,'Courier New',monospace\"><span style=\"color: #008080; text-decoration-color: #008080; font-weight: bold\">28</span>-<span style=\"color: #008080; text-decoration-color: #008080; font-weight: bold\">3</span>: <span style=\"color: #008080; text-decoration-color: #008080; font-weight: bold\">2</span>\n",
              "</pre>\n"
            ],
            "text/plain": [
              "\u001b[1;36m28\u001b[0m-\u001b[1;36m3\u001b[0m: \u001b[1;36m2\u001b[0m\n"
            ]
          },
          "metadata": {
            "tags": []
          }
        },
        {
          "output_type": "display_data",
          "data": {
            "text/html": [
              "<pre style=\"white-space:pre;overflow-x:auto;line-height:normal;font-family:Menlo,'DejaVu Sans Mono',consolas,'Courier New',monospace\"> Если вы ищете <span style=\"font-weight: bold\">[</span>британские<span style=\"font-weight: bold\">]</span> блюда, то я предлагаю <span style=\"font-weight: bold\">[</span>Cambridge Chop House<span style=\"font-weight: bold\">]</span> на <span style=\"color: #008080; text-decoration-color: #008080; font-weight: bold\">1</span> Kings Parade. \n",
              "Хотите сделать заказ?\n",
              "</pre>\n"
            ],
            "text/plain": [
              " Если вы ищете \u001b[1m[\u001b[0mбританские\u001b[1m]\u001b[0m блюда, то я предлагаю \u001b[1m[\u001b[0mCambridge Chop House\u001b[1m]\u001b[0m на \u001b[1;36m1\u001b[0m Kings Parade. \n",
              "Хотите сделать заказ?\n"
            ]
          },
          "metadata": {
            "tags": []
          }
        },
        {
          "output_type": "display_data",
          "data": {
            "text/html": [
              "<pre style=\"white-space:pre;overflow-x:auto;line-height:normal;font-family:Menlo,'DejaVu Sans Mono',consolas,'Courier New',monospace\"><span style=\"color: #008080; text-decoration-color: #008080; font-weight: bold\">44</span>-<span style=\"color: #008080; text-decoration-color: #008080; font-weight: bold\">9</span>: <span style=\"color: #008080; text-decoration-color: #008080; font-weight: bold\">2</span>\n",
              "</pre>\n"
            ],
            "text/plain": [
              "\u001b[1;36m44\u001b[0m-\u001b[1;36m9\u001b[0m: \u001b[1;36m2\u001b[0m\n"
            ]
          },
          "metadata": {
            "tags": []
          }
        },
        {
          "output_type": "display_data",
          "data": {
            "text/html": [
              "<pre style=\"white-space:pre;overflow-x:auto;line-height:normal;font-family:Menlo,'DejaVu Sans Mono',consolas,'Courier New',monospace\"> Вы любите <span style=\"font-weight: bold\">[</span>тайскую<span style=\"font-weight: bold\">]</span> еду? <span style=\"font-weight: bold\">[</span>Sala thong<span style=\"font-weight: bold\">]</span> - хороший ресторан, отвечающий вашим потребностям. \n",
              "Телефон: <span style=\"color: #008080; text-decoration-color: #008080; font-weight: bold\">01223323178</span> Почтовый индекс: cb39ey\n",
              "</pre>\n"
            ],
            "text/plain": [
              " Вы любите \u001b[1m[\u001b[0mтайскую\u001b[1m]\u001b[0m еду? \u001b[1m[\u001b[0mSala thong\u001b[1m]\u001b[0m - хороший ресторан, отвечающий вашим потребностям. \n",
              "Телефон: \u001b[1;36m01223323178\u001b[0m Почтовый индекс: cb39ey\n"
            ]
          },
          "metadata": {
            "tags": []
          }
        },
        {
          "output_type": "display_data",
          "data": {
            "text/html": [
              "<pre style=\"white-space:pre;overflow-x:auto;line-height:normal;font-family:Menlo,'DejaVu Sans Mono',consolas,'Courier New',monospace\"><span style=\"color: #008080; text-decoration-color: #008080; font-weight: bold\">48</span>-<span style=\"color: #008080; text-decoration-color: #008080; font-weight: bold\">10</span>: <span style=\"color: #008080; text-decoration-color: #008080; font-weight: bold\">3</span>\n",
              "</pre>\n"
            ],
            "text/plain": [
              "\u001b[1;36m48\u001b[0m-\u001b[1;36m10\u001b[0m: \u001b[1;36m3\u001b[0m\n"
            ]
          },
          "metadata": {
            "tags": []
          }
        },
        {
          "output_type": "display_data",
          "data": {
            "text/html": [
              "<pre style=\"white-space:pre;overflow-x:auto;line-height:normal;font-family:Menlo,'DejaVu Sans Mono',consolas,'Courier New',monospace\"> Ок, отлично. И наконец, не могли бы вы запланировать мне такси от <span style=\"font-weight: bold\">[</span>Cambridge Artworks<span style=\"font-weight: bold\">]</span> до \n",
              "<span style=\"font-weight: bold\">[</span>Pizza Hut Fen Ditton<span style=\"font-weight: bold\">]</span> на время моего бронирования <span style=\"font-weight: bold\">[</span><span style=\"color: #00ff00; text-decoration-color: #00ff00; font-weight: bold\">19:45</span><span style=\"font-weight: bold\">]</span>?\n",
              "</pre>\n"
            ],
            "text/plain": [
              " Ок, отлично. И наконец, не могли бы вы запланировать мне такси от \u001b[1m[\u001b[0mCambridge Artworks\u001b[1m]\u001b[0m до \n",
              "\u001b[1m[\u001b[0mPizza Hut Fen Ditton\u001b[1m]\u001b[0m на время моего бронирования \u001b[1m[\u001b[0m\u001b[1;92m19:45\u001b[0m\u001b[1m]\u001b[0m?\n"
            ]
          },
          "metadata": {
            "tags": []
          }
        },
        {
          "output_type": "display_data",
          "data": {
            "text/html": [
              "<pre style=\"white-space:pre;overflow-x:auto;line-height:normal;font-family:Menlo,'DejaVu Sans Mono',consolas,'Courier New',monospace\"><span style=\"color: #008080; text-decoration-color: #008080; font-weight: bold\">52</span>-<span style=\"color: #008080; text-decoration-color: #008080; font-weight: bold\">10</span>: <span style=\"color: #008080; text-decoration-color: #008080; font-weight: bold\">2</span>\n",
              "</pre>\n"
            ],
            "text/plain": [
              "\u001b[1;36m52\u001b[0m-\u001b[1;36m10\u001b[0m: \u001b[1;36m2\u001b[0m\n"
            ]
          },
          "metadata": {
            "tags": []
          }
        },
        {
          "output_type": "display_data",
          "data": {
            "text/html": [
              "<pre style=\"white-space:pre;overflow-x:auto;line-height:normal;font-family:Menlo,'DejaVu Sans Mono',consolas,'Courier New',monospace\"> Да, пожалуйста, закажите столик на двоих в <span style=\"font-weight: bold\">[</span>Фрэнки и Бенни<span style=\"font-weight: bold\">]</span> в <span style=\"font-weight: bold\">[</span><span style=\"color: #00ff00; text-decoration-color: #00ff00; font-weight: bold\">19:30</span><span style=\"font-weight: bold\">]</span> и укажите ссылочный \n",
              "номер.\n",
              "</pre>\n"
            ],
            "text/plain": [
              " Да, пожалуйста, закажите столик на двоих в \u001b[1m[\u001b[0mФрэнки и Бенни\u001b[1m]\u001b[0m в \u001b[1m[\u001b[0m\u001b[1;92m19:30\u001b[0m\u001b[1m]\u001b[0m и укажите ссылочный \n",
              "номер.\n"
            ]
          },
          "metadata": {
            "tags": []
          }
        },
        {
          "output_type": "display_data",
          "data": {
            "text/html": [
              "<pre style=\"white-space:pre;overflow-x:auto;line-height:normal;font-family:Menlo,'DejaVu Sans Mono',consolas,'Courier New',monospace\"><span style=\"color: #008080; text-decoration-color: #008080; font-weight: bold\">55</span>-<span style=\"color: #008080; text-decoration-color: #008080; font-weight: bold\">14</span>: <span style=\"color: #008080; text-decoration-color: #008080; font-weight: bold\">3</span>\n",
              "</pre>\n"
            ],
            "text/plain": [
              "\u001b[1;36m55\u001b[0m-\u001b[1;36m14\u001b[0m: \u001b[1;36m3\u001b[0m\n"
            ]
          },
          "metadata": {
            "tags": []
          }
        },
        {
          "output_type": "display_data",
          "data": {
            "text/html": [
              "<pre style=\"white-space:pre;overflow-x:auto;line-height:normal;font-family:Menlo,'DejaVu Sans Mono',consolas,'Courier New',monospace\"> Еще мне нужно такси от <span style=\"font-weight: bold\">[</span>Храма Всех Святых<span style=\"font-weight: bold\">]</span> до <span style=\"font-weight: bold\">[</span>Золотого карри<span style=\"font-weight: bold\">]</span>. Мне нужно приехать в \n",
              "ресторан к <span style=\"font-weight: bold\">[</span><span style=\"color: #00ff00; text-decoration-color: #00ff00; font-weight: bold\">13:15</span><span style=\"font-weight: bold\">]</span>.\n",
              "</pre>\n"
            ],
            "text/plain": [
              " Еще мне нужно такси от \u001b[1m[\u001b[0mХрама Всех Святых\u001b[1m]\u001b[0m до \u001b[1m[\u001b[0mЗолотого карри\u001b[1m]\u001b[0m. Мне нужно приехать в \n",
              "ресторан к \u001b[1m[\u001b[0m\u001b[1;92m13:15\u001b[0m\u001b[1m]\u001b[0m.\n"
            ]
          },
          "metadata": {
            "tags": []
          }
        },
        {
          "output_type": "display_data",
          "data": {
            "text/html": [
              "<pre style=\"white-space:pre;overflow-x:auto;line-height:normal;font-family:Menlo,'DejaVu Sans Mono',consolas,'Courier New',monospace\"><span style=\"color: #008080; text-decoration-color: #008080; font-weight: bold\">59</span>-<span style=\"color: #008080; text-decoration-color: #008080; font-weight: bold\">0</span>: <span style=\"color: #008080; text-decoration-color: #008080; font-weight: bold\">2</span>\n",
              "</pre>\n"
            ],
            "text/plain": [
              "\u001b[1;36m59\u001b[0m-\u001b[1;36m0\u001b[0m: \u001b[1;36m2\u001b[0m\n"
            ]
          },
          "metadata": {
            "tags": []
          }
        },
        {
          "output_type": "display_data",
          "data": {
            "text/html": [
              "<pre style=\"white-space:pre;overflow-x:auto;line-height:normal;font-family:Menlo,'DejaVu Sans Mono',consolas,'Courier New',monospace\"> Я хочу заказать такси на время после <span style=\"font-weight: bold\">[</span><span style=\"color: #00ff00; text-decoration-color: #00ff00; font-weight: bold\">13:15</span><span style=\"font-weight: bold\">]</span> и поеду в <span style=\"font-weight: bold\">[</span>милтон-кантри-парк<span style=\"font-weight: bold\">]</span>.\n",
              "</pre>\n"
            ],
            "text/plain": [
              " Я хочу заказать такси на время после \u001b[1m[\u001b[0m\u001b[1;92m13:15\u001b[0m\u001b[1m]\u001b[0m и поеду в \u001b[1m[\u001b[0mмилтон-кантри-парк\u001b[1m]\u001b[0m.\n"
            ]
          },
          "metadata": {
            "tags": []
          }
        },
        {
          "output_type": "display_data",
          "data": {
            "text/html": [
              "<pre style=\"white-space:pre;overflow-x:auto;line-height:normal;font-family:Menlo,'DejaVu Sans Mono',consolas,'Courier New',monospace\"><span style=\"color: #008080; text-decoration-color: #008080; font-weight: bold\">59</span>-<span style=\"color: #008080; text-decoration-color: #008080; font-weight: bold\">4</span>: <span style=\"color: #008080; text-decoration-color: #008080; font-weight: bold\">2</span>\n",
              "</pre>\n"
            ],
            "text/plain": [
              "\u001b[1;36m59\u001b[0m-\u001b[1;36m4\u001b[0m: \u001b[1;36m2\u001b[0m\n"
            ]
          },
          "metadata": {
            "tags": []
          }
        },
        {
          "output_type": "display_data",
          "data": {
            "text/html": [
              "<pre style=\"white-space:pre;overflow-x:auto;line-height:normal;font-family:Menlo,'DejaVu Sans Mono',consolas,'Courier New',monospace\"> Я уезжаю из <span style=\"font-weight: bold\">[</span>милтоновского загородного парка<span style=\"font-weight: bold\">]</span> и собираюсь в <span style=\"font-weight: bold\">[</span>гонвильский отель<span style=\"font-weight: bold\">]</span>.\n",
              "</pre>\n"
            ],
            "text/plain": [
              " Я уезжаю из \u001b[1m[\u001b[0mмилтоновского загородного парка\u001b[1m]\u001b[0m и собираюсь в \u001b[1m[\u001b[0mгонвильский отель\u001b[1m]\u001b[0m.\n"
            ]
          },
          "metadata": {
            "tags": []
          }
        },
        {
          "output_type": "display_data",
          "data": {
            "text/html": [
              "<pre style=\"white-space:pre;overflow-x:auto;line-height:normal;font-family:Menlo,'DejaVu Sans Mono',consolas,'Courier New',monospace\"><span style=\"color: #008080; text-decoration-color: #008080; font-weight: bold\">67</span>-<span style=\"color: #008080; text-decoration-color: #008080; font-weight: bold\">8</span>: <span style=\"color: #008080; text-decoration-color: #008080; font-weight: bold\">2</span>\n",
              "</pre>\n"
            ],
            "text/plain": [
              "\u001b[1;36m67\u001b[0m-\u001b[1;36m8\u001b[0m: \u001b[1;36m2\u001b[0m\n"
            ]
          },
          "metadata": {
            "tags": []
          }
        },
        {
          "output_type": "display_data",
          "data": {
            "text/html": [
              "<pre style=\"white-space:pre;overflow-x:auto;line-height:normal;font-family:Menlo,'DejaVu Sans Mono',consolas,'Courier New',monospace\"> Не могли бы вы также заказать мне такси от музея до <span style=\"font-weight: bold\">[</span>Golden Wok<span style=\"font-weight: bold\">]</span>? Я действительно не хочу \n",
              "пропустить свой заказ, так что он должен будет прибыть к <span style=\"font-weight: bold\">[</span><span style=\"color: #00ff00; text-decoration-color: #00ff00; font-weight: bold\">17:15</span><span style=\"font-weight: bold\">]</span>.\n",
              "</pre>\n"
            ],
            "text/plain": [
              " Не могли бы вы также заказать мне такси от музея до \u001b[1m[\u001b[0mGolden Wok\u001b[1m]\u001b[0m? Я действительно не хочу \n",
              "пропустить свой заказ, так что он должен будет прибыть к \u001b[1m[\u001b[0m\u001b[1;92m17:15\u001b[0m\u001b[1m]\u001b[0m.\n"
            ]
          },
          "metadata": {
            "tags": []
          }
        },
        {
          "output_type": "display_data",
          "data": {
            "text/html": [
              "<pre style=\"white-space:pre;overflow-x:auto;line-height:normal;font-family:Menlo,'DejaVu Sans Mono',consolas,'Courier New',monospace\"><span style=\"color: #008080; text-decoration-color: #008080; font-weight: bold\">68</span>-<span style=\"color: #008080; text-decoration-color: #008080; font-weight: bold\">10</span>: <span style=\"color: #008080; text-decoration-color: #008080; font-weight: bold\">3</span>\n",
              "</pre>\n"
            ],
            "text/plain": [
              "\u001b[1;36m68\u001b[0m-\u001b[1;36m10\u001b[0m: \u001b[1;36m3\u001b[0m\n"
            ]
          },
          "metadata": {
            "tags": []
          }
        },
        {
          "output_type": "display_data",
          "data": {
            "text/html": [
              "<pre style=\"white-space:pre;overflow-x:auto;line-height:normal;font-family:Menlo,'DejaVu Sans Mono',consolas,'Courier New',monospace\"> <span style=\"font-weight: bold\">[</span>С <span style=\"font-weight: bold\">[</span>луг и салат<span style=\"font-weight: bold\">]]</span> будет хорошим выбором, мне нужен столик в пятницу на <span style=\"color: #008080; text-decoration-color: #008080; font-weight: bold\">2</span> человек в <span style=\"font-weight: bold\">[</span><span style=\"color: #00ff00; text-decoration-color: #00ff00; font-weight: bold\">11:15</span><span style=\"font-weight: bold\">]</span>.\n",
              "</pre>\n"
            ],
            "text/plain": [
              " \u001b[1m[\u001b[0mС \u001b[1m[\u001b[0mлуг и салат\u001b[1m]\u001b[0m\u001b[1m]\u001b[0m будет хорошим выбором, мне нужен столик в пятницу на \u001b[1;36m2\u001b[0m человек в \u001b[1m[\u001b[0m\u001b[1;92m11:15\u001b[0m\u001b[1m]\u001b[0m.\n"
            ]
          },
          "metadata": {
            "tags": []
          }
        },
        {
          "output_type": "display_data",
          "data": {
            "text/html": [
              "<pre style=\"white-space:pre;overflow-x:auto;line-height:normal;font-family:Menlo,'DejaVu Sans Mono',consolas,'Courier New',monospace\"><span style=\"color: #008080; text-decoration-color: #008080; font-weight: bold\">72</span>-<span style=\"color: #008080; text-decoration-color: #008080; font-weight: bold\">1</span>: <span style=\"color: #008080; text-decoration-color: #008080; font-weight: bold\">2</span>\n",
              "</pre>\n"
            ],
            "text/plain": [
              "\u001b[1;36m72\u001b[0m-\u001b[1;36m1\u001b[0m: \u001b[1;36m2\u001b[0m\n"
            ]
          },
          "metadata": {
            "tags": []
          }
        },
        {
          "output_type": "display_data",
          "data": {
            "text/html": [
              "<pre style=\"white-space:pre;overflow-x:auto;line-height:normal;font-family:Menlo,'DejaVu Sans Mono',consolas,'Courier New',monospace\"> Определенно! Я рекомендую <span style=\"font-weight: bold\">[</span>C <span style=\"font-weight: bold\">]</span>, на <span style=\"color: #008080; text-decoration-color: #008080; font-weight: bold\">32</span> Bridge Street City Center.\n",
              "</pre>\n"
            ],
            "text/plain": [
              " Определенно! Я рекомендую \u001b[1m[\u001b[0mC \u001b[1m]\u001b[0m, на \u001b[1;36m32\u001b[0m Bridge Street City Center.\n"
            ]
          },
          "metadata": {
            "tags": []
          }
        },
        {
          "output_type": "display_data",
          "data": {
            "text/html": [
              "<pre style=\"white-space:pre;overflow-x:auto;line-height:normal;font-family:Menlo,'DejaVu Sans Mono',consolas,'Courier New',monospace\"><span style=\"color: #008080; text-decoration-color: #008080; font-weight: bold\">75</span>-<span style=\"color: #008080; text-decoration-color: #008080; font-weight: bold\">4</span>: <span style=\"color: #008080; text-decoration-color: #008080; font-weight: bold\">2</span>\n",
              "</pre>\n"
            ],
            "text/plain": [
              "\u001b[1;36m75\u001b[0m-\u001b[1;36m4\u001b[0m: \u001b[1;36m2\u001b[0m\n"
            ]
          },
          "metadata": {
            "tags": []
          }
        },
        {
          "output_type": "display_data",
          "data": {
            "text/html": [
              "<pre style=\"white-space:pre;overflow-x:auto;line-height:normal;font-family:Menlo,'DejaVu Sans Mono',consolas,'Courier New',monospace\"> Я хочу забронировать <span style=\"font-weight: bold\">[</span>Backstreet Bistro<span style=\"font-weight: bold\">]</span> на <span style=\"color: #008080; text-decoration-color: #008080; font-weight: bold\">2</span> человек в <span style=\"font-weight: bold\">[</span><span style=\"color: #00ff00; text-decoration-color: #00ff00; font-weight: bold\">12:15</span><span style=\"font-weight: bold\">]</span> в среду.\n",
              "</pre>\n"
            ],
            "text/plain": [
              " Я хочу забронировать \u001b[1m[\u001b[0mBackstreet Bistro\u001b[1m]\u001b[0m на \u001b[1;36m2\u001b[0m человек в \u001b[1m[\u001b[0m\u001b[1;92m12:15\u001b[0m\u001b[1m]\u001b[0m в среду.\n"
            ]
          },
          "metadata": {
            "tags": []
          }
        },
        {
          "output_type": "display_data",
          "data": {
            "text/html": [
              "<pre style=\"white-space:pre;overflow-x:auto;line-height:normal;font-family:Menlo,'DejaVu Sans Mono',consolas,'Courier New',monospace\"><span style=\"color: #008080; text-decoration-color: #008080; font-weight: bold\">79</span>-<span style=\"color: #008080; text-decoration-color: #008080; font-weight: bold\">8</span>: <span style=\"color: #008080; text-decoration-color: #008080; font-weight: bold\">3</span>\n",
              "</pre>\n"
            ],
            "text/plain": [
              "\u001b[1;36m79\u001b[0m-\u001b[1;36m8\u001b[0m: \u001b[1;36m3\u001b[0m\n"
            ]
          },
          "metadata": {
            "tags": []
          }
        },
        {
          "output_type": "display_data",
          "data": {
            "text/html": [
              "<pre style=\"white-space:pre;overflow-x:auto;line-height:normal;font-family:Menlo,'DejaVu Sans Mono',consolas,'Courier New',monospace\"> Мне понадобится такси от <span style=\"font-weight: bold\">[</span>рисовой лодки<span style=\"font-weight: bold\">]</span> до <span style=\"font-weight: bold\">[</span>аквапарка Черри Хинтон<span style=\"font-weight: bold\">]</span>. Я хочу покинуть лодку \n",
              "с рисом в <span style=\"font-weight: bold\">[</span><span style=\"color: #00ff00; text-decoration-color: #00ff00; font-weight: bold\">12:00</span><span style=\"font-weight: bold\">]</span>, пожалуйста.\n",
              "</pre>\n"
            ],
            "text/plain": [
              " Мне понадобится такси от \u001b[1m[\u001b[0mрисовой лодки\u001b[1m]\u001b[0m до \u001b[1m[\u001b[0mаквапарка Черри Хинтон\u001b[1m]\u001b[0m. Я хочу покинуть лодку \n",
              "с рисом в \u001b[1m[\u001b[0m\u001b[1;92m12:00\u001b[0m\u001b[1m]\u001b[0m, пожалуйста.\n"
            ]
          },
          "metadata": {
            "tags": []
          }
        },
        {
          "output_type": "display_data",
          "data": {
            "text/html": [
              "<pre style=\"white-space:pre;overflow-x:auto;line-height:normal;font-family:Menlo,'DejaVu Sans Mono',consolas,'Courier New',monospace\"><span style=\"color: #008080; text-decoration-color: #008080; font-weight: bold\">95</span>-<span style=\"color: #008080; text-decoration-color: #008080; font-weight: bold\">2</span>: <span style=\"color: #008080; text-decoration-color: #008080; font-weight: bold\">2</span>\n",
              "</pre>\n"
            ],
            "text/plain": [
              "\u001b[1;36m95\u001b[0m-\u001b[1;36m2\u001b[0m: \u001b[1;36m2\u001b[0m\n"
            ]
          },
          "metadata": {
            "tags": []
          }
        },
        {
          "output_type": "display_data",
          "data": {
            "text/html": [
              "<pre style=\"white-space:pre;overflow-x:auto;line-height:normal;font-family:Menlo,'DejaVu Sans Mono',consolas,'Courier New',monospace\"> Я вылетаю из <span style=\"font-weight: bold\">[</span>Ботанического сада Кембриджского университета<span style=\"font-weight: bold\">]</span> и мне нужно прибыть в <span style=\"font-weight: bold\">[</span>Пицца \n",
              "Хат Черри<span style=\"font-weight: bold\">]</span> Хинтон.\n",
              "</pre>\n"
            ],
            "text/plain": [
              " Я вылетаю из \u001b[1m[\u001b[0mБотанического сада Кембриджского университета\u001b[1m]\u001b[0m и мне нужно прибыть в \u001b[1m[\u001b[0mПицца \n",
              "Хат Черри\u001b[1m]\u001b[0m Хинтон.\n"
            ]
          },
          "metadata": {
            "tags": []
          }
        },
        {
          "output_type": "display_data",
          "data": {
            "text/html": [
              "<pre style=\"white-space:pre;overflow-x:auto;line-height:normal;font-family:Menlo,'DejaVu Sans Mono',consolas,'Courier New',monospace\"><span style=\"color: #008080; text-decoration-color: #008080; font-weight: bold\">124</span>-<span style=\"color: #008080; text-decoration-color: #008080; font-weight: bold\">16</span>: <span style=\"color: #008080; text-decoration-color: #008080; font-weight: bold\">3</span>\n",
              "</pre>\n"
            ],
            "text/plain": [
              "\u001b[1;36m124\u001b[0m-\u001b[1;36m16\u001b[0m: \u001b[1;36m3\u001b[0m\n"
            ]
          },
          "metadata": {
            "tags": []
          }
        },
        {
          "output_type": "display_data",
          "data": {
            "text/html": [
              "<pre style=\"white-space:pre;overflow-x:auto;line-height:normal;font-family:Menlo,'DejaVu Sans Mono',consolas,'Courier New',monospace\"> Вы можете помочь мне заказать такси между <span style=\"font-weight: bold\">[</span>Медным чайником<span style=\"font-weight: bold\">]</span> и <span style=\"font-weight: bold\">[</span>Эль-Шаддаем<span style=\"font-weight: bold\">]</span>? Мне нужно будет\n",
              "покинуть ресторан к <span style=\"font-weight: bold\">[</span><span style=\"color: #00ff00; text-decoration-color: #00ff00; font-weight: bold\">23:45</span><span style=\"font-weight: bold\">]</span>.\n",
              "</pre>\n"
            ],
            "text/plain": [
              " Вы можете помочь мне заказать такси между \u001b[1m[\u001b[0mМедным чайником\u001b[1m]\u001b[0m и \u001b[1m[\u001b[0mЭль-Шаддаем\u001b[1m]\u001b[0m? Мне нужно будет\n",
              "покинуть ресторан к \u001b[1m[\u001b[0m\u001b[1;92m23:45\u001b[0m\u001b[1m]\u001b[0m.\n"
            ]
          },
          "metadata": {
            "tags": []
          }
        },
        {
          "output_type": "display_data",
          "data": {
            "text/html": [
              "<pre style=\"white-space:pre;overflow-x:auto;line-height:normal;font-family:Menlo,'DejaVu Sans Mono',consolas,'Courier New',monospace\"><span style=\"color: #008080; text-decoration-color: #008080; font-weight: bold\">146</span>-<span style=\"color: #008080; text-decoration-color: #008080; font-weight: bold\">8</span>: <span style=\"color: #008080; text-decoration-color: #008080; font-weight: bold\">2</span>\n",
              "</pre>\n"
            ],
            "text/plain": [
              "\u001b[1;36m146\u001b[0m-\u001b[1;36m8\u001b[0m: \u001b[1;36m2\u001b[0m\n"
            ]
          },
          "metadata": {
            "tags": []
          }
        },
        {
          "output_type": "display_data",
          "data": {
            "text/html": [
              "<pre style=\"white-space:pre;overflow-x:auto;line-height:normal;font-family:Menlo,'DejaVu Sans Mono',consolas,'Courier New',monospace\"> Вы можете заказать нам столик в <span style=\"font-weight: bold\">[</span>Restaurant Alimentum<span style=\"font-weight: bold\">]</span> в <span style=\"font-weight: bold\">[</span><span style=\"color: #00ff00; text-decoration-color: #00ff00; font-weight: bold\">11:30</span><span style=\"font-weight: bold\">]</span> в пятницу?\n",
              "</pre>\n"
            ],
            "text/plain": [
              " Вы можете заказать нам столик в \u001b[1m[\u001b[0mRestaurant Alimentum\u001b[1m]\u001b[0m в \u001b[1m[\u001b[0m\u001b[1;92m11:30\u001b[0m\u001b[1m]\u001b[0m в пятницу?\n"
            ]
          },
          "metadata": {
            "tags": []
          }
        },
        {
          "output_type": "display_data",
          "data": {
            "text/html": [
              "<pre style=\"white-space:pre;overflow-x:auto;line-height:normal;font-family:Menlo,'DejaVu Sans Mono',consolas,'Courier New',monospace\"><span style=\"color: #008080; text-decoration-color: #008080; font-weight: bold\">146</span>-<span style=\"color: #008080; text-decoration-color: #008080; font-weight: bold\">10</span>: <span style=\"color: #008080; text-decoration-color: #008080; font-weight: bold\">3</span>\n",
              "</pre>\n"
            ],
            "text/plain": [
              "\u001b[1;36m146\u001b[0m-\u001b[1;36m10\u001b[0m: \u001b[1;36m3\u001b[0m\n"
            ]
          },
          "metadata": {
            "tags": []
          }
        },
        {
          "output_type": "display_data",
          "data": {
            "text/html": [
              "<pre style=\"white-space:pre;overflow-x:auto;line-height:normal;font-family:Menlo,'DejaVu Sans Mono',consolas,'Courier New',monospace\"> Да, вы можете вызвать меня на такси от <span style=\"font-weight: bold\">[</span>гостевого дома Bridge<span style=\"font-weight: bold\">]</span> до <span style=\"font-weight: bold\">[</span>Restaurant Alimentum<span style=\"font-weight: bold\">]</span>. \n",
              "Мне нужно будет приехать к <span style=\"font-weight: bold\">[</span><span style=\"color: #00ff00; text-decoration-color: #00ff00; font-weight: bold\">11:30</span><span style=\"font-weight: bold\">]</span>.\n",
              "</pre>\n"
            ],
            "text/plain": [
              " Да, вы можете вызвать меня на такси от \u001b[1m[\u001b[0mгостевого дома Bridge\u001b[1m]\u001b[0m до \u001b[1m[\u001b[0mRestaurant Alimentum\u001b[1m]\u001b[0m. \n",
              "Мне нужно будет приехать к \u001b[1m[\u001b[0m\u001b[1;92m11:30\u001b[0m\u001b[1m]\u001b[0m.\n"
            ]
          },
          "metadata": {
            "tags": []
          }
        },
        {
          "output_type": "display_data",
          "data": {
            "text/html": [
              "<pre style=\"white-space:pre;overflow-x:auto;line-height:normal;font-family:Menlo,'DejaVu Sans Mono',consolas,'Courier New',monospace\"><span style=\"color: #008080; text-decoration-color: #008080; font-weight: bold\">149</span>-<span style=\"color: #008080; text-decoration-color: #008080; font-weight: bold\">6</span>: <span style=\"color: #008080; text-decoration-color: #008080; font-weight: bold\">2</span>\n",
              "</pre>\n"
            ],
            "text/plain": [
              "\u001b[1;36m149\u001b[0m-\u001b[1;36m6\u001b[0m: \u001b[1;36m2\u001b[0m\n"
            ]
          },
          "metadata": {
            "tags": []
          }
        },
        {
          "output_type": "display_data",
          "data": {
            "text/html": [
              "<pre style=\"white-space:pre;overflow-x:auto;line-height:normal;font-family:Menlo,'DejaVu Sans Mono',consolas,'Courier New',monospace\"> Да, я бы хотел зарезервировать столик для <span style=\"color: #008080; text-decoration-color: #008080; font-weight: bold\">3</span> человек в понедельник в <span style=\"font-weight: bold\">[</span><span style=\"color: #00ff00; text-decoration-color: #00ff00; font-weight: bold\">11:45</span><span style=\"font-weight: bold\">]</span> в <span style=\"font-weight: bold\">[</span>Cambridge \n",
              "Chop House<span style=\"font-weight: bold\">]</span>. Могу ли я получить справочный номер и для этого?\n",
              "</pre>\n"
            ],
            "text/plain": [
              " Да, я бы хотел зарезервировать столик для \u001b[1;36m3\u001b[0m человек в понедельник в \u001b[1m[\u001b[0m\u001b[1;92m11:45\u001b[0m\u001b[1m]\u001b[0m в \u001b[1m[\u001b[0mCambridge \n",
              "Chop House\u001b[1m]\u001b[0m. Могу ли я получить справочный номер и для этого?\n"
            ]
          },
          "metadata": {
            "tags": []
          }
        },
        {
          "output_type": "display_data",
          "data": {
            "text/html": [
              "<pre style=\"white-space:pre;overflow-x:auto;line-height:normal;font-family:Menlo,'DejaVu Sans Mono',consolas,'Courier New',monospace\"><span style=\"color: #008080; text-decoration-color: #008080; font-weight: bold\">156</span>-<span style=\"color: #008080; text-decoration-color: #008080; font-weight: bold\">20</span>: <span style=\"color: #008080; text-decoration-color: #008080; font-weight: bold\">2</span>\n",
              "</pre>\n"
            ],
            "text/plain": [
              "\u001b[1;36m156\u001b[0m-\u001b[1;36m20\u001b[0m: \u001b[1;36m2\u001b[0m\n"
            ]
          },
          "metadata": {
            "tags": []
          }
        },
        {
          "output_type": "display_data",
          "data": {
            "text/html": [
              "<pre style=\"white-space:pre;overflow-x:auto;line-height:normal;font-family:Menlo,'DejaVu Sans Mono',consolas,'Courier New',monospace\"> Я действительно хочу <span style=\"font-weight: bold\">[</span>индийскую<span style=\"font-weight: bold\">]</span> еду в субботу в западном районе. Если вы можете \n",
              "забронировать его на <span style=\"color: #008080; text-decoration-color: #008080; font-weight: bold\">1</span> человека в <span style=\"color: #00ff00; text-decoration-color: #00ff00; font-weight: bold\">10:15</span> или <span style=\"font-weight: bold\">[</span><span style=\"color: #00ff00; text-decoration-color: #00ff00; font-weight: bold\">9:15</span><span style=\"font-weight: bold\">]</span>, мне все равно, в каком месте.\n",
              "</pre>\n"
            ],
            "text/plain": [
              " Я действительно хочу \u001b[1m[\u001b[0mиндийскую\u001b[1m]\u001b[0m еду в субботу в западном районе. Если вы можете \n",
              "забронировать его на \u001b[1;36m1\u001b[0m человека в \u001b[1;92m10:15\u001b[0m или \u001b[1m[\u001b[0m\u001b[1;92m9:15\u001b[0m\u001b[1m]\u001b[0m, мне все равно, в каком месте.\n"
            ]
          },
          "metadata": {
            "tags": []
          }
        },
        {
          "output_type": "display_data",
          "data": {
            "text/html": [
              "<pre style=\"white-space:pre;overflow-x:auto;line-height:normal;font-family:Menlo,'DejaVu Sans Mono',consolas,'Courier New',monospace\"><span style=\"color: #008080; text-decoration-color: #008080; font-weight: bold\">179</span>-<span style=\"color: #008080; text-decoration-color: #008080; font-weight: bold\">9</span>: <span style=\"color: #008080; text-decoration-color: #008080; font-weight: bold\">2</span>\n",
              "</pre>\n"
            ],
            "text/plain": [
              "\u001b[1;36m179\u001b[0m-\u001b[1;36m9\u001b[0m: \u001b[1;36m2\u001b[0m\n"
            ]
          },
          "metadata": {
            "tags": []
          }
        },
        {
          "output_type": "display_data",
          "data": {
            "text/html": [
              "<pre style=\"white-space:pre;overflow-x:auto;line-height:normal;font-family:Menlo,'DejaVu Sans Mono',consolas,'Courier New',monospace\"> Есть <span style=\"color: #008080; text-decoration-color: #008080; font-weight: bold\">3</span>. <span style=\"font-weight: bold\">[</span>Pizza Hut city center<span style=\"font-weight: bold\">]</span>, ask, или . Какой из них вам нравится?\n",
              "</pre>\n"
            ],
            "text/plain": [
              " Есть \u001b[1;36m3\u001b[0m. \u001b[1m[\u001b[0mPizza Hut city center\u001b[1m]\u001b[0m, ask, или . Какой из них вам нравится?\n"
            ]
          },
          "metadata": {
            "tags": []
          }
        },
        {
          "output_type": "display_data",
          "data": {
            "text/html": [
              "<pre style=\"white-space:pre;overflow-x:auto;line-height:normal;font-family:Menlo,'DejaVu Sans Mono',consolas,'Courier New',monospace\"><span style=\"color: #008080; text-decoration-color: #008080; font-weight: bold\">186</span>-<span style=\"color: #008080; text-decoration-color: #008080; font-weight: bold\">0</span>: <span style=\"color: #008080; text-decoration-color: #008080; font-weight: bold\">2</span>\n",
              "</pre>\n"
            ],
            "text/plain": [
              "\u001b[1;36m186\u001b[0m-\u001b[1;36m0\u001b[0m: \u001b[1;36m2\u001b[0m\n"
            ]
          },
          "metadata": {
            "tags": []
          }
        },
        {
          "output_type": "display_data",
          "data": {
            "text/html": [
              "<pre style=\"white-space:pre;overflow-x:auto;line-height:normal;font-family:Menlo,'DejaVu Sans Mono',consolas,'Courier New',monospace\"> Мне нужна помощь с такси, пожалуйста. Меня нужно забрать в <span style=\"font-weight: bold\">[</span>музей классической археологии<span style=\"font-weight: bold\">]</span> и\n",
              "я должен приехать к <span style=\"font-weight: bold\">[</span><span style=\"color: #00ff00; text-decoration-color: #00ff00; font-weight: bold\">9:00</span><span style=\"font-weight: bold\">]</span>. Вы можете помочь?\n",
              "</pre>\n"
            ],
            "text/plain": [
              " Мне нужна помощь с такси, пожалуйста. Меня нужно забрать в \u001b[1m[\u001b[0mмузей классической археологии\u001b[1m]\u001b[0m и\n",
              "я должен приехать к \u001b[1m[\u001b[0m\u001b[1;92m9:00\u001b[0m\u001b[1m]\u001b[0m. Вы можете помочь?\n"
            ]
          },
          "metadata": {
            "tags": []
          }
        },
        {
          "output_type": "display_data",
          "data": {
            "text/html": [
              "<pre style=\"white-space:pre;overflow-x:auto;line-height:normal;font-family:Menlo,'DejaVu Sans Mono',consolas,'Courier New',monospace\"><span style=\"color: #008080; text-decoration-color: #008080; font-weight: bold\">190</span>-<span style=\"color: #008080; text-decoration-color: #008080; font-weight: bold\">9</span>: <span style=\"color: #008080; text-decoration-color: #008080; font-weight: bold\">2</span>\n",
              "</pre>\n"
            ],
            "text/plain": [
              "\u001b[1;36m190\u001b[0m-\u001b[1;36m9\u001b[0m: \u001b[1;36m2\u001b[0m\n"
            ]
          },
          "metadata": {
            "tags": []
          }
        },
        {
          "output_type": "display_data",
          "data": {
            "text/html": [
              "<pre style=\"white-space:pre;overflow-x:auto;line-height:normal;font-family:Menlo,'DejaVu Sans Mono',consolas,'Courier New',monospace\"> Вы хотите, чтобы я забронировал для вас поезд, который отправляется в <span style=\"font-weight: bold\">[</span><span style=\"color: #00ff00; text-decoration-color: #00ff00; font-weight: bold\">5:50</span><span style=\"font-weight: bold\">]</span> и прибывает в \n",
              "<span style=\"font-weight: bold\">[</span><span style=\"color: #00ff00; text-decoration-color: #00ff00; font-weight: bold\">6:07</span><span style=\"font-weight: bold\">]</span>?\n",
              "</pre>\n"
            ],
            "text/plain": [
              " Вы хотите, чтобы я забронировал для вас поезд, который отправляется в \u001b[1m[\u001b[0m\u001b[1;92m5:50\u001b[0m\u001b[1m]\u001b[0m и прибывает в \n",
              "\u001b[1m[\u001b[0m\u001b[1;92m6:07\u001b[0m\u001b[1m]\u001b[0m?\n"
            ]
          },
          "metadata": {
            "tags": []
          }
        },
        {
          "output_type": "display_data",
          "data": {
            "text/html": [
              "<pre style=\"white-space:pre;overflow-x:auto;line-height:normal;font-family:Menlo,'DejaVu Sans Mono',consolas,'Courier New',monospace\"><span style=\"color: #008080; text-decoration-color: #008080; font-weight: bold\">191</span>-<span style=\"color: #008080; text-decoration-color: #008080; font-weight: bold\">0</span>: <span style=\"color: #008080; text-decoration-color: #008080; font-weight: bold\">2</span>\n",
              "</pre>\n"
            ],
            "text/plain": [
              "\u001b[1;36m191\u001b[0m-\u001b[1;36m0\u001b[0m: \u001b[1;36m2\u001b[0m\n"
            ]
          },
          "metadata": {
            "tags": []
          }
        },
        {
          "output_type": "display_data",
          "data": {
            "text/html": [
              "<pre style=\"white-space:pre;overflow-x:auto;line-height:normal;font-family:Menlo,'DejaVu Sans Mono',consolas,'Courier New',monospace\"> Я хочу заказать такси. Я собираюсь <span style=\"font-weight: bold\">[</span>Ситар Тандури<span style=\"font-weight: bold\">]</span> и хочу уйти после <span style=\"font-weight: bold\">[</span><span style=\"color: #00ff00; text-decoration-color: #00ff00; font-weight: bold\">19:30</span><span style=\"font-weight: bold\">]</span>.\n",
              "</pre>\n"
            ],
            "text/plain": [
              " Я хочу заказать такси. Я собираюсь \u001b[1m[\u001b[0mСитар Тандури\u001b[1m]\u001b[0m и хочу уйти после \u001b[1m[\u001b[0m\u001b[1;92m19:30\u001b[0m\u001b[1m]\u001b[0m.\n"
            ]
          },
          "metadata": {
            "tags": []
          }
        },
        {
          "output_type": "display_data",
          "data": {
            "text/html": [
              "<pre style=\"white-space:pre;overflow-x:auto;line-height:normal;font-family:Menlo,'DejaVu Sans Mono',consolas,'Courier New',monospace\"><span style=\"color: #008080; text-decoration-color: #008080; font-weight: bold\">227</span>-<span style=\"color: #008080; text-decoration-color: #008080; font-weight: bold\">1</span>: <span style=\"color: #008080; text-decoration-color: #008080; font-weight: bold\">2</span>\n",
              "</pre>\n"
            ],
            "text/plain": [
              "\u001b[1;36m227\u001b[0m-\u001b[1;36m1\u001b[0m: \u001b[1;36m2\u001b[0m\n"
            ]
          },
          "metadata": {
            "tags": []
          }
        },
        {
          "output_type": "display_data",
          "data": {
            "text/html": [
              "<pre style=\"white-space:pre;overflow-x:auto;line-height:normal;font-family:Menlo,'DejaVu Sans Mono',consolas,'Courier New',monospace\"> Как насчет ресторана <span style=\"font-weight: bold\">[</span>бедуинов<span style=\"font-weight: bold\">]</span>, где подают <span style=\"font-weight: bold\">[</span>африканские<span style=\"font-weight: bold\">]</span> блюда, расположенного в центре \n",
              "города <span style=\"color: #008080; text-decoration-color: #008080; font-weight: bold\">100</span> Милл Роуд? Вы хотите, чтобы я забронировал это для вас?\n",
              "</pre>\n"
            ],
            "text/plain": [
              " Как насчет ресторана \u001b[1m[\u001b[0mбедуинов\u001b[1m]\u001b[0m, где подают \u001b[1m[\u001b[0mафриканские\u001b[1m]\u001b[0m блюда, расположенного в центре \n",
              "города \u001b[1;36m100\u001b[0m Милл Роуд? Вы хотите, чтобы я забронировал это для вас?\n"
            ]
          },
          "metadata": {
            "tags": []
          }
        },
        {
          "output_type": "display_data",
          "data": {
            "text/html": [
              "<pre style=\"white-space:pre;overflow-x:auto;line-height:normal;font-family:Menlo,'DejaVu Sans Mono',consolas,'Courier New',monospace\"><span style=\"color: #008080; text-decoration-color: #008080; font-weight: bold\">237</span>-<span style=\"color: #008080; text-decoration-color: #008080; font-weight: bold\">2</span>: <span style=\"color: #008080; text-decoration-color: #008080; font-weight: bold\">2</span>\n",
              "</pre>\n"
            ],
            "text/plain": [
              "\u001b[1;36m237\u001b[0m-\u001b[1;36m2\u001b[0m: \u001b[1;36m2\u001b[0m\n"
            ]
          },
          "metadata": {
            "tags": []
          }
        },
        {
          "output_type": "display_data",
          "data": {
            "text/html": [
              "<pre style=\"white-space:pre;overflow-x:auto;line-height:normal;font-family:Menlo,'DejaVu Sans Mono',consolas,'Courier New',monospace\"> Конечно, почему бы нам не забронировать номер в <span style=\"font-weight: bold\">[</span>La Margherita<span style=\"font-weight: bold\">]</span>. Мне понадобится \n",
              "бронирование на <span style=\"color: #008080; text-decoration-color: #008080; font-weight: bold\">1</span> человека на <span style=\"font-weight: bold\">[</span><span style=\"color: #00ff00; text-decoration-color: #00ff00; font-weight: bold\">11:45</span><span style=\"font-weight: bold\">]</span> во вторник.\n",
              "</pre>\n"
            ],
            "text/plain": [
              " Конечно, почему бы нам не забронировать номер в \u001b[1m[\u001b[0mLa Margherita\u001b[1m]\u001b[0m. Мне понадобится \n",
              "бронирование на \u001b[1;36m1\u001b[0m человека на \u001b[1m[\u001b[0m\u001b[1;92m11:45\u001b[0m\u001b[1m]\u001b[0m во вторник.\n"
            ]
          },
          "metadata": {
            "tags": []
          }
        },
        {
          "output_type": "display_data",
          "data": {
            "text/html": [
              "<pre style=\"white-space:pre;overflow-x:auto;line-height:normal;font-family:Menlo,'DejaVu Sans Mono',consolas,'Courier New',monospace\"><span style=\"color: #008080; text-decoration-color: #008080; font-weight: bold\">239</span>-<span style=\"color: #008080; text-decoration-color: #008080; font-weight: bold\">4</span>: <span style=\"color: #008080; text-decoration-color: #008080; font-weight: bold\">2</span>\n",
              "</pre>\n"
            ],
            "text/plain": [
              "\u001b[1;36m239\u001b[0m-\u001b[1;36m4\u001b[0m: \u001b[1;36m2\u001b[0m\n"
            ]
          },
          "metadata": {
            "tags": []
          }
        },
        {
          "output_type": "display_data",
          "data": {
            "text/html": [
              "<pre style=\"white-space:pre;overflow-x:auto;line-height:normal;font-family:Menlo,'DejaVu Sans Mono',consolas,'Courier New',monospace\"> Да, я хотел бы забронировать <span style=\"font-weight: bold\">[</span>Нандос<span style=\"font-weight: bold\">]</span> на юге для <span style=\"color: #008080; text-decoration-color: #008080; font-weight: bold\">1</span> человека в <span style=\"font-weight: bold\">[</span><span style=\"color: #00ff00; text-decoration-color: #00ff00; font-weight: bold\">15:30</span><span style=\"font-weight: bold\">]</span> в понедельник.\n",
              "</pre>\n"
            ],
            "text/plain": [
              " Да, я хотел бы забронировать \u001b[1m[\u001b[0mНандос\u001b[1m]\u001b[0m на юге для \u001b[1;36m1\u001b[0m человека в \u001b[1m[\u001b[0m\u001b[1;92m15:30\u001b[0m\u001b[1m]\u001b[0m в понедельник.\n"
            ]
          },
          "metadata": {
            "tags": []
          }
        },
        {
          "output_type": "display_data",
          "data": {
            "text/html": [
              "<pre style=\"white-space:pre;overflow-x:auto;line-height:normal;font-family:Menlo,'DejaVu Sans Mono',consolas,'Courier New',monospace\"><span style=\"color: #008080; text-decoration-color: #008080; font-weight: bold\">240</span>-<span style=\"color: #008080; text-decoration-color: #008080; font-weight: bold\">0</span>: <span style=\"color: #008080; text-decoration-color: #008080; font-weight: bold\">3</span>\n",
              "</pre>\n"
            ],
            "text/plain": [
              "\u001b[1;36m240\u001b[0m-\u001b[1;36m0\u001b[0m: \u001b[1;36m3\u001b[0m\n"
            ]
          },
          "metadata": {
            "tags": []
          }
        },
        {
          "output_type": "display_data",
          "data": {
            "text/html": [
              "<pre style=\"white-space:pre;overflow-x:auto;line-height:normal;font-family:Menlo,'DejaVu Sans Mono',consolas,'Courier New',monospace\"> Привет! Я бы хотел заказать такси до <span style=\"font-weight: bold\">[</span>Travelers Rest<span style=\"font-weight: bold\">]</span>, пожалуйста, и мне нужно попасть туда \n",
              "не позднее <span style=\"font-weight: bold\">[</span><span style=\"color: #00ff00; text-decoration-color: #00ff00; font-weight: bold\">11:45</span><span style=\"font-weight: bold\">]</span> от <span style=\"font-weight: bold\">[</span>вокзала Кембриджа<span style=\"font-weight: bold\">]</span>.\n",
              "</pre>\n"
            ],
            "text/plain": [
              " Привет! Я бы хотел заказать такси до \u001b[1m[\u001b[0mTravelers Rest\u001b[1m]\u001b[0m, пожалуйста, и мне нужно попасть туда \n",
              "не позднее \u001b[1m[\u001b[0m\u001b[1;92m11:45\u001b[0m\u001b[1m]\u001b[0m от \u001b[1m[\u001b[0mвокзала Кембриджа\u001b[1m]\u001b[0m.\n"
            ]
          },
          "metadata": {
            "tags": []
          }
        },
        {
          "output_type": "display_data",
          "data": {
            "text/html": [
              "<pre style=\"white-space:pre;overflow-x:auto;line-height:normal;font-family:Menlo,'DejaVu Sans Mono',consolas,'Courier New',monospace\"><span style=\"color: #008080; text-decoration-color: #008080; font-weight: bold\">241</span>-<span style=\"color: #008080; text-decoration-color: #008080; font-weight: bold\">0</span>: <span style=\"color: #008080; text-decoration-color: #008080; font-weight: bold\">2</span>\n",
              "</pre>\n"
            ],
            "text/plain": [
              "\u001b[1;36m241\u001b[0m-\u001b[1;36m0\u001b[0m: \u001b[1;36m2\u001b[0m\n"
            ]
          },
          "metadata": {
            "tags": []
          }
        },
        {
          "output_type": "display_data",
          "data": {
            "text/html": [
              "<pre style=\"white-space:pre;overflow-x:auto;line-height:normal;font-family:Menlo,'DejaVu Sans Mono',consolas,'Courier New',monospace\"> Привет. Сможете ли вы найти такси, чтобы забрать меня у <span style=\"font-weight: bold\">[</span>Darry's Cookhouse and Wine Shop<span style=\"font-weight: bold\">]</span> \n",
              "через некоторое время после <span style=\"font-weight: bold\">[</span><span style=\"color: #00ff00; text-decoration-color: #00ff00; font-weight: bold\">04:00</span><span style=\"font-weight: bold\">]</span>?\n",
              "</pre>\n"
            ],
            "text/plain": [
              " Привет. Сможете ли вы найти такси, чтобы забрать меня у \u001b[1m[\u001b[0mDarry's Cookhouse and Wine Shop\u001b[1m]\u001b[0m \n",
              "через некоторое время после \u001b[1m[\u001b[0m\u001b[1;92m04:00\u001b[0m\u001b[1m]\u001b[0m?\n"
            ]
          },
          "metadata": {
            "tags": []
          }
        },
        {
          "output_type": "display_data",
          "data": {
            "text/html": [
              "<pre style=\"white-space:pre;overflow-x:auto;line-height:normal;font-family:Menlo,'DejaVu Sans Mono',consolas,'Courier New',monospace\"><span style=\"color: #008080; text-decoration-color: #008080; font-weight: bold\">285</span>-<span style=\"color: #008080; text-decoration-color: #008080; font-weight: bold\">18</span>: <span style=\"color: #008080; text-decoration-color: #008080; font-weight: bold\">2</span>\n",
              "</pre>\n"
            ],
            "text/plain": [
              "\u001b[1;36m285\u001b[0m-\u001b[1;36m18\u001b[0m: \u001b[1;36m2\u001b[0m\n"
            ]
          },
          "metadata": {
            "tags": []
          }
        },
        {
          "output_type": "display_data",
          "data": {
            "text/html": [
              "<pre style=\"white-space:pre;overflow-x:auto;line-height:normal;font-family:Menlo,'DejaVu Sans Mono',consolas,'Courier New',monospace\"> Я хочу заказать такси, чтобы ездить между этими двумя местами. Я хочу покинуть <span style=\"font-weight: bold\">[</span>Old Schools<span style=\"font-weight: bold\">]</span>\n",
              "к <span style=\"font-weight: bold\">[</span><span style=\"color: #00ff00; text-decoration-color: #00ff00; font-weight: bold\">23:15</span><span style=\"font-weight: bold\">]</span>. Пожалуйста, пришлите контактный номер и тип автомобиля. Спасибо!\n",
              "</pre>\n"
            ],
            "text/plain": [
              " Я хочу заказать такси, чтобы ездить между этими двумя местами. Я хочу покинуть \u001b[1m[\u001b[0mOld Schools\u001b[1m]\u001b[0m\n",
              "к \u001b[1m[\u001b[0m\u001b[1;92m23:15\u001b[0m\u001b[1m]\u001b[0m. Пожалуйста, пришлите контактный номер и тип автомобиля. Спасибо!\n"
            ]
          },
          "metadata": {
            "tags": []
          }
        },
        {
          "output_type": "display_data",
          "data": {
            "text/html": [
              "<pre style=\"white-space:pre;overflow-x:auto;line-height:normal;font-family:Menlo,'DejaVu Sans Mono',consolas,'Courier New',monospace\"><span style=\"color: #008080; text-decoration-color: #008080; font-weight: bold\">289</span>-<span style=\"color: #008080; text-decoration-color: #008080; font-weight: bold\">18</span>: <span style=\"color: #008080; text-decoration-color: #008080; font-weight: bold\">2</span>\n",
              "</pre>\n"
            ],
            "text/plain": [
              "\u001b[1;36m289\u001b[0m-\u001b[1;36m18\u001b[0m: \u001b[1;36m2\u001b[0m\n"
            ]
          },
          "metadata": {
            "tags": []
          }
        },
        {
          "output_type": "display_data",
          "data": {
            "text/html": [
              "<pre style=\"white-space:pre;overflow-x:auto;line-height:normal;font-family:Menlo,'DejaVu Sans Mono',consolas,'Courier New',monospace\"> Наконец, мне нужно такси между двумя местами, я бы хотел добраться до ресторана  к \n",
              "забронированному времени <span style=\"font-weight: bold\">[</span><span style=\"color: #00ff00; text-decoration-color: #00ff00; font-weight: bold\">19:45</span><span style=\"font-weight: bold\">]</span>.\n",
              "</pre>\n"
            ],
            "text/plain": [
              " Наконец, мне нужно такси между двумя местами, я бы хотел добраться до ресторана  к \n",
              "забронированному времени \u001b[1m[\u001b[0m\u001b[1;92m19:45\u001b[0m\u001b[1m]\u001b[0m.\n"
            ]
          },
          "metadata": {
            "tags": []
          }
        },
        {
          "output_type": "display_data",
          "data": {
            "text/html": [
              "<pre style=\"white-space:pre;overflow-x:auto;line-height:normal;font-family:Menlo,'DejaVu Sans Mono',consolas,'Courier New',monospace\"><span style=\"color: #008080; text-decoration-color: #008080; font-weight: bold\">292</span>-<span style=\"color: #008080; text-decoration-color: #008080; font-weight: bold\">2</span>: <span style=\"color: #008080; text-decoration-color: #008080; font-weight: bold\">2</span>\n",
              "</pre>\n"
            ],
            "text/plain": [
              "\u001b[1;36m292\u001b[0m-\u001b[1;36m2\u001b[0m: \u001b[1;36m2\u001b[0m\n"
            ]
          },
          "metadata": {
            "tags": []
          }
        },
        {
          "output_type": "display_data",
          "data": {
            "text/html": [
              "<pre style=\"white-space:pre;overflow-x:auto;line-height:normal;font-family:Menlo,'DejaVu Sans Mono',consolas,'Courier New',monospace\"> Как насчет <span style=\"font-weight: bold\">[</span>Restaurant Alimentum<span style=\"font-weight: bold\">]</span> на <span style=\"color: #008080; text-decoration-color: #008080; font-weight: bold\">8</span> человек в среду в <span style=\"font-weight: bold\">[</span><span style=\"color: #00ff00; text-decoration-color: #00ff00; font-weight: bold\">16:30</span><span style=\"font-weight: bold\">]</span>? Что было бы хорошо.\n",
              "</pre>\n"
            ],
            "text/plain": [
              " Как насчет \u001b[1m[\u001b[0mRestaurant Alimentum\u001b[1m]\u001b[0m на \u001b[1;36m8\u001b[0m человек в среду в \u001b[1m[\u001b[0m\u001b[1;92m16:30\u001b[0m\u001b[1m]\u001b[0m? Что было бы хорошо.\n"
            ]
          },
          "metadata": {
            "tags": []
          }
        },
        {
          "output_type": "display_data",
          "data": {
            "text/html": [
              "<pre style=\"white-space:pre;overflow-x:auto;line-height:normal;font-family:Menlo,'DejaVu Sans Mono',consolas,'Courier New',monospace\"><span style=\"color: #008080; text-decoration-color: #008080; font-weight: bold\">295</span>-<span style=\"color: #008080; text-decoration-color: #008080; font-weight: bold\">4</span>: <span style=\"color: #008080; text-decoration-color: #008080; font-weight: bold\">2</span>\n",
              "</pre>\n"
            ],
            "text/plain": [
              "\u001b[1;36m295\u001b[0m-\u001b[1;36m4\u001b[0m: \u001b[1;36m2\u001b[0m\n"
            ]
          },
          "metadata": {
            "tags": []
          }
        },
        {
          "output_type": "display_data",
          "data": {
            "text/html": [
              "<pre style=\"white-space:pre;overflow-x:auto;line-height:normal;font-family:Menlo,'DejaVu Sans Mono',consolas,'Courier New',monospace\"> Не могли бы вы забронировать столик в <span style=\"font-weight: bold\">[</span>Backstreet Bistro<span style=\"font-weight: bold\">]</span> в пятницу? <span style=\"font-weight: bold\">[</span><span style=\"color: #00ff00; text-decoration-color: #00ff00; font-weight: bold\">18:45</span><span style=\"font-weight: bold\">]</span> для <span style=\"color: #008080; text-decoration-color: #008080; font-weight: bold\">4</span> человек, \n",
              "пожалуйста.\n",
              "</pre>\n"
            ],
            "text/plain": [
              " Не могли бы вы забронировать столик в \u001b[1m[\u001b[0mBackstreet Bistro\u001b[1m]\u001b[0m в пятницу? \u001b[1m[\u001b[0m\u001b[1;92m18:45\u001b[0m\u001b[1m]\u001b[0m для \u001b[1;36m4\u001b[0m человек, \n",
              "пожалуйста.\n"
            ]
          },
          "metadata": {
            "tags": []
          }
        },
        {
          "output_type": "display_data",
          "data": {
            "text/html": [
              "<pre style=\"white-space:pre;overflow-x:auto;line-height:normal;font-family:Menlo,'DejaVu Sans Mono',consolas,'Courier New',monospace\"><span style=\"color: #008080; text-decoration-color: #008080; font-weight: bold\">302</span>-<span style=\"color: #008080; text-decoration-color: #008080; font-weight: bold\">6</span>: <span style=\"color: #008080; text-decoration-color: #008080; font-weight: bold\">2</span>\n",
              "</pre>\n"
            ],
            "text/plain": [
              "\u001b[1;36m302\u001b[0m-\u001b[1;36m6\u001b[0m: \u001b[1;36m2\u001b[0m\n"
            ]
          },
          "metadata": {
            "tags": []
          }
        },
        {
          "output_type": "display_data",
          "data": {
            "text/html": [
              "<pre style=\"white-space:pre;overflow-x:auto;line-height:normal;font-family:Menlo,'DejaVu Sans Mono',consolas,'Courier New',monospace\"> Да, зарезервировать на <span style=\"color: #008080; text-decoration-color: #008080; font-weight: bold\">1</span> человека в <span style=\"font-weight: bold\">[</span><span style=\"color: #00ff00; text-decoration-color: #00ff00; font-weight: bold\">17:00</span><span style=\"font-weight: bold\">]</span>. Каков адрес и номер телефона , можете ли вы \n",
              "найти в том же районе пансион, который имеет <span style=\"color: #008080; text-decoration-color: #008080; font-weight: bold\">4</span> звезды на две ночи?\n",
              "</pre>\n"
            ],
            "text/plain": [
              " Да, зарезервировать на \u001b[1;36m1\u001b[0m человека в \u001b[1m[\u001b[0m\u001b[1;92m17:00\u001b[0m\u001b[1m]\u001b[0m. Каков адрес и номер телефона , можете ли вы \n",
              "найти в том же районе пансион, который имеет \u001b[1;36m4\u001b[0m звезды на две ночи?\n"
            ]
          },
          "metadata": {
            "tags": []
          }
        },
        {
          "output_type": "display_data",
          "data": {
            "text/html": [
              "<pre style=\"white-space:pre;overflow-x:auto;line-height:normal;font-family:Menlo,'DejaVu Sans Mono',consolas,'Courier New',monospace\"><span style=\"color: #008080; text-decoration-color: #008080; font-weight: bold\">307</span>-<span style=\"color: #008080; text-decoration-color: #008080; font-weight: bold\">9</span>: <span style=\"color: #008080; text-decoration-color: #008080; font-weight: bold\">2</span>\n",
              "</pre>\n"
            ],
            "text/plain": [
              "\u001b[1;36m307\u001b[0m-\u001b[1;36m9\u001b[0m: \u001b[1;36m2\u001b[0m\n"
            ]
          },
          "metadata": {
            "tags": []
          }
        },
        {
          "output_type": "display_data",
          "data": {
            "text/html": [
              "<pre style=\"white-space:pre;overflow-x:auto;line-height:normal;font-family:Menlo,'DejaVu Sans Mono',consolas,'Courier New',monospace\"> Почтовый индекс для <span style=\"font-weight: bold\">]</span>: cb58wr, телефон <span style=\"color: #008080; text-decoration-color: #008080; font-weight: bold\">01223323737</span>. Могу я вам чем-нибудь помочь?\n",
              "</pre>\n"
            ],
            "text/plain": [
              " Почтовый индекс для \u001b[1m]\u001b[0m: cb58wr, телефон \u001b[1;36m01223323737\u001b[0m. Могу я вам чем-нибудь помочь?\n"
            ]
          },
          "metadata": {
            "tags": []
          }
        },
        {
          "output_type": "display_data",
          "data": {
            "text/html": [
              "<pre style=\"white-space:pre;overflow-x:auto;line-height:normal;font-family:Menlo,'DejaVu Sans Mono',consolas,'Courier New',monospace\"><span style=\"color: #008080; text-decoration-color: #008080; font-weight: bold\">311</span>-<span style=\"color: #008080; text-decoration-color: #008080; font-weight: bold\">14</span>: <span style=\"color: #008080; text-decoration-color: #008080; font-weight: bold\">2</span>\n",
              "</pre>\n"
            ],
            "text/plain": [
              "\u001b[1;36m311\u001b[0m-\u001b[1;36m14\u001b[0m: \u001b[1;36m2\u001b[0m\n"
            ]
          },
          "metadata": {
            "tags": []
          }
        },
        {
          "output_type": "display_data",
          "data": {
            "text/html": [
              "<pre style=\"white-space:pre;overflow-x:auto;line-height:normal;font-family:Menlo,'DejaVu Sans Mono',consolas,'Courier New',monospace\"> <span style=\"font-weight: bold\">[</span>Royal Spice<span style=\"font-weight: bold\">]</span> звучит великолепно. Можете ли вы сделать заказ на троих в <span style=\"font-weight: bold\">[</span><span style=\"color: #00ff00; text-decoration-color: #00ff00; font-weight: bold\">18:45</span><span style=\"font-weight: bold\">]</span> в пятницу, \n",
              "пожалуйста?\n",
              "</pre>\n"
            ],
            "text/plain": [
              " \u001b[1m[\u001b[0mRoyal Spice\u001b[1m]\u001b[0m звучит великолепно. Можете ли вы сделать заказ на троих в \u001b[1m[\u001b[0m\u001b[1;92m18:45\u001b[0m\u001b[1m]\u001b[0m в пятницу, \n",
              "пожалуйста?\n"
            ]
          },
          "metadata": {
            "tags": []
          }
        },
        {
          "output_type": "display_data",
          "data": {
            "text/html": [
              "<pre style=\"white-space:pre;overflow-x:auto;line-height:normal;font-family:Menlo,'DejaVu Sans Mono',consolas,'Courier New',monospace\"><span style=\"color: #008080; text-decoration-color: #008080; font-weight: bold\">326</span>-<span style=\"color: #008080; text-decoration-color: #008080; font-weight: bold\">11</span>: <span style=\"color: #008080; text-decoration-color: #008080; font-weight: bold\">2</span>\n",
              "</pre>\n"
            ],
            "text/plain": [
              "\u001b[1;36m326\u001b[0m-\u001b[1;36m11\u001b[0m: \u001b[1;36m2\u001b[0m\n"
            ]
          },
          "metadata": {
            "tags": []
          }
        },
        {
          "output_type": "display_data",
          "data": {
            "text/html": [
              "<pre style=\"white-space:pre;overflow-x:auto;line-height:normal;font-family:Menlo,'DejaVu Sans Mono',consolas,'Courier New',monospace\"> Я бы посоветовал <span style=\"font-weight: bold\">[</span>C <span style=\"font-weight: bold\">]</span>. Они расположены на востоке. Входной платы нет.\n",
              "</pre>\n"
            ],
            "text/plain": [
              " Я бы посоветовал \u001b[1m[\u001b[0mC \u001b[1m]\u001b[0m. Они расположены на востоке. Входной платы нет.\n"
            ]
          },
          "metadata": {
            "tags": []
          }
        },
        {
          "output_type": "display_data",
          "data": {
            "text/html": [
              "<pre style=\"white-space:pre;overflow-x:auto;line-height:normal;font-family:Menlo,'DejaVu Sans Mono',consolas,'Courier New',monospace\"><span style=\"color: #008080; text-decoration-color: #008080; font-weight: bold\">335</span>-<span style=\"color: #008080; text-decoration-color: #008080; font-weight: bold\">8</span>: <span style=\"color: #008080; text-decoration-color: #008080; font-weight: bold\">3</span>\n",
              "</pre>\n"
            ],
            "text/plain": [
              "\u001b[1;36m335\u001b[0m-\u001b[1;36m8\u001b[0m: \u001b[1;36m3\u001b[0m\n"
            ]
          },
          "metadata": {
            "tags": []
          }
        },
        {
          "output_type": "display_data",
          "data": {
            "text/html": [
              "<pre style=\"white-space:pre;overflow-x:auto;line-height:normal;font-family:Menlo,'DejaVu Sans Mono',consolas,'Courier New',monospace\"> Сможете ли вы заказать такси из <span style=\"font-weight: bold\">[</span>Cambridge Artworks<span style=\"font-weight: bold\">]</span> в <span style=\"font-weight: bold\">[</span>Royal Standard<span style=\"font-weight: bold\">]</span>, отправляющееся до \n",
              "<span style=\"font-weight: bold\">[</span><span style=\"color: #00ff00; text-decoration-color: #00ff00; font-weight: bold\">13:30</span><span style=\"font-weight: bold\">]</span>?\n",
              "</pre>\n"
            ],
            "text/plain": [
              " Сможете ли вы заказать такси из \u001b[1m[\u001b[0mCambridge Artworks\u001b[1m]\u001b[0m в \u001b[1m[\u001b[0mRoyal Standard\u001b[1m]\u001b[0m, отправляющееся до \n",
              "\u001b[1m[\u001b[0m\u001b[1;92m13:30\u001b[0m\u001b[1m]\u001b[0m?\n"
            ]
          },
          "metadata": {
            "tags": []
          }
        },
        {
          "output_type": "display_data",
          "data": {
            "text/html": [
              "<pre style=\"white-space:pre;overflow-x:auto;line-height:normal;font-family:Menlo,'DejaVu Sans Mono',consolas,'Courier New',monospace\"><span style=\"color: #008080; text-decoration-color: #008080; font-weight: bold\">336</span>-<span style=\"color: #008080; text-decoration-color: #008080; font-weight: bold\">12</span>: <span style=\"color: #008080; text-decoration-color: #008080; font-weight: bold\">2</span>\n",
              "</pre>\n"
            ],
            "text/plain": [
              "\u001b[1;36m336\u001b[0m-\u001b[1;36m12\u001b[0m: \u001b[1;36m2\u001b[0m\n"
            ]
          },
          "metadata": {
            "tags": []
          }
        },
        {
          "output_type": "display_data",
          "data": {
            "text/html": [
              "<pre style=\"white-space:pre;overflow-x:auto;line-height:normal;font-family:Menlo,'DejaVu Sans Mono',consolas,'Courier New',monospace\"> Мне также нужно такси между <span style=\"font-weight: bold\">[</span>Полярным музеем Скотта<span style=\"font-weight: bold\">]</span> и <span style=\"font-weight: bold\">[</span>Карри Гарден<span style=\"font-weight: bold\">]</span>\n",
              "</pre>\n"
            ],
            "text/plain": [
              " Мне также нужно такси между \u001b[1m[\u001b[0mПолярным музеем Скотта\u001b[1m]\u001b[0m и \u001b[1m[\u001b[0mКарри Гарден\u001b[1m]\u001b[0m\n"
            ]
          },
          "metadata": {
            "tags": []
          }
        },
        {
          "output_type": "display_data",
          "data": {
            "text/html": [
              "<pre style=\"white-space:pre;overflow-x:auto;line-height:normal;font-family:Menlo,'DejaVu Sans Mono',consolas,'Courier New',monospace\"><span style=\"color: #008080; text-decoration-color: #008080; font-weight: bold\">351</span>-<span style=\"color: #008080; text-decoration-color: #008080; font-weight: bold\">15</span>: <span style=\"color: #008080; text-decoration-color: #008080; font-weight: bold\">2</span>\n",
              "</pre>\n"
            ],
            "text/plain": [
              "\u001b[1;36m351\u001b[0m-\u001b[1;36m15\u001b[0m: \u001b[1;36m2\u001b[0m\n"
            ]
          },
          "metadata": {
            "tags": []
          }
        },
        {
          "output_type": "display_data",
          "data": {
            "text/html": [
              "<pre style=\"white-space:pre;overflow-x:auto;line-height:normal;font-family:Menlo,'DejaVu Sans Mono',consolas,'Courier New',monospace\"> Я забронировал вам комнату в <span style=\"font-weight: bold\">[</span>B <span style=\"font-weight: bold\">[</span>Rridge Guest House<span style=\"font-weight: bold\">]]</span>, расположенном на дороге <span style=\"color: #008080; text-decoration-color: #008080; font-weight: bold\">151</span> холмов. \n",
              "Ваш ссылочный номер - ZKR6W58Z.\n",
              "</pre>\n"
            ],
            "text/plain": [
              " Я забронировал вам комнату в \u001b[1m[\u001b[0mB \u001b[1m[\u001b[0mRridge Guest House\u001b[1m]\u001b[0m\u001b[1m]\u001b[0m, расположенном на дороге \u001b[1;36m151\u001b[0m холмов. \n",
              "Ваш ссылочный номер - ZKR6W58Z.\n"
            ]
          },
          "metadata": {
            "tags": []
          }
        },
        {
          "output_type": "display_data",
          "data": {
            "text/html": [
              "<pre style=\"white-space:pre;overflow-x:auto;line-height:normal;font-family:Menlo,'DejaVu Sans Mono',consolas,'Courier New',monospace\"><span style=\"color: #008080; text-decoration-color: #008080; font-weight: bold\">353</span>-<span style=\"color: #008080; text-decoration-color: #008080; font-weight: bold\">0</span>: <span style=\"color: #008080; text-decoration-color: #008080; font-weight: bold\">2</span>\n",
              "</pre>\n"
            ],
            "text/plain": [
              "\u001b[1;36m353\u001b[0m-\u001b[1;36m0\u001b[0m: \u001b[1;36m2\u001b[0m\n"
            ]
          },
          "metadata": {
            "tags": []
          }
        },
        {
          "output_type": "display_data",
          "data": {
            "text/html": [
              "<pre style=\"white-space:pre;overflow-x:auto;line-height:normal;font-family:Menlo,'DejaVu Sans Mono',consolas,'Courier New',monospace\"> Вы можете заказать такси, которое отвезет меня от <span style=\"font-weight: bold\">[</span>гадкого утенка<span style=\"font-weight: bold\">]</span> до <span style=\"font-weight: bold\">[</span>железнодорожной \n",
              "станции Эли<span style=\"font-weight: bold\">]</span>?\n",
              "</pre>\n"
            ],
            "text/plain": [
              " Вы можете заказать такси, которое отвезет меня от \u001b[1m[\u001b[0mгадкого утенка\u001b[1m]\u001b[0m до \u001b[1m[\u001b[0mжелезнодорожной \n",
              "станции Эли\u001b[1m]\u001b[0m?\n"
            ]
          },
          "metadata": {
            "tags": []
          }
        },
        {
          "output_type": "display_data",
          "data": {
            "text/html": [
              "<pre style=\"white-space:pre;overflow-x:auto;line-height:normal;font-family:Menlo,'DejaVu Sans Mono',consolas,'Courier New',monospace\"><span style=\"color: #008080; text-decoration-color: #008080; font-weight: bold\">355</span>-<span style=\"color: #008080; text-decoration-color: #008080; font-weight: bold\">2</span>: <span style=\"color: #008080; text-decoration-color: #008080; font-weight: bold\">2</span>\n",
              "</pre>\n"
            ],
            "text/plain": [
              "\u001b[1;36m355\u001b[0m-\u001b[1;36m2\u001b[0m: \u001b[1;36m2\u001b[0m\n"
            ]
          },
          "metadata": {
            "tags": []
          }
        },
        {
          "output_type": "display_data",
          "data": {
            "text/html": [
              "<pre style=\"white-space:pre;overflow-x:auto;line-height:normal;font-family:Menlo,'DejaVu Sans Mono',consolas,'Courier New',monospace\"> Он называется <span style=\"font-weight: bold\">[</span>Nandos<span style=\"font-weight: bold\">]</span>, и я хочу забронировать его на понедельник в <span style=\"font-weight: bold\">[</span><span style=\"color: #00ff00; text-decoration-color: #00ff00; font-weight: bold\">15:00</span><span style=\"font-weight: bold\">]</span>. Будет <span style=\"color: #008080; text-decoration-color: #008080; font-weight: bold\">6</span> \n",
              "человек.\n",
              "</pre>\n"
            ],
            "text/plain": [
              " Он называется \u001b[1m[\u001b[0mNandos\u001b[1m]\u001b[0m, и я хочу забронировать его на понедельник в \u001b[1m[\u001b[0m\u001b[1;92m15:00\u001b[0m\u001b[1m]\u001b[0m. Будет \u001b[1;36m6\u001b[0m \n",
              "человек.\n"
            ]
          },
          "metadata": {
            "tags": []
          }
        },
        {
          "output_type": "display_data",
          "data": {
            "text/html": [
              "<pre style=\"white-space:pre;overflow-x:auto;line-height:normal;font-family:Menlo,'DejaVu Sans Mono',consolas,'Courier New',monospace\"><span style=\"color: #008080; text-decoration-color: #008080; font-weight: bold\">359</span>-<span style=\"color: #008080; text-decoration-color: #008080; font-weight: bold\">0</span>: <span style=\"color: #008080; text-decoration-color: #008080; font-weight: bold\">2</span>\n",
              "</pre>\n"
            ],
            "text/plain": [
              "\u001b[1;36m359\u001b[0m-\u001b[1;36m0\u001b[0m: \u001b[1;36m2\u001b[0m\n"
            ]
          },
          "metadata": {
            "tags": []
          }
        },
        {
          "output_type": "display_data",
          "data": {
            "text/html": [
              "<pre style=\"white-space:pre;overflow-x:auto;line-height:normal;font-family:Menlo,'DejaVu Sans Mono',consolas,'Courier New',monospace\"> Мне нужно такси, чтобы забрать меня из <span style=\"font-weight: bold\">[</span>старой школы<span style=\"font-weight: bold\">]</span> и отвезти в <span style=\"font-weight: bold\">[</span>Лох-Файн<span style=\"font-weight: bold\">]</span>.\n",
              "</pre>\n"
            ],
            "text/plain": [
              " Мне нужно такси, чтобы забрать меня из \u001b[1m[\u001b[0mстарой школы\u001b[1m]\u001b[0m и отвезти в \u001b[1m[\u001b[0mЛох-Файн\u001b[1m]\u001b[0m.\n"
            ]
          },
          "metadata": {
            "tags": []
          }
        },
        {
          "output_type": "display_data",
          "data": {
            "text/html": [
              "<pre style=\"white-space:pre;overflow-x:auto;line-height:normal;font-family:Menlo,'DejaVu Sans Mono',consolas,'Courier New',monospace\"><span style=\"color: #008080; text-decoration-color: #008080; font-weight: bold\">376</span>-<span style=\"color: #008080; text-decoration-color: #008080; font-weight: bold\">9</span>: <span style=\"color: #008080; text-decoration-color: #008080; font-weight: bold\">2</span>\n",
              "</pre>\n"
            ],
            "text/plain": [
              "\u001b[1;36m376\u001b[0m-\u001b[1;36m9\u001b[0m: \u001b[1;36m2\u001b[0m\n"
            ]
          },
          "metadata": {
            "tags": []
          }
        },
        {
          "output_type": "display_data",
          "data": {
            "text/html": [
              "<pre style=\"white-space:pre;overflow-x:auto;line-height:normal;font-family:Menlo,'DejaVu Sans Mono',consolas,'Courier New',monospace\"> <span style=\"font-weight: bold\">[[</span>Кукурузный<span style=\"font-weight: bold\">]</span> гостевой дом<span style=\"font-weight: bold\">]</span> идеально подходит для вас. Могу я его заказать?\n",
              "</pre>\n"
            ],
            "text/plain": [
              " \u001b[1m[\u001b[0m\u001b[1m[\u001b[0mКукурузный\u001b[1m]\u001b[0m гостевой дом\u001b[1m]\u001b[0m идеально подходит для вас. Могу я его заказать?\n"
            ]
          },
          "metadata": {
            "tags": []
          }
        },
        {
          "output_type": "display_data",
          "data": {
            "text/html": [
              "<pre style=\"white-space:pre;overflow-x:auto;line-height:normal;font-family:Menlo,'DejaVu Sans Mono',consolas,'Courier New',monospace\"><span style=\"color: #008080; text-decoration-color: #008080; font-weight: bold\">379</span>-<span style=\"color: #008080; text-decoration-color: #008080; font-weight: bold\">0</span>: <span style=\"color: #008080; text-decoration-color: #008080; font-weight: bold\">2</span>\n",
              "</pre>\n"
            ],
            "text/plain": [
              "\u001b[1;36m379\u001b[0m-\u001b[1;36m0\u001b[0m: \u001b[1;36m2\u001b[0m\n"
            ]
          },
          "metadata": {
            "tags": []
          }
        },
        {
          "output_type": "display_data",
          "data": {
            "text/html": [
              "<pre style=\"white-space:pre;overflow-x:auto;line-height:normal;font-family:Menlo,'DejaVu Sans Mono',consolas,'Courier New',monospace\"> Мне нужно такси, чтобы отвезти меня в <span style=\"font-weight: bold\">[</span>Музей классической археологии<span style=\"font-weight: bold\">]</span>, чтобы уехать после \n",
              "<span style=\"font-weight: bold\">[</span><span style=\"color: #00ff00; text-decoration-color: #00ff00; font-weight: bold\">15:15</span><span style=\"font-weight: bold\">]</span>.\n",
              "</pre>\n"
            ],
            "text/plain": [
              " Мне нужно такси, чтобы отвезти меня в \u001b[1m[\u001b[0mМузей классической археологии\u001b[1m]\u001b[0m, чтобы уехать после \n",
              "\u001b[1m[\u001b[0m\u001b[1;92m15:15\u001b[0m\u001b[1m]\u001b[0m.\n"
            ]
          },
          "metadata": {
            "tags": []
          }
        },
        {
          "output_type": "display_data",
          "data": {
            "text/html": [
              "<pre style=\"white-space:pre;overflow-x:auto;line-height:normal;font-family:Menlo,'DejaVu Sans Mono',consolas,'Courier New',monospace\"><span style=\"color: #008080; text-decoration-color: #008080; font-weight: bold\">385</span>-<span style=\"color: #008080; text-decoration-color: #008080; font-weight: bold\">0</span>: <span style=\"color: #008080; text-decoration-color: #008080; font-weight: bold\">2</span>\n",
              "</pre>\n"
            ],
            "text/plain": [
              "\u001b[1;36m385\u001b[0m-\u001b[1;36m0\u001b[0m: \u001b[1;36m2\u001b[0m\n"
            ]
          },
          "metadata": {
            "tags": []
          }
        },
        {
          "output_type": "display_data",
          "data": {
            "text/html": [
              "<pre style=\"white-space:pre;overflow-x:auto;line-height:normal;font-family:Menlo,'DejaVu Sans Mono',consolas,'Courier New',monospace\"> Я хочу заказать такси, чтобы уехать из <span style=\"font-weight: bold\">[</span>кухни и бара с коровьей пиццей<span style=\"font-weight: bold\">]</span> после <span style=\"font-weight: bold\">[</span><span style=\"color: #00ff00; text-decoration-color: #00ff00; font-weight: bold\">17:15</span><span style=\"font-weight: bold\">]</span>.\n",
              "</pre>\n"
            ],
            "text/plain": [
              " Я хочу заказать такси, чтобы уехать из \u001b[1m[\u001b[0mкухни и бара с коровьей пиццей\u001b[1m]\u001b[0m после \u001b[1m[\u001b[0m\u001b[1;92m17:15\u001b[0m\u001b[1m]\u001b[0m.\n"
            ]
          },
          "metadata": {
            "tags": []
          }
        },
        {
          "output_type": "display_data",
          "data": {
            "text/html": [
              "<pre style=\"white-space:pre;overflow-x:auto;line-height:normal;font-family:Menlo,'DejaVu Sans Mono',consolas,'Courier New',monospace\"><span style=\"color: #008080; text-decoration-color: #008080; font-weight: bold\">386</span>-<span style=\"color: #008080; text-decoration-color: #008080; font-weight: bold\">12</span>: <span style=\"color: #008080; text-decoration-color: #008080; font-weight: bold\">2</span>\n",
              "</pre>\n"
            ],
            "text/plain": [
              "\u001b[1;36m386\u001b[0m-\u001b[1;36m12\u001b[0m: \u001b[1;36m2\u001b[0m\n"
            ]
          },
          "metadata": {
            "tags": []
          }
        },
        {
          "output_type": "display_data",
          "data": {
            "text/html": [
              "<pre style=\"white-space:pre;overflow-x:auto;line-height:normal;font-family:Menlo,'DejaVu Sans Mono',consolas,'Courier New',monospace\"> Да, попробуйте <span style=\"font-weight: bold\">[</span><span style=\"color: #00ff00; text-decoration-color: #00ff00; font-weight: bold\">19:00</span><span style=\"font-weight: bold\">]</span> и дайте мне <span style=\"font-weight: bold\">[</span>справочный<span style=\"font-weight: bold\">]</span> номер.\n",
              "</pre>\n"
            ],
            "text/plain": [
              " Да, попробуйте \u001b[1m[\u001b[0m\u001b[1;92m19:00\u001b[0m\u001b[1m]\u001b[0m и дайте мне \u001b[1m[\u001b[0mсправочный\u001b[1m]\u001b[0m номер.\n"
            ]
          },
          "metadata": {
            "tags": []
          }
        },
        {
          "output_type": "display_data",
          "data": {
            "text/html": [
              "<pre style=\"white-space:pre;overflow-x:auto;line-height:normal;font-family:Menlo,'DejaVu Sans Mono',consolas,'Courier New',monospace\"><span style=\"color: #008080; text-decoration-color: #008080; font-weight: bold\">411</span>-<span style=\"color: #008080; text-decoration-color: #008080; font-weight: bold\">2</span>: <span style=\"color: #008080; text-decoration-color: #008080; font-weight: bold\">2</span>\n",
              "</pre>\n"
            ],
            "text/plain": [
              "\u001b[1;36m411\u001b[0m-\u001b[1;36m2\u001b[0m: \u001b[1;36m2\u001b[0m\n"
            ]
          },
          "metadata": {
            "tags": []
          }
        },
        {
          "output_type": "display_data",
          "data": {
            "text/html": [
              "<pre style=\"white-space:pre;overflow-x:auto;line-height:normal;font-family:Menlo,'DejaVu Sans Mono',consolas,'Courier New',monospace\"> <span style=\"font-weight: bold\">[</span>Азиатский<span style=\"font-weight: bold\">]</span> звучит хорошо. Не могли бы вы забронировать столик на <span style=\"color: #008080; text-decoration-color: #008080; font-weight: bold\">1</span> человека в <span style=\"font-weight: bold\">[</span><span style=\"color: #00ff00; text-decoration-color: #00ff00; font-weight: bold\">16:45</span><span style=\"font-weight: bold\">]</span> в \n",
              "субботу?\n",
              "</pre>\n"
            ],
            "text/plain": [
              " \u001b[1m[\u001b[0mАзиатский\u001b[1m]\u001b[0m звучит хорошо. Не могли бы вы забронировать столик на \u001b[1;36m1\u001b[0m человека в \u001b[1m[\u001b[0m\u001b[1;92m16:45\u001b[0m\u001b[1m]\u001b[0m в \n",
              "субботу?\n"
            ]
          },
          "metadata": {
            "tags": []
          }
        },
        {
          "output_type": "display_data",
          "data": {
            "text/html": [
              "<pre style=\"white-space:pre;overflow-x:auto;line-height:normal;font-family:Menlo,'DejaVu Sans Mono',consolas,'Courier New',monospace\"><span style=\"color: #008080; text-decoration-color: #008080; font-weight: bold\">415</span>-<span style=\"color: #008080; text-decoration-color: #008080; font-weight: bold\">14</span>: <span style=\"color: #008080; text-decoration-color: #008080; font-weight: bold\">2</span>\n",
              "</pre>\n"
            ],
            "text/plain": [
              "\u001b[1;36m415\u001b[0m-\u001b[1;36m14\u001b[0m: \u001b[1;36m2\u001b[0m\n"
            ]
          },
          "metadata": {
            "tags": []
          }
        },
        {
          "output_type": "display_data",
          "data": {
            "text/html": [
              "<pre style=\"white-space:pre;overflow-x:auto;line-height:normal;font-family:Menlo,'DejaVu Sans Mono',consolas,'Courier New',monospace\"> Мне понадобится такси от <span style=\"font-weight: bold\">[</span>отеля<span style=\"font-weight: bold\">]</span> до ресторана. Я хочу покинуть отель к <span style=\"font-weight: bold\">[</span><span style=\"color: #00ff00; text-decoration-color: #00ff00; font-weight: bold\">7:15</span><span style=\"font-weight: bold\">]</span>.\n",
              "</pre>\n"
            ],
            "text/plain": [
              " Мне понадобится такси от \u001b[1m[\u001b[0mотеля\u001b[1m]\u001b[0m до ресторана. Я хочу покинуть отель к \u001b[1m[\u001b[0m\u001b[1;92m7:15\u001b[0m\u001b[1m]\u001b[0m.\n"
            ]
          },
          "metadata": {
            "tags": []
          }
        },
        {
          "output_type": "display_data",
          "data": {
            "text/html": [
              "<pre style=\"white-space:pre;overflow-x:auto;line-height:normal;font-family:Menlo,'DejaVu Sans Mono',consolas,'Courier New',monospace\"><span style=\"color: #008080; text-decoration-color: #008080; font-weight: bold\">431</span>-<span style=\"color: #008080; text-decoration-color: #008080; font-weight: bold\">16</span>: <span style=\"color: #008080; text-decoration-color: #008080; font-weight: bold\">3</span>\n",
              "</pre>\n"
            ],
            "text/plain": [
              "\u001b[1;36m431\u001b[0m-\u001b[1;36m16\u001b[0m: \u001b[1;36m3\u001b[0m\n"
            ]
          },
          "metadata": {
            "tags": []
          }
        },
        {
          "output_type": "display_data",
          "data": {
            "text/html": [
              "<pre style=\"white-space:pre;overflow-x:auto;line-height:normal;font-family:Menlo,'DejaVu Sans Mono',consolas,'Courier New',monospace\"> Вы можете помочь мне заказать такси из <span style=\"font-weight: bold\">[</span>Acorn Guest House<span style=\"font-weight: bold\">]</span> в <span style=\"font-weight: bold\">[</span>Сайгон<span style=\"font-weight: bold\">]</span>? Мне нужно приехать в \n",
              "оговоренное мной время в <span style=\"font-weight: bold\">[</span><span style=\"color: #00ff00; text-decoration-color: #00ff00; font-weight: bold\">16:15</span><span style=\"font-weight: bold\">]</span>.\n",
              "</pre>\n"
            ],
            "text/plain": [
              " Вы можете помочь мне заказать такси из \u001b[1m[\u001b[0mAcorn Guest House\u001b[1m]\u001b[0m в \u001b[1m[\u001b[0mСайгон\u001b[1m]\u001b[0m? Мне нужно приехать в \n",
              "оговоренное мной время в \u001b[1m[\u001b[0m\u001b[1;92m16:15\u001b[0m\u001b[1m]\u001b[0m.\n"
            ]
          },
          "metadata": {
            "tags": []
          }
        },
        {
          "output_type": "display_data",
          "data": {
            "text/html": [
              "<pre style=\"white-space:pre;overflow-x:auto;line-height:normal;font-family:Menlo,'DejaVu Sans Mono',consolas,'Courier New',monospace\"><span style=\"color: #008080; text-decoration-color: #008080; font-weight: bold\">438</span>-<span style=\"color: #008080; text-decoration-color: #008080; font-weight: bold\">6</span>: <span style=\"color: #008080; text-decoration-color: #008080; font-weight: bold\">2</span>\n",
              "</pre>\n"
            ],
            "text/plain": [
              "\u001b[1;36m438\u001b[0m-\u001b[1;36m6\u001b[0m: \u001b[1;36m2\u001b[0m\n"
            ]
          },
          "metadata": {
            "tags": []
          }
        },
        {
          "output_type": "display_data",
          "data": {
            "text/html": [
              "<pre style=\"white-space:pre;overflow-x:auto;line-height:normal;font-family:Menlo,'DejaVu Sans Mono',consolas,'Courier New',monospace\"> Да, пожалуйста, забронируйте <span style=\"font-weight: bold\">[</span>Бангкок<span style=\"font-weight: bold\">]</span> для <span style=\"color: #008080; text-decoration-color: #008080; font-weight: bold\">8</span> человек в <span style=\"font-weight: bold\">[</span><span style=\"color: #00ff00; text-decoration-color: #00ff00; font-weight: bold\">18:00</span><span style=\"font-weight: bold\">]</span> в эту субботу.\n",
              "</pre>\n"
            ],
            "text/plain": [
              " Да, пожалуйста, забронируйте \u001b[1m[\u001b[0mБангкок\u001b[1m]\u001b[0m для \u001b[1;36m8\u001b[0m человек в \u001b[1m[\u001b[0m\u001b[1;92m18:00\u001b[0m\u001b[1m]\u001b[0m в эту субботу.\n"
            ]
          },
          "metadata": {
            "tags": []
          }
        },
        {
          "output_type": "display_data",
          "data": {
            "text/html": [
              "<pre style=\"white-space:pre;overflow-x:auto;line-height:normal;font-family:Menlo,'DejaVu Sans Mono',consolas,'Courier New',monospace\"><span style=\"color: #008080; text-decoration-color: #008080; font-weight: bold\">438</span>-<span style=\"color: #008080; text-decoration-color: #008080; font-weight: bold\">8</span>: <span style=\"color: #008080; text-decoration-color: #008080; font-weight: bold\">2</span>\n",
              "</pre>\n"
            ],
            "text/plain": [
              "\u001b[1;36m438\u001b[0m-\u001b[1;36m8\u001b[0m: \u001b[1;36m2\u001b[0m\n"
            ]
          },
          "metadata": {
            "tags": []
          }
        },
        {
          "output_type": "display_data",
          "data": {
            "text/html": [
              "<pre style=\"white-space:pre;overflow-x:auto;line-height:normal;font-family:Menlo,'DejaVu Sans Mono',consolas,'Courier New',monospace\"> Мне также нужно такси, чтобы ездить между <span style=\"font-weight: bold\">[</span>перекрестком<span style=\"font-weight: bold\">]</span> и <span style=\"font-weight: bold\">[</span>Sala Thong<span style=\"font-weight: bold\">]</span>. Мне нужно \n",
              "убедиться, что он прибудет до моего бронирования в Бангкоке.\n",
              "</pre>\n"
            ],
            "text/plain": [
              " Мне также нужно такси, чтобы ездить между \u001b[1m[\u001b[0mперекрестком\u001b[1m]\u001b[0m и \u001b[1m[\u001b[0mSala Thong\u001b[1m]\u001b[0m. Мне нужно \n",
              "убедиться, что он прибудет до моего бронирования в Бангкоке.\n"
            ]
          },
          "metadata": {
            "tags": []
          }
        },
        {
          "output_type": "display_data",
          "data": {
            "text/html": [
              "<pre style=\"white-space:pre;overflow-x:auto;line-height:normal;font-family:Menlo,'DejaVu Sans Mono',consolas,'Courier New',monospace\"><span style=\"color: #008080; text-decoration-color: #008080; font-weight: bold\">439</span>-<span style=\"color: #008080; text-decoration-color: #008080; font-weight: bold\">0</span>: <span style=\"color: #008080; text-decoration-color: #008080; font-weight: bold\">2</span>\n",
              "</pre>\n"
            ],
            "text/plain": [
              "\u001b[1;36m439\u001b[0m-\u001b[1;36m0\u001b[0m: \u001b[1;36m2\u001b[0m\n"
            ]
          },
          "metadata": {
            "tags": []
          }
        },
        {
          "output_type": "display_data",
          "data": {
            "text/html": [
              "<pre style=\"white-space:pre;overflow-x:auto;line-height:normal;font-family:Menlo,'DejaVu Sans Mono',consolas,'Courier New',monospace\"> Я хочу сесть на такси от <span style=\"font-weight: bold\">[</span>Музея археологии и антропологии<span style=\"font-weight: bold\">]</span> до <span style=\"font-weight: bold\">[</span>Ночного клуба Soul Tree<span style=\"font-weight: bold\">]</span>\n",
              "</pre>\n"
            ],
            "text/plain": [
              " Я хочу сесть на такси от \u001b[1m[\u001b[0mМузея археологии и антропологии\u001b[1m]\u001b[0m до \u001b[1m[\u001b[0mНочного клуба Soul Tree\u001b[1m]\u001b[0m\n"
            ]
          },
          "metadata": {
            "tags": []
          }
        },
        {
          "output_type": "display_data",
          "data": {
            "text/html": [
              "<pre style=\"white-space:pre;overflow-x:auto;line-height:normal;font-family:Menlo,'DejaVu Sans Mono',consolas,'Courier New',monospace\"><span style=\"color: #008080; text-decoration-color: #008080; font-weight: bold\">442</span>-<span style=\"color: #008080; text-decoration-color: #008080; font-weight: bold\">0</span>: <span style=\"color: #008080; text-decoration-color: #008080; font-weight: bold\">2</span>\n",
              "</pre>\n"
            ],
            "text/plain": [
              "\u001b[1;36m442\u001b[0m-\u001b[1;36m0\u001b[0m: \u001b[1;36m2\u001b[0m\n"
            ]
          },
          "metadata": {
            "tags": []
          }
        },
        {
          "output_type": "display_data",
          "data": {
            "text/html": [
              "<pre style=\"white-space:pre;overflow-x:auto;line-height:normal;font-family:Menlo,'DejaVu Sans Mono',consolas,'Courier New',monospace\"> Мне действительно нужно найти такси, если ты можешь помочь. Но я не могу уйти до <span style=\"font-weight: bold\">[</span><span style=\"color: #00ff00; text-decoration-color: #00ff00; font-weight: bold\">7:00</span><span style=\"font-weight: bold\">]</span>. Мне\n",
              "нужно попасть в <span style=\"font-weight: bold\">[</span>ночлег и завтрак Каролины<span style=\"font-weight: bold\">]</span>.\n",
              "</pre>\n"
            ],
            "text/plain": [
              " Мне действительно нужно найти такси, если ты можешь помочь. Но я не могу уйти до \u001b[1m[\u001b[0m\u001b[1;92m7:00\u001b[0m\u001b[1m]\u001b[0m. Мне\n",
              "нужно попасть в \u001b[1m[\u001b[0mночлег и завтрак Каролины\u001b[1m]\u001b[0m.\n"
            ]
          },
          "metadata": {
            "tags": []
          }
        },
        {
          "output_type": "display_data",
          "data": {
            "text/html": [
              "<pre style=\"white-space:pre;overflow-x:auto;line-height:normal;font-family:Menlo,'DejaVu Sans Mono',consolas,'Courier New',monospace\"><span style=\"color: #008080; text-decoration-color: #008080; font-weight: bold\">447</span>-<span style=\"color: #008080; text-decoration-color: #008080; font-weight: bold\">16</span>: <span style=\"color: #008080; text-decoration-color: #008080; font-weight: bold\">2</span>\n",
              "</pre>\n"
            ],
            "text/plain": [
              "\u001b[1;36m447\u001b[0m-\u001b[1;36m16\u001b[0m: \u001b[1;36m2\u001b[0m\n"
            ]
          },
          "metadata": {
            "tags": []
          }
        },
        {
          "output_type": "display_data",
          "data": {
            "text/html": [
              "<pre style=\"white-space:pre;overflow-x:auto;line-height:normal;font-family:Menlo,'DejaVu Sans Mono',consolas,'Courier New',monospace\"> Попробуйте <span style=\"font-weight: bold\">[</span><span style=\"color: #00ff00; text-decoration-color: #00ff00; font-weight: bold\">9:00</span><span style=\"font-weight: bold\">]</span>, затем для той же группы людей в <span style=\"font-weight: bold\">[</span>Чарли Чане<span style=\"font-weight: bold\">]</span>, пожалуйста. Мне понадобится\n",
              "ссылочный номер.\n",
              "</pre>\n"
            ],
            "text/plain": [
              " Попробуйте \u001b[1m[\u001b[0m\u001b[1;92m9:00\u001b[0m\u001b[1m]\u001b[0m, затем для той же группы людей в \u001b[1m[\u001b[0mЧарли Чане\u001b[1m]\u001b[0m, пожалуйста. Мне понадобится\n",
              "ссылочный номер.\n"
            ]
          },
          "metadata": {
            "tags": []
          }
        },
        {
          "output_type": "display_data",
          "data": {
            "text/html": [
              "<pre style=\"white-space:pre;overflow-x:auto;line-height:normal;font-family:Menlo,'DejaVu Sans Mono',consolas,'Courier New',monospace\"><span style=\"color: #008080; text-decoration-color: #008080; font-weight: bold\">450</span>-<span style=\"color: #008080; text-decoration-color: #008080; font-weight: bold\">0</span>: <span style=\"color: #008080; text-decoration-color: #008080; font-weight: bold\">2</span>\n",
              "</pre>\n"
            ],
            "text/plain": [
              "\u001b[1;36m450\u001b[0m-\u001b[1;36m0\u001b[0m: \u001b[1;36m2\u001b[0m\n"
            ]
          },
          "metadata": {
            "tags": []
          }
        },
        {
          "output_type": "display_data",
          "data": {
            "text/html": [
              "<pre style=\"white-space:pre;overflow-x:auto;line-height:normal;font-family:Menlo,'DejaVu Sans Mono',consolas,'Courier New',monospace\"> Я в <span style=\"font-weight: bold\">[</span>колледже Святого Иоанна<span style=\"font-weight: bold\">]</span>. Мне нужно такси, чтобы забрать меня в <span style=\"font-weight: bold\">[</span><span style=\"color: #00ff00; text-decoration-color: #00ff00; font-weight: bold\">18:45</span><span style=\"font-weight: bold\">]</span>.\n",
              "</pre>\n"
            ],
            "text/plain": [
              " Я в \u001b[1m[\u001b[0mколледже Святого Иоанна\u001b[1m]\u001b[0m. Мне нужно такси, чтобы забрать меня в \u001b[1m[\u001b[0m\u001b[1;92m18:45\u001b[0m\u001b[1m]\u001b[0m.\n"
            ]
          },
          "metadata": {
            "tags": []
          }
        },
        {
          "output_type": "display_data",
          "data": {
            "text/html": [
              "<pre style=\"white-space:pre;overflow-x:auto;line-height:normal;font-family:Menlo,'DejaVu Sans Mono',consolas,'Courier New',monospace\"><span style=\"color: #008080; text-decoration-color: #008080; font-weight: bold\">451</span>-<span style=\"color: #008080; text-decoration-color: #008080; font-weight: bold\">6</span>: <span style=\"color: #008080; text-decoration-color: #008080; font-weight: bold\">2</span>\n",
              "</pre>\n"
            ],
            "text/plain": [
              "\u001b[1;36m451\u001b[0m-\u001b[1;36m6\u001b[0m: \u001b[1;36m2\u001b[0m\n"
            ]
          },
          "metadata": {
            "tags": []
          }
        },
        {
          "output_type": "display_data",
          "data": {
            "text/html": [
              "<pre style=\"white-space:pre;overflow-x:auto;line-height:normal;font-family:Menlo,'DejaVu Sans Mono',consolas,'Courier New',monospace\"> Забронируйте, пожалуйста, <span style=\"font-weight: bold\">[</span>Worth House<span style=\"font-weight: bold\">]</span> на <span style=\"color: #008080; text-decoration-color: #008080; font-weight: bold\">6</span> человек. Мы будем оставаться на <span style=\"color: #008080; text-decoration-color: #008080; font-weight: bold\">5</span> ночей, \n",
              "начиная со среды. Мне понадобится ссылочный номер. Мне также понадобится поезд до Кембриджа \n",
              "после <span style=\"font-weight: bold\">[</span><span style=\"color: #00ff00; text-decoration-color: #00ff00; font-weight: bold\">12:00</span><span style=\"font-weight: bold\">]</span>\n",
              "</pre>\n"
            ],
            "text/plain": [
              " Забронируйте, пожалуйста, \u001b[1m[\u001b[0mWorth House\u001b[1m]\u001b[0m на \u001b[1;36m6\u001b[0m человек. Мы будем оставаться на \u001b[1;36m5\u001b[0m ночей, \n",
              "начиная со среды. Мне понадобится ссылочный номер. Мне также понадобится поезд до Кембриджа \n",
              "после \u001b[1m[\u001b[0m\u001b[1;92m12:00\u001b[0m\u001b[1m]\u001b[0m\n"
            ]
          },
          "metadata": {
            "tags": []
          }
        },
        {
          "output_type": "display_data",
          "data": {
            "text/html": [
              "<pre style=\"white-space:pre;overflow-x:auto;line-height:normal;font-family:Menlo,'DejaVu Sans Mono',consolas,'Courier New',monospace\"><span style=\"color: #008080; text-decoration-color: #008080; font-weight: bold\">461</span>-<span style=\"color: #008080; text-decoration-color: #008080; font-weight: bold\">18</span>: <span style=\"color: #008080; text-decoration-color: #008080; font-weight: bold\">2</span>\n",
              "</pre>\n"
            ],
            "text/plain": [
              "\u001b[1;36m461\u001b[0m-\u001b[1;36m18\u001b[0m: \u001b[1;36m2\u001b[0m\n"
            ]
          },
          "metadata": {
            "tags": []
          }
        },
        {
          "output_type": "display_data",
          "data": {
            "text/html": [
              "<pre style=\"white-space:pre;overflow-x:auto;line-height:normal;font-family:Menlo,'DejaVu Sans Mono',consolas,'Courier New',monospace\"> Мне нужно покинуть <span style=\"font-weight: bold\">[</span>Старые школы<span style=\"font-weight: bold\">]</span> до <span style=\"font-weight: bold\">[</span><span style=\"color: #00ff00; text-decoration-color: #00ff00; font-weight: bold\">15:30</span><span style=\"font-weight: bold\">]</span>, пожалуйста.\n",
              "</pre>\n"
            ],
            "text/plain": [
              " Мне нужно покинуть \u001b[1m[\u001b[0mСтарые школы\u001b[1m]\u001b[0m до \u001b[1m[\u001b[0m\u001b[1;92m15:30\u001b[0m\u001b[1m]\u001b[0m, пожалуйста.\n"
            ]
          },
          "metadata": {
            "tags": []
          }
        },
        {
          "output_type": "display_data",
          "data": {
            "text/html": [
              "<pre style=\"white-space:pre;overflow-x:auto;line-height:normal;font-family:Menlo,'DejaVu Sans Mono',consolas,'Courier New',monospace\"><span style=\"color: #008080; text-decoration-color: #008080; font-weight: bold\">476</span>-<span style=\"color: #008080; text-decoration-color: #008080; font-weight: bold\">0</span>: <span style=\"color: #008080; text-decoration-color: #008080; font-weight: bold\">2</span>\n",
              "</pre>\n"
            ],
            "text/plain": [
              "\u001b[1;36m476\u001b[0m-\u001b[1;36m0\u001b[0m: \u001b[1;36m2\u001b[0m\n"
            ]
          },
          "metadata": {
            "tags": []
          }
        },
        {
          "output_type": "display_data",
          "data": {
            "text/html": [
              "<pre style=\"white-space:pre;overflow-x:auto;line-height:normal;font-family:Menlo,'DejaVu Sans Mono',consolas,'Courier New',monospace\"> Здравствуйте, я бы хотел заказать такси от <span style=\"font-weight: bold\">[</span>Ресторан Два Два<span style=\"font-weight: bold\">]</span> до <span style=\"font-weight: bold\">[</span>Музея классической \n",
              "археологии<span style=\"font-weight: bold\">]</span>.\n",
              "</pre>\n"
            ],
            "text/plain": [
              " Здравствуйте, я бы хотел заказать такси от \u001b[1m[\u001b[0mРесторан Два Два\u001b[1m]\u001b[0m до \u001b[1m[\u001b[0mМузея классической \n",
              "археологии\u001b[1m]\u001b[0m.\n"
            ]
          },
          "metadata": {
            "tags": []
          }
        },
        {
          "output_type": "display_data",
          "data": {
            "text/html": [
              "<pre style=\"white-space:pre;overflow-x:auto;line-height:normal;font-family:Menlo,'DejaVu Sans Mono',consolas,'Courier New',monospace\"><span style=\"color: #008080; text-decoration-color: #008080; font-weight: bold\">478</span>-<span style=\"color: #008080; text-decoration-color: #008080; font-weight: bold\">2</span>: <span style=\"color: #008080; text-decoration-color: #008080; font-weight: bold\">2</span>\n",
              "</pre>\n"
            ],
            "text/plain": [
              "\u001b[1;36m478\u001b[0m-\u001b[1;36m2\u001b[0m: \u001b[1;36m2\u001b[0m\n"
            ]
          },
          "metadata": {
            "tags": []
          }
        },
        {
          "output_type": "display_data",
          "data": {
            "text/html": [
              "<pre style=\"white-space:pre;overflow-x:auto;line-height:normal;font-family:Menlo,'DejaVu Sans Mono',consolas,'Courier New',monospace\"> Я хотел бы приехать к <span style=\"font-weight: bold\">[</span><span style=\"color: #00ff00; text-decoration-color: #00ff00; font-weight: bold\">03:15</span><span style=\"font-weight: bold\">]</span> и пойти к <span style=\"font-weight: bold\">[</span>Али-Бабе<span style=\"font-weight: bold\">]</span>, пожалуйста.\n",
              "</pre>\n"
            ],
            "text/plain": [
              " Я хотел бы приехать к \u001b[1m[\u001b[0m\u001b[1;92m03:15\u001b[0m\u001b[1m]\u001b[0m и пойти к \u001b[1m[\u001b[0mАли-Бабе\u001b[1m]\u001b[0m, пожалуйста.\n"
            ]
          },
          "metadata": {
            "tags": []
          }
        },
        {
          "output_type": "display_data",
          "data": {
            "text/html": [
              "<pre style=\"white-space:pre;overflow-x:auto;line-height:normal;font-family:Menlo,'DejaVu Sans Mono',consolas,'Courier New',monospace\"><span style=\"color: #008080; text-decoration-color: #008080; font-weight: bold\">487</span>-<span style=\"color: #008080; text-decoration-color: #008080; font-weight: bold\">6</span>: <span style=\"color: #008080; text-decoration-color: #008080; font-weight: bold\">2</span>\n",
              "</pre>\n"
            ],
            "text/plain": [
              "\u001b[1;36m487\u001b[0m-\u001b[1;36m6\u001b[0m: \u001b[1;36m2\u001b[0m\n"
            ]
          },
          "metadata": {
            "tags": []
          }
        },
        {
          "output_type": "display_data",
          "data": {
            "text/html": [
              "<pre style=\"white-space:pre;overflow-x:auto;line-height:normal;font-family:Menlo,'DejaVu Sans Mono',consolas,'Courier New',monospace\"> <span style=\"font-weight: bold\">[</span>Galleria<span style=\"font-weight: bold\">]</span> звучит великолепно! Можно ли забронировать столик на <span style=\"color: #008080; text-decoration-color: #008080; font-weight: bold\">8</span> человек в <span style=\"font-weight: bold\">[</span><span style=\"color: #00ff00; text-decoration-color: #00ff00; font-weight: bold\">19:00</span><span style=\"font-weight: bold\">]</span> в среду?\n",
              "</pre>\n"
            ],
            "text/plain": [
              " \u001b[1m[\u001b[0mGalleria\u001b[1m]\u001b[0m звучит великолепно! Можно ли забронировать столик на \u001b[1;36m8\u001b[0m человек в \u001b[1m[\u001b[0m\u001b[1;92m19:00\u001b[0m\u001b[1m]\u001b[0m в среду?\n"
            ]
          },
          "metadata": {
            "tags": []
          }
        },
        {
          "output_type": "display_data",
          "data": {
            "text/html": [
              "<pre style=\"white-space:pre;overflow-x:auto;line-height:normal;font-family:Menlo,'DejaVu Sans Mono',consolas,'Courier New',monospace\"><span style=\"color: #008080; text-decoration-color: #008080; font-weight: bold\">494</span>-<span style=\"color: #008080; text-decoration-color: #008080; font-weight: bold\">1</span>: <span style=\"color: #008080; text-decoration-color: #008080; font-weight: bold\">2</span>\n",
              "</pre>\n"
            ],
            "text/plain": [
              "\u001b[1;36m494\u001b[0m-\u001b[1;36m1\u001b[0m: \u001b[1;36m2\u001b[0m\n"
            ]
          },
          "metadata": {
            "tags": []
          }
        },
        {
          "output_type": "display_data",
          "data": {
            "text/html": [
              "<pre style=\"white-space:pre;overflow-x:auto;line-height:normal;font-family:Menlo,'DejaVu Sans Mono',consolas,'Courier New',monospace\"> <span style=\"font-weight: bold\">[</span>A <span style=\"font-weight: bold\">]</span> - это недорогой ресторан, расположенный в центре. Отвечает ли это вашим потребностям?\n",
              "</pre>\n"
            ],
            "text/plain": [
              " \u001b[1m[\u001b[0mA \u001b[1m]\u001b[0m - это недорогой ресторан, расположенный в центре. Отвечает ли это вашим потребностям?\n"
            ]
          },
          "metadata": {
            "tags": []
          }
        },
        {
          "output_type": "display_data",
          "data": {
            "text/html": [
              "<pre style=\"white-space:pre;overflow-x:auto;line-height:normal;font-family:Menlo,'DejaVu Sans Mono',consolas,'Courier New',monospace\"><span style=\"color: #008080; text-decoration-color: #008080; font-weight: bold\">496</span>-<span style=\"color: #008080; text-decoration-color: #008080; font-weight: bold\">2</span>: <span style=\"color: #008080; text-decoration-color: #008080; font-weight: bold\">2</span>\n",
              "</pre>\n"
            ],
            "text/plain": [
              "\u001b[1;36m496\u001b[0m-\u001b[1;36m2\u001b[0m: \u001b[1;36m2\u001b[0m\n"
            ]
          },
          "metadata": {
            "tags": []
          }
        },
        {
          "output_type": "display_data",
          "data": {
            "text/html": [
              "<pre style=\"white-space:pre;overflow-x:auto;line-height:normal;font-family:Menlo,'DejaVu Sans Mono',consolas,'Courier New',monospace\"> Я должен прибыть в <span style=\"font-weight: bold\">[</span>нандос<span style=\"font-weight: bold\">]</span> к <span style=\"font-weight: bold\">[</span><span style=\"color: #00ff00; text-decoration-color: #00ff00; font-weight: bold\">23:15</span><span style=\"font-weight: bold\">]</span>\n",
              "</pre>\n"
            ],
            "text/plain": [
              " Я должен прибыть в \u001b[1m[\u001b[0mнандос\u001b[1m]\u001b[0m к \u001b[1m[\u001b[0m\u001b[1;92m23:15\u001b[0m\u001b[1m]\u001b[0m\n"
            ]
          },
          "metadata": {
            "tags": []
          }
        },
        {
          "output_type": "display_data",
          "data": {
            "text/html": [
              "<pre style=\"white-space:pre;overflow-x:auto;line-height:normal;font-family:Menlo,'DejaVu Sans Mono',consolas,'Courier New',monospace\"><span style=\"color: #008080; text-decoration-color: #008080; font-weight: bold\">508</span>-<span style=\"color: #008080; text-decoration-color: #008080; font-weight: bold\">14</span>: <span style=\"color: #008080; text-decoration-color: #008080; font-weight: bold\">2</span>\n",
              "</pre>\n"
            ],
            "text/plain": [
              "\u001b[1;36m508\u001b[0m-\u001b[1;36m14\u001b[0m: \u001b[1;36m2\u001b[0m\n"
            ]
          },
          "metadata": {
            "tags": []
          }
        },
        {
          "output_type": "display_data",
          "data": {
            "text/html": [
              "<pre style=\"white-space:pre;overflow-x:auto;line-height:normal;font-family:Menlo,'DejaVu Sans Mono',consolas,'Courier New',monospace\"> <span style=\"font-weight: bold\">[</span>мезе-бар<span style=\"font-weight: bold\">]</span> в порядке. забронируйте на <span style=\"color: #008080; text-decoration-color: #008080; font-weight: bold\">6</span> в <span style=\"font-weight: bold\">[</span><span style=\"color: #00ff00; text-decoration-color: #00ff00; font-weight: bold\">14:15</span><span style=\"font-weight: bold\">]</span> во вторник\n",
              "</pre>\n"
            ],
            "text/plain": [
              " \u001b[1m[\u001b[0mмезе-бар\u001b[1m]\u001b[0m в порядке. забронируйте на \u001b[1;36m6\u001b[0m в \u001b[1m[\u001b[0m\u001b[1;92m14:15\u001b[0m\u001b[1m]\u001b[0m во вторник\n"
            ]
          },
          "metadata": {
            "tags": []
          }
        }
      ]
    },
    {
      "cell_type": "markdown",
      "metadata": {
        "id": "7bwZeg8Q8iGm"
      },
      "source": [
        "**Функция, которая ищет спаны:**"
      ]
    },
    {
      "cell_type": "code",
      "metadata": {
        "id": "KVocG-5U8eoi"
      },
      "source": [
        "def search_spans(text, start_symbol: str = \"[\", end_symbol: str = \"]\"):\n",
        "    subtext1=start_symbol\n",
        "    result1 = []\n",
        "    flag = False\n",
        "    n = 1\n",
        "    for i,element in enumerate(text):\n",
        "        if flag:\n",
        "            if n > len(subtext1)-1:\n",
        "                flag = False\n",
        "                n = 1\n",
        "            elif element == subtext1[n]:\n",
        "                n += 1\n",
        "            elif element != subtext1[n]:\n",
        "                result1 = result1[:-1]\n",
        "                n = 1\n",
        "                flag = False\n",
        "        if element == subtext1[0] and not flag:\n",
        "            flag = True\n",
        "            result1.append(i)\n",
        "\n",
        "    subtext2=end_symbol\n",
        " \n",
        "    result2 = []\n",
        "\n",
        "    flag = False\n",
        "    n = 1\n",
        "\n",
        "    for i,element in enumerate(text):\n",
        "        if flag:\n",
        "            if n > len(subtext2)-1:\n",
        "                flag = False\n",
        "                n = 1\n",
        "            elif element == subtext2[n]:\n",
        "                n += 1\n",
        "            elif element != subtext2[n]:\n",
        "                result2 = result2[:-1]\n",
        "                n = 1\n",
        "                flag = False\n",
        "        if element == subtext2[0] and not flag:\n",
        "            flag = True\n",
        "            result2.append(i)\n",
        "    ress = list(zip(result1, result2))\n",
        "\n",
        "    return ress"
      ],
      "execution_count": 286,
      "outputs": []
    },
    {
      "cell_type": "code",
      "metadata": {
        "id": "b5kj_erV43k3"
      },
      "source": [
        "def translated2json(translated_dialogue, dialogue):\n",
        "    new_dialogue = dialogue.copy()\n",
        "    for i, text in enumerate(translated_dialogue):\n",
        "        spans = list(reversed(search_spans(text, \"[\", \"]\"))) # reverse list, the first entry become last\n",
        "        offset_front = 0\n",
        "        offset_back = 1\n",
        "        remove_spec_brackets = False\n",
        "        for frame in new_dialogue['turns'][i]['frames']:\n",
        "            for slot in frame['slots']:\n",
        "                if 'start' in slot:\n",
        "                    if len(spans) != 0:\n",
        "                        start, end = spans.pop() # after reverse, we can use .pop() to get and remove first entry (i.e 'spans' list is now FIFO-queue)\n",
        "                    elif \"«\" in text:\n",
        "                        start, end = search_spans(text, \"«\", \"»\")[0] # assuming that there is only one span with «» brackets\n",
        "                        remove_spec_brackets = True\n",
        "                    else:\n",
        "                        continue\n",
        "                        \n",
        "                    slot['start'] = start - offset_front\n",
        "                    slot['exclusive_end'] = end - offset_back # offsetting '[', which will be removed\n",
        "                    slot['value'] = text[start + 1:end] # offsetting not yet remove '[' for value extraction\n",
        "                    offset_front += 2\n",
        "                    offset_back += 2\n",
        "                        \n",
        "\n",
        "        new_text = text.replace(\"[\", \"\").replace(\"]\", \"\")\n",
        "        if remove_spec_brackets:\n",
        "              new_text = new_text.replace(\"«\", \"\").replace(\"»\", \"\")\n",
        "        new_dialogue['turns'][i]['utterance'] = new_text\n",
        "            \n",
        "        #print(new_dialogue['turns'][i]['utterance'])\n",
        "    return new_dialogue"
      ],
      "execution_count": 287,
      "outputs": []
    },
    {
      "cell_type": "code",
      "metadata": {
        "id": "upjLDeyp46hu"
      },
      "source": [
        "res = translated2json(translated[6], data[6])"
      ],
      "execution_count": 294,
      "outputs": []
    },
    {
      "cell_type": "code",
      "metadata": {
        "id": "vbJTsvWKrkHw",
        "colab": {
          "base_uri": "https://localhost:8080/"
        },
        "outputId": "c011c6ee-8055-48e2-abf2-7e0362d37d91"
      },
      "source": [
        "json2txt(res)"
      ],
      "execution_count": 295,
      "outputs": [
        {
          "output_type": "execute_result",
          "data": {
            "text/plain": [
              "[' мне нужна информация о месте, где я могу увидеть местные достопримечательности.',\n",
              " ' Хорошо! Какую часть города вы хотели бы посетить?',\n",
              " ' Если подумать, давайте пока отложим это. Я подумывал попробовать новую кухню, пока мы в городе. Что-то дорогое.',\n",
              " ' Хорошо! Какую кухню вы бы хотели попробовать?',\n",
              " ' У меня есть пара [ямайских] приятелей, и я хочу, чтобы они чувствовали себя как дома.',\n",
              " ' У нас в городе нет дорогих ямайских заведений. Хотите попробовать что-нибудь еще?',\n",
              " ' Как насчет того, чтобы подать [африканскую] еду?',\n",
              " ' [Бедуин] в центре города - дорогой африканский ресторан. Вы хотите, чтобы я забронировал это для вас?',\n",
              " ' Мне сейчас не нужен столик, но мне нужен почтовый индекс и номер телефона этого ресторана.',\n",
              " ' номер телефона 01223367660 и почтовый индекс cb12bd',\n",
              " ' Спасибо за эту информацию. Еще мне нужны достопримечательности в том же районе города, что и ресторан. У вас есть какие-нибудь занятия на лодке?',\n",
              " ' В этом районе их 2. Это Scudamores Punting Co и The Cambridge Punter.',\n",
              " ' Я хочу попробовать [Scudamores Punting Co]. Какой у них почтовый индекс и номер телефона, пожалуйста?',\n",
              " ' Почтовый индекс cb21rs, номер телефона 01223359750.',\n",
              " ' хорошо, спасибо. мне больше ничего не нужно. увидимся!',\n",
              " ' До свидания. Я надеюсь, вам понравился ваш визит.']"
            ]
          },
          "metadata": {
            "tags": []
          },
          "execution_count": 295
        }
      ]
    },
    {
      "cell_type": "code",
      "metadata": {
        "id": "NoVE866TrkHx",
        "colab": {
          "base_uri": "https://localhost:8080/"
        },
        "outputId": "a2ad1413-600e-4ac6-d3c6-0b14b00f48ed"
      },
      "source": [
        "json2txt(data[6])"
      ],
      "execution_count": 296,
      "outputs": [
        {
          "output_type": "execute_result",
          "data": {
            "text/plain": [
              "[' мне нужна информация о месте, где я могу увидеть местные достопримечательности.',\n",
              " ' Хорошо! Какую часть города вы хотели бы посетить?',\n",
              " ' Если подумать, давайте пока отложим это. Я подумывал попробовать новую кухню, пока мы в городе. Что-то дорогое.',\n",
              " ' Хорошо! Какую кухню вы бы хотели попробовать?',\n",
              " ' У меня есть пара [ямайских] приятелей, и я хочу, чтобы они чувствовали себя как дома.',\n",
              " ' У нас в городе нет дорогих ямайских заведений. Хотите попробовать что-нибудь еще?',\n",
              " ' Как насчет того, чтобы подать [африканскую] еду?',\n",
              " ' [Бедуин] в центре города - дорогой африканский ресторан. Вы хотите, чтобы я забронировал это для вас?',\n",
              " ' Мне сейчас не нужен столик, но мне нужен почтовый индекс и номер телефона этого ресторана.',\n",
              " ' номер телефона 01223367660 и почтовый индекс cb12bd',\n",
              " ' Спасибо за эту информацию. Еще мне нужны достопримечательности в том же районе города, что и ресторан. У вас есть какие-нибудь занятия на лодке?',\n",
              " ' В этом районе их 2. Это Scudamores Punting Co и The Cambridge Punter.',\n",
              " ' Я хочу попробовать [Scudamores Punting Co]. Какой у них почтовый индекс и номер телефона, пожалуйста?',\n",
              " ' Почтовый индекс cb21rs, номер телефона 01223359750.',\n",
              " ' хорошо, спасибо. мне больше ничего не нужно. увидимся!',\n",
              " ' До свидания. Я надеюсь, вам понравился ваш визит.']"
            ]
          },
          "metadata": {
            "tags": []
          },
          "execution_count": 296
        }
      ]
    },
    {
      "cell_type": "code",
      "metadata": {
        "id": "DboXkAI_rkHx"
      },
      "source": [
        "# generating json with translated data\n",
        "translated_json = []\n",
        "for i in range(len(translated)):\n",
        "    res = translated2json(translated[i], data[i])\n",
        "    translated_json.append(res)\n",
        "    \n",
        "with open(\"dialogues_001_russian.json\", \"w\", encoding='utf-8') as f:\n",
        "    json.dump(translated_json, f, ensure_ascii=False)"
      ],
      "execution_count": 297,
      "outputs": []
    },
    {
      "cell_type": "code",
      "metadata": {
        "colab": {
          "base_uri": "https://localhost:8080/"
        },
        "id": "0yQBd7NLBoQP",
        "outputId": "292aab41-259b-4dc7-de15-29c1e98dcf3b"
      },
      "source": [
        "len(data)"
      ],
      "execution_count": 291,
      "outputs": [
        {
          "output_type": "execute_result",
          "data": {
            "text/plain": [
              "512"
            ]
          },
          "metadata": {
            "tags": []
          },
          "execution_count": 291
        }
      ]
    },
    {
      "cell_type": "code",
      "metadata": {
        "colab": {
          "base_uri": "https://localhost:8080/"
        },
        "id": "p3QgYLODBt9g",
        "outputId": "52fe4fa7-3986-4de1-b282-6fd89225e2a2"
      },
      "source": [
        "len(translated)"
      ],
      "execution_count": 292,
      "outputs": [
        {
          "output_type": "execute_result",
          "data": {
            "text/plain": [
              "511"
            ]
          },
          "metadata": {
            "tags": []
          },
          "execution_count": 292
        }
      ]
    },
    {
      "cell_type": "code",
      "metadata": {
        "colab": {
          "base_uri": "https://localhost:8080/",
          "height": 1000
        },
        "id": "CGdX7guT8TjR",
        "outputId": "a34815a3-f9bb-4253-adaa-4388ef27aabe"
      },
      "source": [
        "# testing\n",
        "for i in range(len(translated)):\n",
        "    test_reference = translated[i] # reference version from translated texts\n",
        "    res = translated2json(translated[i], data[i])\n",
        "    orig = json2txt(original_data[i])\n",
        "    test_target = json2txt(res)\n",
        "    for j in range(len(translated[i])):\n",
        "        if test_reference[j] != test_target[j]:\n",
        "            print(f\"Error at dialogue #{i} - utterance #{j}:\")\n",
        "            print(f\"[bold green]Original[/bold green]: {orig[j]}\")\n",
        "            print(f\"[bold yellow]Translation[/bold yellow]: {test_reference[j]}\")\n",
        "            print(f\"[bold red]After matching[/bold red]: {test_target[j]}\")\n",
        "            print(\"==\"*20)\n",
        "    #print(test_reference)\n",
        "    #print(\"=\"*20)\n",
        "    #print(test_target)\n",
        "    #assert test_reference == test_target, f\"Failed for text {i}\""
      ],
      "execution_count": 298,
      "outputs": [
        {
          "output_type": "display_data",
          "data": {
            "text/html": [
              "<pre style=\"white-space:pre;overflow-x:auto;line-height:normal;font-family:Menlo,'DejaVu Sans Mono',consolas,'Courier New',monospace\">Error at dialogue #<span style=\"color: #008080; text-decoration-color: #008080; font-weight: bold\">6</span> - utterance #<span style=\"color: #008080; text-decoration-color: #008080; font-weight: bold\">7</span>:\n",
              "</pre>\n"
            ],
            "text/plain": [
              "Error at dialogue #\u001b[1;36m6\u001b[0m - utterance #\u001b[1;36m7\u001b[0m:\n"
            ]
          },
          "metadata": {
            "tags": []
          }
        },
        {
          "output_type": "display_data",
          "data": {
            "text/html": [
              "<pre style=\"white-space:pre;overflow-x:auto;line-height:normal;font-family:Menlo,'DejaVu Sans Mono',consolas,'Courier New',monospace\"><span style=\"color: #008000; text-decoration-color: #008000; font-weight: bold\">Original</span>: The <span style=\"font-weight: bold\">[</span>Bedouin<span style=\"font-weight: bold\">]</span> in the city centre is an expensive African restaurant. Would you like\n",
              "me to book it for you?\n",
              "</pre>\n"
            ],
            "text/plain": [
              "\u001b[1;32mOriginal\u001b[0m: The \u001b[1m[\u001b[0mBedouin\u001b[1m]\u001b[0m in the city centre is an expensive African restaurant. Would you like\n",
              "me to book it for you?\n"
            ]
          },
          "metadata": {
            "tags": []
          }
        },
        {
          "output_type": "display_data",
          "data": {
            "text/html": [
              "<pre style=\"white-space:pre;overflow-x:auto;line-height:normal;font-family:Menlo,'DejaVu Sans Mono',consolas,'Courier New',monospace\"><span style=\"color: #808000; text-decoration-color: #808000; font-weight: bold\">Translation</span>:  «Бедуин» в центре города - дорогой африканский ресторан. Вы хотите, чтобы я \n",
              "забронировал это для вас?\n",
              "</pre>\n"
            ],
            "text/plain": [
              "\u001b[1;33mTranslation\u001b[0m:  «Бедуин» в центре города - дорогой африканский ресторан. Вы хотите, чтобы я \n",
              "забронировал это для вас?\n"
            ]
          },
          "metadata": {
            "tags": []
          }
        },
        {
          "output_type": "display_data",
          "data": {
            "text/html": [
              "<pre style=\"white-space:pre;overflow-x:auto;line-height:normal;font-family:Menlo,'DejaVu Sans Mono',consolas,'Courier New',monospace\"><span style=\"color: #800000; text-decoration-color: #800000; font-weight: bold\">After matching</span>:  <span style=\"font-weight: bold\">[</span>Бедуин<span style=\"font-weight: bold\">]</span> в центре города - дорогой африканский ресторан. Вы хотите, чтобы я \n",
              "забронировал это для вас?\n",
              "</pre>\n"
            ],
            "text/plain": [
              "\u001b[1;31mAfter matching\u001b[0m:  \u001b[1m[\u001b[0mБедуин\u001b[1m]\u001b[0m в центре города - дорогой африканский ресторан. Вы хотите, чтобы я \n",
              "забронировал это для вас?\n"
            ]
          },
          "metadata": {
            "tags": []
          }
        },
        {
          "output_type": "display_data",
          "data": {
            "text/html": [
              "<pre style=\"white-space:pre;overflow-x:auto;line-height:normal;font-family:Menlo,'DejaVu Sans Mono',consolas,'Courier New',monospace\">========================================\n",
              "</pre>\n"
            ],
            "text/plain": [
              "========================================\n"
            ]
          },
          "metadata": {
            "tags": []
          }
        },
        {
          "output_type": "display_data",
          "data": {
            "text/html": [
              "<pre style=\"white-space:pre;overflow-x:auto;line-height:normal;font-family:Menlo,'DejaVu Sans Mono',consolas,'Courier New',monospace\">Error at dialogue #<span style=\"color: #008080; text-decoration-color: #008080; font-weight: bold\">66</span> - utterance #<span style=\"color: #008080; text-decoration-color: #008080; font-weight: bold\">0</span>:\n",
              "</pre>\n"
            ],
            "text/plain": [
              "Error at dialogue #\u001b[1;36m66\u001b[0m - utterance #\u001b[1;36m0\u001b[0m:\n"
            ]
          },
          "metadata": {
            "tags": []
          }
        },
        {
          "output_type": "display_data",
          "data": {
            "text/html": [
              "<pre style=\"white-space:pre;overflow-x:auto;line-height:normal;font-family:Menlo,'DejaVu Sans Mono',consolas,'Courier New',monospace\"><span style=\"color: #008000; text-decoration-color: #008000; font-weight: bold\">Original</span>: Can you help me find a good  restaurant in the west?\n",
              "</pre>\n"
            ],
            "text/plain": [
              "\u001b[1;32mOriginal\u001b[0m: Can you help me find a good  restaurant in the west?\n"
            ]
          },
          "metadata": {
            "tags": []
          }
        },
        {
          "output_type": "display_data",
          "data": {
            "text/html": [
              "<pre style=\"white-space:pre;overflow-x:auto;line-height:normal;font-family:Menlo,'DejaVu Sans Mono',consolas,'Courier New',monospace\"><span style=\"color: #808000; text-decoration-color: #808000; font-weight: bold\">Translation</span>:  Вы можете помочь мне найти хороший тайский ресторан на западе?\n",
              "</pre>\n"
            ],
            "text/plain": [
              "\u001b[1;33mTranslation\u001b[0m:  Вы можете помочь мне найти хороший тайский ресторан на западе?\n"
            ]
          },
          "metadata": {
            "tags": []
          }
        },
        {
          "output_type": "display_data",
          "data": {
            "text/html": [
              "<pre style=\"white-space:pre;overflow-x:auto;line-height:normal;font-family:Menlo,'DejaVu Sans Mono',consolas,'Courier New',monospace\"><span style=\"color: #800000; text-decoration-color: #800000; font-weight: bold\">After matching</span>:  Вы можете помочь мне найти <span style=\"font-weight: bold\">[</span>хоро<span style=\"font-weight: bold\">]</span>ший тайский ресторан на западе?\n",
              "</pre>\n"
            ],
            "text/plain": [
              "\u001b[1;31mAfter matching\u001b[0m:  Вы можете помочь мне найти \u001b[1m[\u001b[0mхоро\u001b[1m]\u001b[0mший тайский ресторан на западе?\n"
            ]
          },
          "metadata": {
            "tags": []
          }
        },
        {
          "output_type": "display_data",
          "data": {
            "text/html": [
              "<pre style=\"white-space:pre;overflow-x:auto;line-height:normal;font-family:Menlo,'DejaVu Sans Mono',consolas,'Courier New',monospace\">========================================\n",
              "</pre>\n"
            ],
            "text/plain": [
              "========================================\n"
            ]
          },
          "metadata": {
            "tags": []
          }
        },
        {
          "output_type": "display_data",
          "data": {
            "text/html": [
              "<pre style=\"white-space:pre;overflow-x:auto;line-height:normal;font-family:Menlo,'DejaVu Sans Mono',consolas,'Courier New',monospace\">Error at dialogue #<span style=\"color: #008080; text-decoration-color: #008080; font-weight: bold\">68</span> - utterance #<span style=\"color: #008080; text-decoration-color: #008080; font-weight: bold\">10</span>:\n",
              "</pre>\n"
            ],
            "text/plain": [
              "Error at dialogue #\u001b[1;36m68\u001b[0m - utterance #\u001b[1;36m10\u001b[0m:\n"
            ]
          },
          "metadata": {
            "tags": []
          }
        },
        {
          "output_type": "display_data",
          "data": {
            "text/html": [
              "<pre style=\"white-space:pre;overflow-x:auto;line-height:normal;font-family:Menlo,'DejaVu Sans Mono',consolas,'Courier New',monospace\"><span style=\"color: #008000; text-decoration-color: #008000; font-weight: bold\">Original</span>: <span style=\"font-weight: bold\">[</span>S<span style=\"font-weight: bold\">]</span> would be a fine choice, I need a table on Friday for <span style=\"color: #008080; text-decoration-color: #008080; font-weight: bold\">2</span> people at <span style=\"font-weight: bold\">[</span><span style=\"color: #00ff00; text-decoration-color: #00ff00; font-weight: bold\">11:15</span><span style=\"font-weight: bold\">]</span>.\n",
              "</pre>\n"
            ],
            "text/plain": [
              "\u001b[1;32mOriginal\u001b[0m: \u001b[1m[\u001b[0mS\u001b[1m]\u001b[0m would be a fine choice, I need a table on Friday for \u001b[1;36m2\u001b[0m people at \u001b[1m[\u001b[0m\u001b[1;92m11:15\u001b[0m\u001b[1m]\u001b[0m.\n"
            ]
          },
          "metadata": {
            "tags": []
          }
        },
        {
          "output_type": "display_data",
          "data": {
            "text/html": [
              "<pre style=\"white-space:pre;overflow-x:auto;line-height:normal;font-family:Menlo,'DejaVu Sans Mono',consolas,'Courier New',monospace\"><span style=\"color: #808000; text-decoration-color: #808000; font-weight: bold\">Translation</span>:  <span style=\"font-weight: bold\">[</span>С <span style=\"font-weight: bold\">[</span>луг и салат<span style=\"font-weight: bold\">]]</span> будет хорошим выбором, мне нужен столик в пятницу на <span style=\"color: #008080; text-decoration-color: #008080; font-weight: bold\">2</span> \n",
              "человек в <span style=\"font-weight: bold\">[</span><span style=\"color: #00ff00; text-decoration-color: #00ff00; font-weight: bold\">11:15</span><span style=\"font-weight: bold\">]</span>.\n",
              "</pre>\n"
            ],
            "text/plain": [
              "\u001b[1;33mTranslation\u001b[0m:  \u001b[1m[\u001b[0mС \u001b[1m[\u001b[0mлуг и салат\u001b[1m]\u001b[0m\u001b[1m]\u001b[0m будет хорошим выбором, мне нужен столик в пятницу на \u001b[1;36m2\u001b[0m \n",
              "человек в \u001b[1m[\u001b[0m\u001b[1;92m11:15\u001b[0m\u001b[1m]\u001b[0m.\n"
            ]
          },
          "metadata": {
            "tags": []
          }
        },
        {
          "output_type": "display_data",
          "data": {
            "text/html": [
              "<pre style=\"white-space:pre;overflow-x:auto;line-height:normal;font-family:Menlo,'DejaVu Sans Mono',consolas,'Courier New',monospace\"><span style=\"color: #800000; text-decoration-color: #800000; font-weight: bold\">After matching</span>:  <span style=\"font-weight: bold\">[</span>С <span style=\"font-weight: bold\">[</span>луг и салат <span style=\"font-weight: bold\">]]</span>будет хорошим выбором, мне нужен столик в пятницу на <span style=\"color: #008080; text-decoration-color: #008080; font-weight: bold\">2</span> \n",
              "человек в <span style=\"font-weight: bold\">[</span><span style=\"color: #00ff00; text-decoration-color: #00ff00; font-weight: bold\">11:15</span><span style=\"font-weight: bold\">]</span>.\n",
              "</pre>\n"
            ],
            "text/plain": [
              "\u001b[1;31mAfter matching\u001b[0m:  \u001b[1m[\u001b[0mС \u001b[1m[\u001b[0mлуг и салат \u001b[1m]\u001b[0m\u001b[1m]\u001b[0mбудет хорошим выбором, мне нужен столик в пятницу на \u001b[1;36m2\u001b[0m \n",
              "человек в \u001b[1m[\u001b[0m\u001b[1;92m11:15\u001b[0m\u001b[1m]\u001b[0m.\n"
            ]
          },
          "metadata": {
            "tags": []
          }
        },
        {
          "output_type": "display_data",
          "data": {
            "text/html": [
              "<pre style=\"white-space:pre;overflow-x:auto;line-height:normal;font-family:Menlo,'DejaVu Sans Mono',consolas,'Courier New',monospace\">========================================\n",
              "</pre>\n"
            ],
            "text/plain": [
              "========================================\n"
            ]
          },
          "metadata": {
            "tags": []
          }
        },
        {
          "output_type": "display_data",
          "data": {
            "text/html": [
              "<pre style=\"white-space:pre;overflow-x:auto;line-height:normal;font-family:Menlo,'DejaVu Sans Mono',consolas,'Courier New',monospace\">Error at dialogue #<span style=\"color: #008080; text-decoration-color: #008080; font-weight: bold\">72</span> - utterance #<span style=\"color: #008080; text-decoration-color: #008080; font-weight: bold\">1</span>:\n",
              "</pre>\n"
            ],
            "text/plain": [
              "Error at dialogue #\u001b[1;36m72\u001b[0m - utterance #\u001b[1;36m1\u001b[0m:\n"
            ]
          },
          "metadata": {
            "tags": []
          }
        },
        {
          "output_type": "display_data",
          "data": {
            "text/html": [
              "<pre style=\"white-space:pre;overflow-x:auto;line-height:normal;font-family:Menlo,'DejaVu Sans Mono',consolas,'Courier New',monospace\"><span style=\"color: #008000; text-decoration-color: #008000; font-weight: bold\">Original</span>: Definitely! I recommend <span style=\"font-weight: bold\">[</span>C<span style=\"font-weight: bold\">]</span>, at <span style=\"color: #008080; text-decoration-color: #008080; font-weight: bold\">32</span> Bridge Street City Centre.\n",
              "</pre>\n"
            ],
            "text/plain": [
              "\u001b[1;32mOriginal\u001b[0m: Definitely! I recommend \u001b[1m[\u001b[0mC\u001b[1m]\u001b[0m, at \u001b[1;36m32\u001b[0m Bridge Street City Centre.\n"
            ]
          },
          "metadata": {
            "tags": []
          }
        },
        {
          "output_type": "display_data",
          "data": {
            "text/html": [
              "<pre style=\"white-space:pre;overflow-x:auto;line-height:normal;font-family:Menlo,'DejaVu Sans Mono',consolas,'Courier New',monospace\"><span style=\"color: #808000; text-decoration-color: #808000; font-weight: bold\">Translation</span>:  Определенно! Я рекомендую <span style=\"font-weight: bold\">[</span>C <span style=\"font-weight: bold\">]</span>, на <span style=\"color: #008080; text-decoration-color: #008080; font-weight: bold\">32</span> Bridge Street City Center.\n",
              "</pre>\n"
            ],
            "text/plain": [
              "\u001b[1;33mTranslation\u001b[0m:  Определенно! Я рекомендую \u001b[1m[\u001b[0mC \u001b[1m]\u001b[0m, на \u001b[1;36m32\u001b[0m Bridge Street City Center.\n"
            ]
          },
          "metadata": {
            "tags": []
          }
        },
        {
          "output_type": "display_data",
          "data": {
            "text/html": [
              "<pre style=\"white-space:pre;overflow-x:auto;line-height:normal;font-family:Menlo,'DejaVu Sans Mono',consolas,'Courier New',monospace\"><span style=\"color: #800000; text-decoration-color: #800000; font-weight: bold\">After matching</span>:  Определенно! Я рекомендую <span style=\"font-weight: bold\">[</span>C <span style=\"font-weight: bold\">]</span> на <span style=\"color: #008080; text-decoration-color: #008080; font-weight: bold\">32</span> Bridge Street City Center.\n",
              "</pre>\n"
            ],
            "text/plain": [
              "\u001b[1;31mAfter matching\u001b[0m:  Определенно! Я рекомендую \u001b[1m[\u001b[0mC \u001b[1m]\u001b[0m на \u001b[1;36m32\u001b[0m Bridge Street City Center.\n"
            ]
          },
          "metadata": {
            "tags": []
          }
        },
        {
          "output_type": "display_data",
          "data": {
            "text/html": [
              "<pre style=\"white-space:pre;overflow-x:auto;line-height:normal;font-family:Menlo,'DejaVu Sans Mono',consolas,'Courier New',monospace\">========================================\n",
              "</pre>\n"
            ],
            "text/plain": [
              "========================================\n"
            ]
          },
          "metadata": {
            "tags": []
          }
        },
        {
          "output_type": "display_data",
          "data": {
            "text/html": [
              "<pre style=\"white-space:pre;overflow-x:auto;line-height:normal;font-family:Menlo,'DejaVu Sans Mono',consolas,'Courier New',monospace\">Error at dialogue #<span style=\"color: #008080; text-decoration-color: #008080; font-weight: bold\">164</span> - utterance #<span style=\"color: #008080; text-decoration-color: #008080; font-weight: bold\">11</span>:\n",
              "</pre>\n"
            ],
            "text/plain": [
              "Error at dialogue #\u001b[1;36m164\u001b[0m - utterance #\u001b[1;36m11\u001b[0m:\n"
            ]
          },
          "metadata": {
            "tags": []
          }
        },
        {
          "output_type": "display_data",
          "data": {
            "text/html": [
              "<pre style=\"white-space:pre;overflow-x:auto;line-height:normal;font-family:Menlo,'DejaVu Sans Mono',consolas,'Courier New',monospace\"><span style=\"color: #008000; text-decoration-color: #008000; font-weight: bold\">Original</span>: I hear the  is really nice. Would you like me to book you a room there?\n",
              "</pre>\n"
            ],
            "text/plain": [
              "\u001b[1;32mOriginal\u001b[0m: I hear the  is really nice. Would you like me to book you a room there?\n"
            ]
          },
          "metadata": {
            "tags": []
          }
        },
        {
          "output_type": "display_data",
          "data": {
            "text/html": [
              "<pre style=\"white-space:pre;overflow-x:auto;line-height:normal;font-family:Menlo,'DejaVu Sans Mono',consolas,'Courier New',monospace\"><span style=\"color: #808000; text-decoration-color: #808000; font-weight: bold\">Translation</span>:  Я слышал, что дом действительно хорош. Вы хотите, чтобы я зарезервировал вам \n",
              "там комнату?\n",
              "</pre>\n"
            ],
            "text/plain": [
              "\u001b[1;33mTranslation\u001b[0m:  Я слышал, что дом действительно хорош. Вы хотите, чтобы я зарезервировал вам \n",
              "там комнату?\n"
            ]
          },
          "metadata": {
            "tags": []
          }
        },
        {
          "output_type": "display_data",
          "data": {
            "text/html": [
              "<pre style=\"white-space:pre;overflow-x:auto;line-height:normal;font-family:Menlo,'DejaVu Sans Mono',consolas,'Courier New',monospace\"><span style=\"color: #800000; text-decoration-color: #800000; font-weight: bold\">After matching</span>:  Я слышал, <span style=\"font-weight: bold\">[</span>что дом дей<span style=\"font-weight: bold\">]</span>ствительно хорош. Вы хотите, чтобы я зарезервировал \n",
              "вам там комнату?\n",
              "</pre>\n"
            ],
            "text/plain": [
              "\u001b[1;31mAfter matching\u001b[0m:  Я слышал, \u001b[1m[\u001b[0mчто дом дей\u001b[1m]\u001b[0mствительно хорош. Вы хотите, чтобы я зарезервировал \n",
              "вам там комнату?\n"
            ]
          },
          "metadata": {
            "tags": []
          }
        },
        {
          "output_type": "display_data",
          "data": {
            "text/html": [
              "<pre style=\"white-space:pre;overflow-x:auto;line-height:normal;font-family:Menlo,'DejaVu Sans Mono',consolas,'Courier New',monospace\">========================================\n",
              "</pre>\n"
            ],
            "text/plain": [
              "========================================\n"
            ]
          },
          "metadata": {
            "tags": []
          }
        },
        {
          "output_type": "display_data",
          "data": {
            "text/html": [
              "<pre style=\"white-space:pre;overflow-x:auto;line-height:normal;font-family:Menlo,'DejaVu Sans Mono',consolas,'Courier New',monospace\">Error at dialogue #<span style=\"color: #008080; text-decoration-color: #008080; font-weight: bold\">168</span> - utterance #<span style=\"color: #008080; text-decoration-color: #008080; font-weight: bold\">0</span>:\n",
              "</pre>\n"
            ],
            "text/plain": [
              "Error at dialogue #\u001b[1;36m168\u001b[0m - utterance #\u001b[1;36m0\u001b[0m:\n"
            ]
          },
          "metadata": {
            "tags": []
          }
        },
        {
          "output_type": "display_data",
          "data": {
            "text/html": [
              "<pre style=\"white-space:pre;overflow-x:auto;line-height:normal;font-family:Menlo,'DejaVu Sans Mono',consolas,'Courier New',monospace\"><span style=\"color: #008000; text-decoration-color: #008000; font-weight: bold\">Original</span>: My sister recommended the <span style=\"font-weight: bold\">[</span>Meghna<span style=\"font-weight: bold\">]</span> restaurant. What can you tell me about it?\n",
              "</pre>\n"
            ],
            "text/plain": [
              "\u001b[1;32mOriginal\u001b[0m: My sister recommended the \u001b[1m[\u001b[0mMeghna\u001b[1m]\u001b[0m restaurant. What can you tell me about it?\n"
            ]
          },
          "metadata": {
            "tags": []
          }
        },
        {
          "output_type": "display_data",
          "data": {
            "text/html": [
              "<pre style=\"white-space:pre;overflow-x:auto;line-height:normal;font-family:Menlo,'DejaVu Sans Mono',consolas,'Courier New',monospace\"><span style=\"color: #808000; text-decoration-color: #808000; font-weight: bold\">Translation</span>:  Моя сестра порекомендовала ресторан «Мегна». Что вы можете мне об этом \n",
              "рассказать?\n",
              "</pre>\n"
            ],
            "text/plain": [
              "\u001b[1;33mTranslation\u001b[0m:  Моя сестра порекомендовала ресторан «Мегна». Что вы можете мне об этом \n",
              "рассказать?\n"
            ]
          },
          "metadata": {
            "tags": []
          }
        },
        {
          "output_type": "display_data",
          "data": {
            "text/html": [
              "<pre style=\"white-space:pre;overflow-x:auto;line-height:normal;font-family:Menlo,'DejaVu Sans Mono',consolas,'Courier New',monospace\"><span style=\"color: #800000; text-decoration-color: #800000; font-weight: bold\">After matching</span>:  Моя сестра порекомендовала ресторан <span style=\"font-weight: bold\">[</span>Мегна<span style=\"font-weight: bold\">]</span>. Что вы можете мне об этом \n",
              "рассказать?\n",
              "</pre>\n"
            ],
            "text/plain": [
              "\u001b[1;31mAfter matching\u001b[0m:  Моя сестра порекомендовала ресторан \u001b[1m[\u001b[0mМегна\u001b[1m]\u001b[0m. Что вы можете мне об этом \n",
              "рассказать?\n"
            ]
          },
          "metadata": {
            "tags": []
          }
        },
        {
          "output_type": "display_data",
          "data": {
            "text/html": [
              "<pre style=\"white-space:pre;overflow-x:auto;line-height:normal;font-family:Menlo,'DejaVu Sans Mono',consolas,'Courier New',monospace\">========================================\n",
              "</pre>\n"
            ],
            "text/plain": [
              "========================================\n"
            ]
          },
          "metadata": {
            "tags": []
          }
        },
        {
          "output_type": "display_data",
          "data": {
            "text/html": [
              "<pre style=\"white-space:pre;overflow-x:auto;line-height:normal;font-family:Menlo,'DejaVu Sans Mono',consolas,'Courier New',monospace\">Error at dialogue #<span style=\"color: #008080; text-decoration-color: #008080; font-weight: bold\">295</span> - utterance #<span style=\"color: #008080; text-decoration-color: #008080; font-weight: bold\">9</span>:\n",
              "</pre>\n"
            ],
            "text/plain": [
              "Error at dialogue #\u001b[1;36m295\u001b[0m - utterance #\u001b[1;36m9\u001b[0m:\n"
            ]
          },
          "metadata": {
            "tags": []
          }
        },
        {
          "output_type": "display_data",
          "data": {
            "text/html": [
              "<pre style=\"white-space:pre;overflow-x:auto;line-height:normal;font-family:Menlo,'DejaVu Sans Mono',consolas,'Courier New',monospace\"><span style=\"color: #008000; text-decoration-color: #008000; font-weight: bold\">Original</span>: The <span style=\"font-weight: bold\">[</span>Cambridge Contemporary Art<span style=\"font-weight: bold\">]</span> Museum is on Trinity Street. There are a number of\n",
              "others in the area also. Can I give you any other information?\n",
              "</pre>\n"
            ],
            "text/plain": [
              "\u001b[1;32mOriginal\u001b[0m: The \u001b[1m[\u001b[0mCambridge Contemporary Art\u001b[1m]\u001b[0m Museum is on Trinity Street. There are a number of\n",
              "others in the area also. Can I give you any other information?\n"
            ]
          },
          "metadata": {
            "tags": []
          }
        },
        {
          "output_type": "display_data",
          "data": {
            "text/html": [
              "<pre style=\"white-space:pre;overflow-x:auto;line-height:normal;font-family:Menlo,'DejaVu Sans Mono',consolas,'Courier New',monospace\"><span style=\"color: #808000; text-decoration-color: #808000; font-weight: bold\">Translation</span>:  Кембриджский музей современного искусства находится на Тринити-стрит. Есть и \n",
              "другие в этом районе. Могу я дать вам другую информацию?\n",
              "</pre>\n"
            ],
            "text/plain": [
              "\u001b[1;33mTranslation\u001b[0m:  Кембриджский музей современного искусства находится на Тринити-стрит. Есть и \n",
              "другие в этом районе. Могу я дать вам другую информацию?\n"
            ]
          },
          "metadata": {
            "tags": []
          }
        },
        {
          "output_type": "display_data",
          "data": {
            "text/html": [
              "<pre style=\"white-space:pre;overflow-x:auto;line-height:normal;font-family:Menlo,'DejaVu Sans Mono',consolas,'Courier New',monospace\"><span style=\"color: #800000; text-decoration-color: #800000; font-weight: bold\">After matching</span>:  Кем<span style=\"font-weight: bold\">[</span>бриджский музей современно<span style=\"font-weight: bold\">]</span>го искусства находится на Тринити-стрит. Есть\n",
              "и другие в этом районе. Могу я дать вам другую информацию?\n",
              "</pre>\n"
            ],
            "text/plain": [
              "\u001b[1;31mAfter matching\u001b[0m:  Кем\u001b[1m[\u001b[0mбриджский музей современно\u001b[1m]\u001b[0mго искусства находится на Тринити-стрит. Есть\n",
              "и другие в этом районе. Могу я дать вам другую информацию?\n"
            ]
          },
          "metadata": {
            "tags": []
          }
        },
        {
          "output_type": "display_data",
          "data": {
            "text/html": [
              "<pre style=\"white-space:pre;overflow-x:auto;line-height:normal;font-family:Menlo,'DejaVu Sans Mono',consolas,'Courier New',monospace\">========================================\n",
              "</pre>\n"
            ],
            "text/plain": [
              "========================================\n"
            ]
          },
          "metadata": {
            "tags": []
          }
        },
        {
          "output_type": "display_data",
          "data": {
            "text/html": [
              "<pre style=\"white-space:pre;overflow-x:auto;line-height:normal;font-family:Menlo,'DejaVu Sans Mono',consolas,'Courier New',monospace\">Error at dialogue #<span style=\"color: #008080; text-decoration-color: #008080; font-weight: bold\">307</span> - utterance #<span style=\"color: #008080; text-decoration-color: #008080; font-weight: bold\">9</span>:\n",
              "</pre>\n"
            ],
            "text/plain": [
              "Error at dialogue #\u001b[1;36m307\u001b[0m - utterance #\u001b[1;36m9\u001b[0m:\n"
            ]
          },
          "metadata": {
            "tags": []
          }
        },
        {
          "output_type": "display_data",
          "data": {
            "text/html": [
              "<pre style=\"white-space:pre;overflow-x:auto;line-height:normal;font-family:Menlo,'DejaVu Sans Mono',consolas,'Courier New',monospace\"><span style=\"color: #008000; text-decoration-color: #008000; font-weight: bold\">Original</span>: The postcode for <span style=\"font-weight: bold\">]</span> is cb58wr, phone <span style=\"color: #008080; text-decoration-color: #008080; font-weight: bold\">01223323737</span>. Can I help you with anything else?\n",
              "</pre>\n"
            ],
            "text/plain": [
              "\u001b[1;32mOriginal\u001b[0m: The postcode for \u001b[1m]\u001b[0m is cb58wr, phone \u001b[1;36m01223323737\u001b[0m. Can I help you with anything else?\n"
            ]
          },
          "metadata": {
            "tags": []
          }
        },
        {
          "output_type": "display_data",
          "data": {
            "text/html": [
              "<pre style=\"white-space:pre;overflow-x:auto;line-height:normal;font-family:Menlo,'DejaVu Sans Mono',consolas,'Courier New',monospace\"><span style=\"color: #808000; text-decoration-color: #808000; font-weight: bold\">Translation</span>:  Почтовый индекс для <span style=\"font-weight: bold\">]</span>: cb58wr, телефон <span style=\"color: #008080; text-decoration-color: #008080; font-weight: bold\">01223323737</span>. Могу я вам чем-нибудь \n",
              "помочь?\n",
              "</pre>\n"
            ],
            "text/plain": [
              "\u001b[1;33mTranslation\u001b[0m:  Почтовый индекс для \u001b[1m]\u001b[0m: cb58wr, телефон \u001b[1;36m01223323737\u001b[0m. Могу я вам чем-нибудь \n",
              "помочь?\n"
            ]
          },
          "metadata": {
            "tags": []
          }
        },
        {
          "output_type": "display_data",
          "data": {
            "text/html": [
              "<pre style=\"white-space:pre;overflow-x:auto;line-height:normal;font-family:Menlo,'DejaVu Sans Mono',consolas,'Courier New',monospace\"><span style=\"color: #800000; text-decoration-color: #800000; font-weight: bold\">After matching</span>:  Почтовый индекс для <span style=\"font-weight: bold\">]</span> cb58wr, телефон <span style=\"color: #008080; text-decoration-color: #008080; font-weight: bold\">01223323737</span>. Могу я вам чем-нибудь \n",
              "помочь?\n",
              "</pre>\n"
            ],
            "text/plain": [
              "\u001b[1;31mAfter matching\u001b[0m:  Почтовый индекс для \u001b[1m]\u001b[0m cb58wr, телефон \u001b[1;36m01223323737\u001b[0m. Могу я вам чем-нибудь \n",
              "помочь?\n"
            ]
          },
          "metadata": {
            "tags": []
          }
        },
        {
          "output_type": "display_data",
          "data": {
            "text/html": [
              "<pre style=\"white-space:pre;overflow-x:auto;line-height:normal;font-family:Menlo,'DejaVu Sans Mono',consolas,'Courier New',monospace\">========================================\n",
              "</pre>\n"
            ],
            "text/plain": [
              "========================================\n"
            ]
          },
          "metadata": {
            "tags": []
          }
        },
        {
          "output_type": "display_data",
          "data": {
            "text/html": [
              "<pre style=\"white-space:pre;overflow-x:auto;line-height:normal;font-family:Menlo,'DejaVu Sans Mono',consolas,'Courier New',monospace\">Error at dialogue #<span style=\"color: #008080; text-decoration-color: #008080; font-weight: bold\">323</span> - utterance #<span style=\"color: #008080; text-decoration-color: #008080; font-weight: bold\">9</span>:\n",
              "</pre>\n"
            ],
            "text/plain": [
              "Error at dialogue #\u001b[1;36m323\u001b[0m - utterance #\u001b[1;36m9\u001b[0m:\n"
            ]
          },
          "metadata": {
            "tags": []
          }
        },
        {
          "output_type": "display_data",
          "data": {
            "text/html": [
              "<pre style=\"white-space:pre;overflow-x:auto;line-height:normal;font-family:Menlo,'DejaVu Sans Mono',consolas,'Courier New',monospace\"><span style=\"color: #008000; text-decoration-color: #008000; font-weight: bold\">Original</span>: Okay, I see two restaurants in the system, Pizza Express and Pizza Express Fen \n",
              "Ditton. They're both moderately priced <span style=\"font-weight: bold\">[</span>Italian<span style=\"font-weight: bold\">]</span> restaurants located in the centre of town.\n",
              "</pre>\n"
            ],
            "text/plain": [
              "\u001b[1;32mOriginal\u001b[0m: Okay, I see two restaurants in the system, Pizza Express and Pizza Express Fen \n",
              "Ditton. They're both moderately priced \u001b[1m[\u001b[0mItalian\u001b[1m]\u001b[0m restaurants located in the centre of town.\n"
            ]
          },
          "metadata": {
            "tags": []
          }
        },
        {
          "output_type": "display_data",
          "data": {
            "text/html": [
              "<pre style=\"white-space:pre;overflow-x:auto;line-height:normal;font-family:Menlo,'DejaVu Sans Mono',consolas,'Courier New',monospace\"><span style=\"color: #808000; text-decoration-color: #808000; font-weight: bold\">Translation</span>:  Хорошо, я вижу в системе два ресторана, Пицца Экспресс и Пицца Экспресс Фен \n",
              "Диттон. Это оба итальянских ресторана с умеренными ценами, расположенные в центре города.\n",
              "</pre>\n"
            ],
            "text/plain": [
              "\u001b[1;33mTranslation\u001b[0m:  Хорошо, я вижу в системе два ресторана, Пицца Экспресс и Пицца Экспресс Фен \n",
              "Диттон. Это оба итальянских ресторана с умеренными ценами, расположенные в центре города.\n"
            ]
          },
          "metadata": {
            "tags": []
          }
        },
        {
          "output_type": "display_data",
          "data": {
            "text/html": [
              "<pre style=\"white-space:pre;overflow-x:auto;line-height:normal;font-family:Menlo,'DejaVu Sans Mono',consolas,'Courier New',monospace\"><span style=\"color: #800000; text-decoration-color: #800000; font-weight: bold\">After matching</span>:  Хорошо, я вижу в системе два ресторана, Пицца Экспресс и Пицца Экспресс Фен \n",
              "Диттон. Это оба итальянских ресторана с у<span style=\"font-weight: bold\">[</span>меренны<span style=\"font-weight: bold\">]</span>ми ценами, расположенные в центре города.\n",
              "</pre>\n"
            ],
            "text/plain": [
              "\u001b[1;31mAfter matching\u001b[0m:  Хорошо, я вижу в системе два ресторана, Пицца Экспресс и Пицца Экспресс Фен \n",
              "Диттон. Это оба итальянских ресторана с у\u001b[1m[\u001b[0mмеренны\u001b[1m]\u001b[0mми ценами, расположенные в центре города.\n"
            ]
          },
          "metadata": {
            "tags": []
          }
        },
        {
          "output_type": "display_data",
          "data": {
            "text/html": [
              "<pre style=\"white-space:pre;overflow-x:auto;line-height:normal;font-family:Menlo,'DejaVu Sans Mono',consolas,'Courier New',monospace\">========================================\n",
              "</pre>\n"
            ],
            "text/plain": [
              "========================================\n"
            ]
          },
          "metadata": {
            "tags": []
          }
        },
        {
          "output_type": "display_data",
          "data": {
            "text/html": [
              "<pre style=\"white-space:pre;overflow-x:auto;line-height:normal;font-family:Menlo,'DejaVu Sans Mono',consolas,'Courier New',monospace\">Error at dialogue #<span style=\"color: #008080; text-decoration-color: #008080; font-weight: bold\">326</span> - utterance #<span style=\"color: #008080; text-decoration-color: #008080; font-weight: bold\">11</span>:\n",
              "</pre>\n"
            ],
            "text/plain": [
              "Error at dialogue #\u001b[1;36m326\u001b[0m - utterance #\u001b[1;36m11\u001b[0m:\n"
            ]
          },
          "metadata": {
            "tags": []
          }
        },
        {
          "output_type": "display_data",
          "data": {
            "text/html": [
              "<pre style=\"white-space:pre;overflow-x:auto;line-height:normal;font-family:Menlo,'DejaVu Sans Mono',consolas,'Courier New',monospace\"><span style=\"color: #008000; text-decoration-color: #008000; font-weight: bold\">Original</span>: I would suggest <span style=\"font-weight: bold\">[</span>C<span style=\"font-weight: bold\">]</span>. They are located in the east. There is no entrance fee.\n",
              "</pre>\n"
            ],
            "text/plain": [
              "\u001b[1;32mOriginal\u001b[0m: I would suggest \u001b[1m[\u001b[0mC\u001b[1m]\u001b[0m. They are located in the east. There is no entrance fee.\n"
            ]
          },
          "metadata": {
            "tags": []
          }
        },
        {
          "output_type": "display_data",
          "data": {
            "text/html": [
              "<pre style=\"white-space:pre;overflow-x:auto;line-height:normal;font-family:Menlo,'DejaVu Sans Mono',consolas,'Courier New',monospace\"><span style=\"color: #808000; text-decoration-color: #808000; font-weight: bold\">Translation</span>:  Я бы посоветовал <span style=\"font-weight: bold\">[</span>C <span style=\"font-weight: bold\">]</span>. Они расположены на востоке. Входной платы нет.\n",
              "</pre>\n"
            ],
            "text/plain": [
              "\u001b[1;33mTranslation\u001b[0m:  Я бы посоветовал \u001b[1m[\u001b[0mC \u001b[1m]\u001b[0m. Они расположены на востоке. Входной платы нет.\n"
            ]
          },
          "metadata": {
            "tags": []
          }
        },
        {
          "output_type": "display_data",
          "data": {
            "text/html": [
              "<pre style=\"white-space:pre;overflow-x:auto;line-height:normal;font-family:Menlo,'DejaVu Sans Mono',consolas,'Courier New',monospace\"><span style=\"color: #800000; text-decoration-color: #800000; font-weight: bold\">After matching</span>:  Я бы посоветовал <span style=\"font-weight: bold\">[</span>C <span style=\"font-weight: bold\">]</span> Они расположены на востоке. Входной платы нет.\n",
              "</pre>\n"
            ],
            "text/plain": [
              "\u001b[1;31mAfter matching\u001b[0m:  Я бы посоветовал \u001b[1m[\u001b[0mC \u001b[1m]\u001b[0m Они расположены на востоке. Входной платы нет.\n"
            ]
          },
          "metadata": {
            "tags": []
          }
        },
        {
          "output_type": "display_data",
          "data": {
            "text/html": [
              "<pre style=\"white-space:pre;overflow-x:auto;line-height:normal;font-family:Menlo,'DejaVu Sans Mono',consolas,'Courier New',monospace\">========================================\n",
              "</pre>\n"
            ],
            "text/plain": [
              "========================================\n"
            ]
          },
          "metadata": {
            "tags": []
          }
        },
        {
          "output_type": "display_data",
          "data": {
            "text/html": [
              "<pre style=\"white-space:pre;overflow-x:auto;line-height:normal;font-family:Menlo,'DejaVu Sans Mono',consolas,'Courier New',monospace\">Error at dialogue #<span style=\"color: #008080; text-decoration-color: #008080; font-weight: bold\">351</span> - utterance #<span style=\"color: #008080; text-decoration-color: #008080; font-weight: bold\">15</span>:\n",
              "</pre>\n"
            ],
            "text/plain": [
              "Error at dialogue #\u001b[1;36m351\u001b[0m - utterance #\u001b[1;36m15\u001b[0m:\n"
            ]
          },
          "metadata": {
            "tags": []
          }
        },
        {
          "output_type": "display_data",
          "data": {
            "text/html": [
              "<pre style=\"white-space:pre;overflow-x:auto;line-height:normal;font-family:Menlo,'DejaVu Sans Mono',consolas,'Courier New',monospace\"><span style=\"color: #008000; text-decoration-color: #008000; font-weight: bold\">Original</span>: I have booked you a room at the <span style=\"font-weight: bold\">[</span>B<span style=\"font-weight: bold\">]</span>, located at <span style=\"color: #008080; text-decoration-color: #008080; font-weight: bold\">151</span> hills road. Your reference \n",
              "number number is ZKR6W58Z .\n",
              "</pre>\n"
            ],
            "text/plain": [
              "\u001b[1;32mOriginal\u001b[0m: I have booked you a room at the \u001b[1m[\u001b[0mB\u001b[1m]\u001b[0m, located at \u001b[1;36m151\u001b[0m hills road. Your reference \n",
              "number number is ZKR6W58Z .\n"
            ]
          },
          "metadata": {
            "tags": []
          }
        },
        {
          "output_type": "display_data",
          "data": {
            "text/html": [
              "<pre style=\"white-space:pre;overflow-x:auto;line-height:normal;font-family:Menlo,'DejaVu Sans Mono',consolas,'Courier New',monospace\"><span style=\"color: #808000; text-decoration-color: #808000; font-weight: bold\">Translation</span>:  Я забронировал вам комнату в <span style=\"font-weight: bold\">[</span>B <span style=\"font-weight: bold\">[</span>Rridge Guest House<span style=\"font-weight: bold\">]]</span>, расположенном на дороге \n",
              "<span style=\"color: #008080; text-decoration-color: #008080; font-weight: bold\">151</span> холмов. Ваш ссылочный номер - ZKR6W58Z.\n",
              "</pre>\n"
            ],
            "text/plain": [
              "\u001b[1;33mTranslation\u001b[0m:  Я забронировал вам комнату в \u001b[1m[\u001b[0mB \u001b[1m[\u001b[0mRridge Guest House\u001b[1m]\u001b[0m\u001b[1m]\u001b[0m, расположенном на дороге \n",
              "\u001b[1;36m151\u001b[0m холмов. Ваш ссылочный номер - ZKR6W58Z.\n"
            ]
          },
          "metadata": {
            "tags": []
          }
        },
        {
          "output_type": "display_data",
          "data": {
            "text/html": [
              "<pre style=\"white-space:pre;overflow-x:auto;line-height:normal;font-family:Menlo,'DejaVu Sans Mono',consolas,'Courier New',monospace\"><span style=\"color: #800000; text-decoration-color: #800000; font-weight: bold\">After matching</span>:  Я забронировал вам комнату в <span style=\"font-weight: bold\">[</span>B <span style=\"font-weight: bold\">[</span>Rridge Guest House,<span style=\"font-weight: bold\">]]</span> расположенном на \n",
              "дороге <span style=\"color: #008080; text-decoration-color: #008080; font-weight: bold\">151</span> холмов. Ваш ссылочный номер - ZKR6W58Z.\n",
              "</pre>\n"
            ],
            "text/plain": [
              "\u001b[1;31mAfter matching\u001b[0m:  Я забронировал вам комнату в \u001b[1m[\u001b[0mB \u001b[1m[\u001b[0mRridge Guest House,\u001b[1m]\u001b[0m\u001b[1m]\u001b[0m расположенном на \n",
              "дороге \u001b[1;36m151\u001b[0m холмов. Ваш ссылочный номер - ZKR6W58Z.\n"
            ]
          },
          "metadata": {
            "tags": []
          }
        },
        {
          "output_type": "display_data",
          "data": {
            "text/html": [
              "<pre style=\"white-space:pre;overflow-x:auto;line-height:normal;font-family:Menlo,'DejaVu Sans Mono',consolas,'Courier New',monospace\">========================================\n",
              "</pre>\n"
            ],
            "text/plain": [
              "========================================\n"
            ]
          },
          "metadata": {
            "tags": []
          }
        },
        {
          "output_type": "display_data",
          "data": {
            "text/html": [
              "<pre style=\"white-space:pre;overflow-x:auto;line-height:normal;font-family:Menlo,'DejaVu Sans Mono',consolas,'Courier New',monospace\">Error at dialogue #<span style=\"color: #008080; text-decoration-color: #008080; font-weight: bold\">376</span> - utterance #<span style=\"color: #008080; text-decoration-color: #008080; font-weight: bold\">9</span>:\n",
              "</pre>\n"
            ],
            "text/plain": [
              "Error at dialogue #\u001b[1;36m376\u001b[0m - utterance #\u001b[1;36m9\u001b[0m:\n"
            ]
          },
          "metadata": {
            "tags": []
          }
        },
        {
          "output_type": "display_data",
          "data": {
            "text/html": [
              "<pre style=\"white-space:pre;overflow-x:auto;line-height:normal;font-family:Menlo,'DejaVu Sans Mono',consolas,'Courier New',monospace\"><span style=\"color: #008000; text-decoration-color: #008000; font-weight: bold\">Original</span>: The  guest house<span style=\"font-weight: bold\">]</span> you be just perfect for you. Shall I book it ?\n",
              "</pre>\n"
            ],
            "text/plain": [
              "\u001b[1;32mOriginal\u001b[0m: The  guest house\u001b[1m]\u001b[0m you be just perfect for you. Shall I book it ?\n"
            ]
          },
          "metadata": {
            "tags": []
          }
        },
        {
          "output_type": "display_data",
          "data": {
            "text/html": [
              "<pre style=\"white-space:pre;overflow-x:auto;line-height:normal;font-family:Menlo,'DejaVu Sans Mono',consolas,'Courier New',monospace\"><span style=\"color: #808000; text-decoration-color: #808000; font-weight: bold\">Translation</span>:  <span style=\"font-weight: bold\">[[</span>Кукурузный<span style=\"font-weight: bold\">]</span> гостевой дом<span style=\"font-weight: bold\">]</span> идеально подходит для вас. Могу я его заказать?\n",
              "</pre>\n"
            ],
            "text/plain": [
              "\u001b[1;33mTranslation\u001b[0m:  \u001b[1m[\u001b[0m\u001b[1m[\u001b[0mКукурузный\u001b[1m]\u001b[0m гостевой дом\u001b[1m]\u001b[0m идеально подходит для вас. Могу я его заказать?\n"
            ]
          },
          "metadata": {
            "tags": []
          }
        },
        {
          "output_type": "display_data",
          "data": {
            "text/html": [
              "<pre style=\"white-space:pre;overflow-x:auto;line-height:normal;font-family:Menlo,'DejaVu Sans Mono',consolas,'Courier New',monospace\"><span style=\"color: #800000; text-decoration-color: #800000; font-weight: bold\">After matching</span>: <span style=\"font-weight: bold\">[</span> К<span style=\"font-weight: bold\">[</span>укурузный г<span style=\"font-weight: bold\">]</span>остевой дом<span style=\"font-weight: bold\">]</span> идеально подходит для вас. Могу я его заказать?\n",
              "</pre>\n"
            ],
            "text/plain": [
              "\u001b[1;31mAfter matching\u001b[0m: \u001b[1m[\u001b[0m К\u001b[1m[\u001b[0mукурузный г\u001b[1m]\u001b[0mостевой дом\u001b[1m]\u001b[0m идеально подходит для вас. Могу я его заказать?\n"
            ]
          },
          "metadata": {
            "tags": []
          }
        },
        {
          "output_type": "display_data",
          "data": {
            "text/html": [
              "<pre style=\"white-space:pre;overflow-x:auto;line-height:normal;font-family:Menlo,'DejaVu Sans Mono',consolas,'Courier New',monospace\">========================================\n",
              "</pre>\n"
            ],
            "text/plain": [
              "========================================\n"
            ]
          },
          "metadata": {
            "tags": []
          }
        },
        {
          "output_type": "display_data",
          "data": {
            "text/html": [
              "<pre style=\"white-space:pre;overflow-x:auto;line-height:normal;font-family:Menlo,'DejaVu Sans Mono',consolas,'Courier New',monospace\">Error at dialogue #<span style=\"color: #008080; text-decoration-color: #008080; font-weight: bold\">389</span> - utterance #<span style=\"color: #008080; text-decoration-color: #008080; font-weight: bold\">6</span>:\n",
              "</pre>\n"
            ],
            "text/plain": [
              "Error at dialogue #\u001b[1;36m389\u001b[0m - utterance #\u001b[1;36m6\u001b[0m:\n"
            ]
          },
          "metadata": {
            "tags": []
          }
        },
        {
          "output_type": "display_data",
          "data": {
            "text/html": [
              "<pre style=\"white-space:pre;overflow-x:auto;line-height:normal;font-family:Menlo,'DejaVu Sans Mono',consolas,'Courier New',monospace\"><span style=\"color: #008000; text-decoration-color: #008000; font-weight: bold\">Original</span>: I am looking for an expensive  food restaurant, please.\n",
              "</pre>\n"
            ],
            "text/plain": [
              "\u001b[1;32mOriginal\u001b[0m: I am looking for an expensive  food restaurant, please.\n"
            ]
          },
          "metadata": {
            "tags": []
          }
        },
        {
          "output_type": "display_data",
          "data": {
            "text/html": [
              "<pre style=\"white-space:pre;overflow-x:auto;line-height:normal;font-family:Menlo,'DejaVu Sans Mono',consolas,'Courier New',monospace\"><span style=\"color: #808000; text-decoration-color: #808000; font-weight: bold\">Translation</span>:  Я ищу дорогой ресторан индийской кухни, пожалуйста.\n",
              "</pre>\n"
            ],
            "text/plain": [
              "\u001b[1;33mTranslation\u001b[0m:  Я ищу дорогой ресторан индийской кухни, пожалуйста.\n"
            ]
          },
          "metadata": {
            "tags": []
          }
        },
        {
          "output_type": "display_data",
          "data": {
            "text/html": [
              "<pre style=\"white-space:pre;overflow-x:auto;line-height:normal;font-family:Menlo,'DejaVu Sans Mono',consolas,'Courier New',monospace\"><span style=\"color: #800000; text-decoration-color: #800000; font-weight: bold\">After matching</span>:  Я ищу дорогой ресторан индийс<span style=\"font-weight: bold\">[</span>кой ку<span style=\"font-weight: bold\">]</span>хни, пожалуйста.\n",
              "</pre>\n"
            ],
            "text/plain": [
              "\u001b[1;31mAfter matching\u001b[0m:  Я ищу дорогой ресторан индийс\u001b[1m[\u001b[0mкой ку\u001b[1m]\u001b[0mхни, пожалуйста.\n"
            ]
          },
          "metadata": {
            "tags": []
          }
        },
        {
          "output_type": "display_data",
          "data": {
            "text/html": [
              "<pre style=\"white-space:pre;overflow-x:auto;line-height:normal;font-family:Menlo,'DejaVu Sans Mono',consolas,'Courier New',monospace\">========================================\n",
              "</pre>\n"
            ],
            "text/plain": [
              "========================================\n"
            ]
          },
          "metadata": {
            "tags": []
          }
        },
        {
          "output_type": "display_data",
          "data": {
            "text/html": [
              "<pre style=\"white-space:pre;overflow-x:auto;line-height:normal;font-family:Menlo,'DejaVu Sans Mono',consolas,'Courier New',monospace\">Error at dialogue #<span style=\"color: #008080; text-decoration-color: #008080; font-weight: bold\">400</span> - utterance #<span style=\"color: #008080; text-decoration-color: #008080; font-weight: bold\">12</span>:\n",
              "</pre>\n"
            ],
            "text/plain": [
              "Error at dialogue #\u001b[1;36m400\u001b[0m - utterance #\u001b[1;36m12\u001b[0m:\n"
            ]
          },
          "metadata": {
            "tags": []
          }
        },
        {
          "output_type": "display_data",
          "data": {
            "text/html": [
              "<pre style=\"white-space:pre;overflow-x:auto;line-height:normal;font-family:Menlo,'DejaVu Sans Mono',consolas,'Courier New',monospace\"><span style=\"color: #008000; text-decoration-color: #008000; font-weight: bold\">Original</span>: That sounds ! How much is the entrance fee?\n",
              "</pre>\n"
            ],
            "text/plain": [
              "\u001b[1;32mOriginal\u001b[0m: That sounds ! How much is the entrance fee?\n"
            ]
          },
          "metadata": {
            "tags": []
          }
        },
        {
          "output_type": "display_data",
          "data": {
            "text/html": [
              "<pre style=\"white-space:pre;overflow-x:auto;line-height:normal;font-family:Menlo,'DejaVu Sans Mono',consolas,'Courier New',monospace\"><span style=\"color: #808000; text-decoration-color: #808000; font-weight: bold\">Translation</span>:  Это звучит весело<span style=\"font-weight: bold\">]</span>! Сколько стоит входной билет?\n",
              "</pre>\n"
            ],
            "text/plain": [
              "\u001b[1;33mTranslation\u001b[0m:  Это звучит весело\u001b[1m]\u001b[0m! Сколько стоит входной билет?\n"
            ]
          },
          "metadata": {
            "tags": []
          }
        },
        {
          "output_type": "display_data",
          "data": {
            "text/html": [
              "<pre style=\"white-space:pre;overflow-x:auto;line-height:normal;font-family:Menlo,'DejaVu Sans Mono',consolas,'Courier New',monospace\"><span style=\"color: #800000; text-decoration-color: #800000; font-weight: bold\">After matching</span>:  Это звучит <span style=\"font-weight: bold\">[</span>вес<span style=\"font-weight: bold\">]</span>ело! Сколько стоит входной билет?\n",
              "</pre>\n"
            ],
            "text/plain": [
              "\u001b[1;31mAfter matching\u001b[0m:  Это звучит \u001b[1m[\u001b[0mвес\u001b[1m]\u001b[0mело! Сколько стоит входной билет?\n"
            ]
          },
          "metadata": {
            "tags": []
          }
        },
        {
          "output_type": "display_data",
          "data": {
            "text/html": [
              "<pre style=\"white-space:pre;overflow-x:auto;line-height:normal;font-family:Menlo,'DejaVu Sans Mono',consolas,'Courier New',monospace\">========================================\n",
              "</pre>\n"
            ],
            "text/plain": [
              "========================================\n"
            ]
          },
          "metadata": {
            "tags": []
          }
        },
        {
          "output_type": "display_data",
          "data": {
            "text/html": [
              "<pre style=\"white-space:pre;overflow-x:auto;line-height:normal;font-family:Menlo,'DejaVu Sans Mono',consolas,'Courier New',monospace\">Error at dialogue #<span style=\"color: #008080; text-decoration-color: #008080; font-weight: bold\">494</span> - utterance #<span style=\"color: #008080; text-decoration-color: #008080; font-weight: bold\">1</span>:\n",
              "</pre>\n"
            ],
            "text/plain": [
              "Error at dialogue #\u001b[1;36m494\u001b[0m - utterance #\u001b[1;36m1\u001b[0m:\n"
            ]
          },
          "metadata": {
            "tags": []
          }
        },
        {
          "output_type": "display_data",
          "data": {
            "text/html": [
              "<pre style=\"white-space:pre;overflow-x:auto;line-height:normal;font-family:Menlo,'DejaVu Sans Mono',consolas,'Courier New',monospace\"><span style=\"color: #008000; text-decoration-color: #008000; font-weight: bold\">Original</span>: <span style=\"font-weight: bold\">[</span>The A<span style=\"font-weight: bold\">]</span> is a moderate priced restaurant located in the centre. Would that meet your\n",
              "needs?\n",
              "</pre>\n"
            ],
            "text/plain": [
              "\u001b[1;32mOriginal\u001b[0m: \u001b[1m[\u001b[0mThe A\u001b[1m]\u001b[0m is a moderate priced restaurant located in the centre. Would that meet your\n",
              "needs?\n"
            ]
          },
          "metadata": {
            "tags": []
          }
        },
        {
          "output_type": "display_data",
          "data": {
            "text/html": [
              "<pre style=\"white-space:pre;overflow-x:auto;line-height:normal;font-family:Menlo,'DejaVu Sans Mono',consolas,'Courier New',monospace\"><span style=\"color: #808000; text-decoration-color: #808000; font-weight: bold\">Translation</span>:  <span style=\"font-weight: bold\">[</span>A <span style=\"font-weight: bold\">]</span> - это недорогой ресторан, расположенный в центре. Отвечает ли это вашим \n",
              "потребностям?\n",
              "</pre>\n"
            ],
            "text/plain": [
              "\u001b[1;33mTranslation\u001b[0m:  \u001b[1m[\u001b[0mA \u001b[1m]\u001b[0m - это недорогой ресторан, расположенный в центре. Отвечает ли это вашим \n",
              "потребностям?\n"
            ]
          },
          "metadata": {
            "tags": []
          }
        },
        {
          "output_type": "display_data",
          "data": {
            "text/html": [
              "<pre style=\"white-space:pre;overflow-x:auto;line-height:normal;font-family:Menlo,'DejaVu Sans Mono',consolas,'Courier New',monospace\"><span style=\"color: #800000; text-decoration-color: #800000; font-weight: bold\">After matching</span>:  <span style=\"font-weight: bold\">[</span>A <span style=\"font-weight: bold\">]</span>- это недорогой ресторан, расположенный в центре. Отвечает ли это вашим \n",
              "потребностям?\n",
              "</pre>\n"
            ],
            "text/plain": [
              "\u001b[1;31mAfter matching\u001b[0m:  \u001b[1m[\u001b[0mA \u001b[1m]\u001b[0m- это недорогой ресторан, расположенный в центре. Отвечает ли это вашим \n",
              "потребностям?\n"
            ]
          },
          "metadata": {
            "tags": []
          }
        },
        {
          "output_type": "display_data",
          "data": {
            "text/html": [
              "<pre style=\"white-space:pre;overflow-x:auto;line-height:normal;font-family:Menlo,'DejaVu Sans Mono',consolas,'Courier New',monospace\">========================================\n",
              "</pre>\n"
            ],
            "text/plain": [
              "========================================\n"
            ]
          },
          "metadata": {
            "tags": []
          }
        }
      ]
    },
    {
      "cell_type": "code",
      "metadata": {
        "id": "s36ua85F_AjT"
      },
      "source": [
        ""
      ],
      "execution_count": null,
      "outputs": []
    }
  ]
}