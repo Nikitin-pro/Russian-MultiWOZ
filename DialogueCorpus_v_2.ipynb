{
  "nbformat": 4,
  "nbformat_minor": 0,
  "metadata": {
    "colab": {
      "name": "DialogueCorpus_v_2.ipynb",
      "provenance": [],
      "collapsed_sections": []
    },
    "kernelspec": {
      "display_name": "Python 3",
      "language": "python",
      "name": "python3"
    },
    "language_info": {
      "codemirror_mode": {
        "name": "ipython",
        "version": 3
      },
      "file_extension": ".py",
      "mimetype": "text/x-python",
      "name": "python",
      "nbconvert_exporter": "python",
      "pygments_lexer": "ipython3",
      "version": "3.8.5"
    }
  },
  "cells": [
    {
      "cell_type": "code",
      "metadata": {
        "colab": {
          "base_uri": "https://localhost:8080/"
        },
        "id": "z3VpcqldpPKZ",
        "outputId": "218bbca1-7753-4bc6-ae7a-67e83ce92628"
      },
      "source": [
        "!pip install -q rich"
      ],
      "execution_count": null,
      "outputs": [
        {
          "output_type": "stream",
          "text": [
            "\u001b[K     |████████████████████████████████| 204kB 4.2MB/s \n",
            "\u001b[K     |████████████████████████████████| 51kB 5.8MB/s \n",
            "\u001b[?25h"
          ],
          "name": "stdout"
        }
      ]
    },
    {
      "cell_type": "code",
      "metadata": {
        "colab": {
          "base_uri": "https://localhost:8080/"
        },
        "id": "5eJoEBz3p4uI",
        "outputId": "37a544d6-0a02-4ef2-d8e8-9a6d081f7653"
      },
      "source": [
        "!wget https://raw.githubusercontent.com/budzianowski/multiwoz/master/data/MultiWOZ_2.2/dev/dialogues_001.json"
      ],
      "execution_count": null,
      "outputs": [
        {
          "output_type": "stream",
          "text": [
            "--2021-05-15 13:07:35--  https://raw.githubusercontent.com/budzianowski/multiwoz/master/data/MultiWOZ_2.2/dev/dialogues_001.json\n",
            "Resolving raw.githubusercontent.com (raw.githubusercontent.com)... 185.199.110.133, 185.199.111.133, 185.199.109.133, ...\n",
            "Connecting to raw.githubusercontent.com (raw.githubusercontent.com)|185.199.110.133|:443... connected.\n",
            "HTTP request sent, awaiting response... 200 OK\n",
            "Length: 11771811 (11M) [text/plain]\n",
            "Saving to: ‘dialogues_001.json’\n",
            "\n",
            "dialogues_001.json  100%[===================>]  11.23M  30.9MB/s    in 0.4s    \n",
            "\n",
            "2021-05-15 13:07:36 (30.9 MB/s) - ‘dialogues_001.json’ saved [11771811/11771811]\n",
            "\n"
          ],
          "name": "stdout"
        }
      ]
    },
    {
      "cell_type": "code",
      "metadata": {
        "id": "b3CKM3XMrW7X"
      },
      "source": [
        "from rich import print\n",
        "import json\n",
        "import copy"
      ],
      "execution_count": null,
      "outputs": []
    },
    {
      "cell_type": "code",
      "metadata": {
        "id": "AY-z2TJkrash"
      },
      "source": [
        "with open(\"dialogues_001.json\", 'r', encoding='utf-8') as f:\n",
        "    data = json.load(f)"
      ],
      "execution_count": null,
      "outputs": []
    },
    {
      "cell_type": "code",
      "metadata": {
        "id": "KCJSVv30EOer"
      },
      "source": [
        "original_data = copy.deepcopy(data)"
      ],
      "execution_count": null,
      "outputs": []
    },
    {
      "cell_type": "code",
      "metadata": {
        "id": "CyL2TwxcruOD"
      },
      "source": [
        "def json2txt(dialogue):\n",
        "    result = []\n",
        "    for turn in dialogue['turns']:\n",
        "        markup = []\n",
        "        for frame in turn['frames']:\n",
        "            slots = filter(lambda x: \"start\" in x, frame['slots']) # we need only slots with start/excl_end keys\n",
        "            markup += slots\n",
        "\n",
        "        markup = sorted(markup, key=lambda x: x['start'])\n",
        "\n",
        "        text = turn['utterance']\n",
        "        offset = 0\n",
        "        for slot in markup:\n",
        "            pre = text[:slot['start']+offset]\n",
        "            target = text[slot['start']+offset:slot['exclusive_end']+offset]\n",
        "            post = text[slot['exclusive_end']+offset:]\n",
        "            text = f\"{pre}[{target}]{post}\"\n",
        "            offset += 2\n",
        "\n",
        "        result.append(text)\n",
        "\n",
        "    return result"
      ],
      "execution_count": null,
      "outputs": []
    },
    {
      "cell_type": "code",
      "metadata": {
        "colab": {
          "base_uri": "https://localhost:8080/",
          "height": 305
        },
        "id": "-zc05_1-yndQ",
        "outputId": "3ae60111-dfc6-4f34-e855-4b20794cd9f3"
      },
      "source": [
        "print(json2txt(data[0]))"
      ],
      "execution_count": null,
      "outputs": [
        {
          "output_type": "display_data",
          "data": {
            "text/html": [
              "<pre style=\"white-space:pre;overflow-x:auto;line-height:normal;font-family:Menlo,'DejaVu Sans Mono',consolas,'Courier New',monospace\"><span style=\"font-weight: bold\">[</span>\n",
              "    <span style=\"color: #008000; text-decoration-color: #008000\">\"I'm looking for a local place to dine in the centre that serves [chinese] food.\"</span>,\n",
              "    <span style=\"color: #008000; text-decoration-color: #008000\">'I have restaurants matching your criteria in all price ranges. Do you have a preference </span>\n",
              "<span style=\"color: #008000; text-decoration-color: #008000\">on price?'</span>,\n",
              "    <span style=\"color: #008000; text-decoration-color: #008000\">'I need the address, postcode and the price range.'</span>,\n",
              "    <span style=\"color: #008000; text-decoration-color: #008000\">'Ok how about Charlie Chan, located at Regent Street City Centre. Postcode is cb21db with</span>\n",
              "<span style=\"color: #008000; text-decoration-color: #008000\">a cheap price. Can I help you further today?'</span>,\n",
              "    <span style=\"color: #008000; text-decoration-color: #008000\">'I also need a train. The train should leave after [16:15] and should leave on sunday.'</span>,\n",
              "    <span style=\"color: #008000; text-decoration-color: #008000\">\"Can I have more information for the train you're needing? Where are you departing from </span>\n",
              "<span style=\"color: #008000; text-decoration-color: #008000\">and arriving to?\"</span>,\n",
              "    <span style=\"color: #008000; text-decoration-color: #008000\">'I am leaving from Cambridge and going to Norwich.'</span>,\n",
              "    <span style=\"color: #008000; text-decoration-color: #008000\">'I have train TR1840 leaving at 16:36 is that okay?'</span>,\n",
              "    <span style=\"color: #008000; text-decoration-color: #008000\">'book for 5 people and get me the reference number'</span>,\n",
              "    <span style=\"color: #008000; text-decoration-color: #008000\">\"You're all set. Reference number is NJB87PAP . Is there anything else I can help you </span>\n",
              "<span style=\"color: #008000; text-decoration-color: #008000\">with today?\"</span>,\n",
              "    <span style=\"color: #008000; text-decoration-color: #008000\">'No, this is all I will need. Thank you.'</span>,\n",
              "    <span style=\"color: #008000; text-decoration-color: #008000\">'Thank for calling us today. I hope you have a good trip.'</span>\n",
              "<span style=\"font-weight: bold\">]</span>\n",
              "</pre>\n"
            ],
            "text/plain": [
              "\u001b[1m[\u001b[0m\n",
              "    \u001b[32m\"I'm looking for a local place to dine in the centre that serves \u001b[0m\u001b[32m[\u001b[0m\u001b[32mchinese\u001b[0m\u001b[32m]\u001b[0m\u001b[32m food.\"\u001b[0m,\n",
              "    \u001b[32m'I have restaurants matching your criteria in all price ranges. Do you have a preference \u001b[0m\n",
              "\u001b[32mon price?'\u001b[0m,\n",
              "    \u001b[32m'I need the address, postcode and the price range.'\u001b[0m,\n",
              "    \u001b[32m'Ok how about Charlie Chan, located at Regent Street City Centre. Postcode is cb21db with\u001b[0m\n",
              "\u001b[32ma cheap price. Can I help you further today?'\u001b[0m,\n",
              "    \u001b[32m'I also need a train. The train should leave after \u001b[0m\u001b[32m[\u001b[0m\u001b[32m16:15\u001b[0m\u001b[32m]\u001b[0m\u001b[32m and should leave on sunday.'\u001b[0m,\n",
              "    \u001b[32m\"Can I have more information for the train you're needing? Where are you departing from \u001b[0m\n",
              "\u001b[32mand arriving to?\"\u001b[0m,\n",
              "    \u001b[32m'I am leaving from Cambridge and going to Norwich.'\u001b[0m,\n",
              "    \u001b[32m'I have train TR1840 leaving at 16:36 is that okay?'\u001b[0m,\n",
              "    \u001b[32m'book for 5 people and get me the reference number'\u001b[0m,\n",
              "    \u001b[32m\"You're all set. Reference number is NJB87PAP . Is there anything else I can help you \u001b[0m\n",
              "\u001b[32mwith today?\"\u001b[0m,\n",
              "    \u001b[32m'No, this is all I will need. Thank you.'\u001b[0m,\n",
              "    \u001b[32m'Thank for calling us today. I hope you have a good trip.'\u001b[0m\n",
              "\u001b[1m]\u001b[0m\n"
            ]
          },
          "metadata": {
            "tags": []
          }
        }
      ]
    },
    {
      "cell_type": "code",
      "metadata": {
        "id": "3G6Dds-jugY9"
      },
      "source": [
        "accum = \"\"\n",
        "\n",
        "for x in data:\n",
        "    utts = json2txt(x)\n",
        "    text = \"\\n\".join(utts)\n",
        "    accum += text + \"\\n\\n\\n\""
      ],
      "execution_count": null,
      "outputs": []
    },
    {
      "cell_type": "code",
      "metadata": {
        "colab": {
          "base_uri": "https://localhost:8080/",
          "height": 259
        },
        "id": "wpco47niJ5MT",
        "outputId": "72014ab3-6ced-445e-98c6-6d5cdaaf37ca"
      },
      "source": [
        "accum[-4000:]"
      ],
      "execution_count": null,
      "outputs": [
        {
          "output_type": "execute_result",
          "data": {
            "application/vnd.google.colaboratory.intrinsic+json": {
              "type": "string"
            },
            "text/plain": [
              "\"g from the same day? Let me know the reference number please.\\nsure, I have booked it foe you. Reference number is : HD6BM9RU .\\nThank you, that's all I needed today!\\nEnjoy the rest of your day, and your stay in Cambridge.\\n\\n\\nI need to find a hotel in Cambridge that's moderately priced. I don't need to have free parking included for my stay.\\nThere are four possibilities, one is a hotel and the others are guesthouses. Do you have a preference for one or the other?\\nI do not. Are any of those places located in the centre?\\nOnly one is located in the centre. The [cityroomz] which also has free wifi. Would you be interested in booking this hotel?\\nYes, that sounds splendid. I would like to book a room there for 6 people for 2 nights, and I would like the reference number, please.\\nWhat night would you like to begin your stay?\\nI would like to stay starting Tuesday night\\nI have booked the cityroomz hotel for 2 nights, starting this Tuesday, for 6 people.\\nThat is great! How much?\\nI apologize I don't have the price. It is in the moderate price range however.\\nI see. That sounds great. Thank you. Could I get a reference number please?\\nYour reference number is : EB05KFXV . Will there be anything else today?\\nI also need a restaurant that serves [turkish] food please.\\nThere are three Turkish restaurants, all in the center of town. The Meze Bar is expensive, but the other two are more moderate. Would you like to book a table?\\n[the meze bar] is fine. book it for 6 at [14:15] on tuesday\\nYour table will be reserved for 15 minutes. The reference number is XZX9AGML .\\nThank you so much!\\nYou are welcome. Have a nice day!\\n\\n\\nI'm looking for more information on [arbury lodge guesthouse].\\nThe arbury lodge guesthouse is a 4 star hotel in the north area at a moderate price range and includes internet and parking. Would you like me to book it?\\nYes, please. For 3 people, 3 nights starting on tuesday.\\nYour booking was successful. The Reference number is : 4HWMO5PZ .\\nThanks, that's all. Good bye.\\nwelcome again next time\\n\\n\\nI am looking for information on the [great saint mary's church] please.\\nGreat Saint Mary's Chruch is located in the centre of town on Market Square. They have an entrance fee of 2 pounds. Do you need reservations?\\nNo. If I could just get the postcode and phone number, please?\\nSure! The postcode for Great St Mary's Church is cb23pq and the phone number is 01223350914. Is there any way that I can assist you further?\\nYes. I am looking for a train that should depart from Cambridge. Can you help me with that?\\ni sure can! what's your destination?\\nMy destination is peterborough.\\nwhat time do you want to leave ?\\n\\n\\nI need a way to get to cambridge from norwich\\nThere are many trains available. What is your departure day and time?\\nI would like to arrive in cambridge by [11:30] on Wednesday.\\nThere are five trains leaving hourly at 16 minutes past the hour from norwich to cambridge that will arrive by 11:30. The first leaves at 5:16. Do you have a preference?\\nThe first is fine. What is the travel time and departure time of that train?\\nDeparture time is 5:16 and the travel time is 79 minutes. Can I be of any further assistance today?\\nYes, I am looking for places to go in the west part of town.\\nThere are 13 attractions in the west part of town. There are several museums. Would you be interested in any of those?\\nI'd like a cinema in the west.\\nSorry, I have no cinemas in the west. Would you be interested in another area or another attraction, perhaps?\\nMaybe if there is one that is in the type of college.\\nThere are five different colleges in the west. Does the entrance fee make a difference to you?\\nI'm not worried about entrance fees. Could I have the phone number for the most expensive one?\\nClare College is 2.50 and their phone number is 01223333200\\nGood job. Thank you for your kindness. I'm so happy to be here.\\nWill you be needing anything else today?\\nNo, that's everything. Thanks again.\\nWe are happy to help. Thank you for using our service. Have a great day!\\n\\n\\n\""
            ]
          },
          "metadata": {
            "tags": []
          },
          "execution_count": 26
        }
      ]
    },
    {
      "cell_type": "code",
      "metadata": {
        "id": "0YWROdCjyL8r"
      },
      "source": [
        "with open(\"dialogues_001.txt\", 'w', encoding='utf-8') as f:\n",
        "    f.write(accum)"
      ],
      "execution_count": null,
      "outputs": []
    },
    {
      "cell_type": "code",
      "metadata": {
        "id": "OmnAX9jXr4QN"
      },
      "source": [
        "with open(\"./Перевод.txt\", 'r', encoding='utf-8') as f:\n",
        "    translated = f.read()"
      ],
      "execution_count": null,
      "outputs": []
    },
    {
      "cell_type": "code",
      "metadata": {
        "colab": {
          "base_uri": "https://localhost:8080/",
          "height": 198
        },
        "id": "985mmccTKif8",
        "outputId": "950fd93f-4c81-4148-a27e-e9dfed05ba64"
      },
      "source": [
        ""
      ],
      "execution_count": null,
      "outputs": [
        {
          "output_type": "error",
          "ename": "ValueError",
          "evalue": "ignored",
          "traceback": [
            "\u001b[0;31m---------------------------------------------------------------------------\u001b[0m",
            "\u001b[0;31mValueError\u001b[0m                                Traceback (most recent call last)",
            "\u001b[0;32m<ipython-input-48-e03cc0f32523>\u001b[0m in \u001b[0;36m<module>\u001b[0;34m()\u001b[0m\n\u001b[0;32m----> 1\u001b[0;31m \u001b[0mtranslated\u001b[0m \u001b[0;34m=\u001b[0m \u001b[0mf\u001b[0m\u001b[0;34m.\u001b[0m\u001b[0mread\u001b[0m\u001b[0;34m(\u001b[0m\u001b[0;34m)\u001b[0m\u001b[0;34m\u001b[0m\u001b[0;34m\u001b[0m\u001b[0m\n\u001b[0m",
            "\u001b[0;31mValueError\u001b[0m: I/O operation on closed file."
          ]
        }
      ]
    },
    {
      "cell_type": "code",
      "metadata": {
        "id": "HOBmFL7w3YUr"
      },
      "source": [
        "def parse_translate(translated_text):\n",
        "    lines = translated_text.split('\\n')\n",
        "    texts = []\n",
        "    current_text = []\n",
        "    skip = False\n",
        "    for line in lines:\n",
        "        if not skip:\n",
        "            if line != ' ':\n",
        "                current_text.append(line)\n",
        "            else:\n",
        "                texts.append(current_text)\n",
        "                skip = True\n",
        "        else:\n",
        "            skip = False\n",
        "            current_text = []\n",
        "\n",
        "    return texts"
      ],
      "execution_count": null,
      "outputs": []
    },
    {
      "cell_type": "code",
      "metadata": {
        "id": "T1zrEKUm3bdT"
      },
      "source": [
        "translated = parse_translate(translated)"
      ],
      "execution_count": null,
      "outputs": []
    },
    {
      "cell_type": "code",
      "metadata": {
        "id": "W9jRdPu79X2E"
      },
      "source": [
        "from collections import Counter\n",
        "for idx, i in enumerate(translated):\n",
        "    for idx_i, t in enumerate(i):\n",
        "        if Counter(t)[']'] >= 2:\n",
        "            print(f\"{idx}-{idx_i}: {Counter(t)[']']}\")\n",
        "            print(t)"
      ],
      "execution_count": null,
      "outputs": []
    },
    {
      "cell_type": "markdown",
      "metadata": {
        "id": "7bwZeg8Q8iGm"
      },
      "source": [
        "**Функция, которая ищет спаны:**"
      ]
    },
    {
      "cell_type": "code",
      "metadata": {
        "id": "KVocG-5U8eoi"
      },
      "source": [
        "def search_spans(text, start_symbol: str = \"[\", end_symbol: str = \"]\"):\n",
        "    subtext1=start_symbol\n",
        "    result1 = []\n",
        "    flag = False\n",
        "    n = 1\n",
        "    for i,element in enumerate(text):\n",
        "        if flag:\n",
        "            if n > len(subtext1)-1:\n",
        "                flag = False\n",
        "                n = 1\n",
        "            elif element == subtext1[n]:\n",
        "                n += 1\n",
        "            elif element != subtext1[n]:\n",
        "                result1 = result1[:-1]\n",
        "                n = 1\n",
        "                flag = False\n",
        "        if element == subtext1[0] and not flag:\n",
        "            flag = True\n",
        "            result1.append(i)\n",
        "\n",
        "    subtext2=end_symbol\n",
        " \n",
        "    result2 = []\n",
        "\n",
        "    flag = False\n",
        "    n = 1\n",
        "\n",
        "    for i,element in enumerate(text):\n",
        "        if flag:\n",
        "            if n > len(subtext2)-1:\n",
        "                flag = False\n",
        "                n = 1\n",
        "            elif element == subtext2[n]:\n",
        "                n += 1\n",
        "            elif element != subtext2[n]:\n",
        "                result2 = result2[:-1]\n",
        "                n = 1\n",
        "                flag = False\n",
        "        if element == subtext2[0] and not flag:\n",
        "            flag = True\n",
        "            result2.append(i)\n",
        "    ress = list(zip(result1, result2))\n",
        "\n",
        "    return ress"
      ],
      "execution_count": null,
      "outputs": []
    },
    {
      "cell_type": "code",
      "metadata": {
        "id": "b5kj_erV43k3"
      },
      "source": [
        "def translated2json(translated_dialogue, dialogue):\n",
        "    new_dialogue = dialogue.copy()\n",
        "    for i, text in enumerate(translated_dialogue):\n",
        "        spans = list(reversed(search_spans(text, \"[\", \"]\"))) # reverse list, the first entry become last\n",
        "        offset_front = 0\n",
        "        offset_back = 1\n",
        "        remove_spec_brackets = False\n",
        "        for frame in new_dialogue['turns'][i]['frames']:\n",
        "            for slot in frame['slots']:\n",
        "                if 'start' in slot:\n",
        "                    if len(spans) != 0:\n",
        "                        start, end = spans.pop() # after reverse, we can use .pop() to get and remove first entry (i.e 'spans' list is now FIFO-queue)\n",
        "                    elif \"«\" in text:\n",
        "                        start, end = search_spans(text, \"«\", \"»\")[0] # assuming that there is only one span with «» brackets\n",
        "                        remove_spec_brackets = True\n",
        "                    else:\n",
        "                        continue\n",
        "                        \n",
        "                    slot['start'] = start - offset_front\n",
        "                    slot['exclusive_end'] = end - offset_back # offsetting '[', which will be removed\n",
        "                    slot['value'] = text[start + 1:end] # offsetting not yet remove '[' for value extraction\n",
        "                    offset_front += 2\n",
        "                    offset_back += 2\n",
        "                        \n",
        "\n",
        "        new_text = text.replace(\"[\", \"\").replace(\"]\", \"\")\n",
        "        if remove_spec_brackets:\n",
        "              new_text = new_text.replace(\"«\", \"\").replace(\"»\", \"\")\n",
        "        new_dialogue['turns'][i]['utterance'] = new_text\n",
        "            \n",
        "        #print(new_dialogue['turns'][i]['utterance'])\n",
        "    return new_dialogue"
      ],
      "execution_count": null,
      "outputs": []
    },
    {
      "cell_type": "code",
      "metadata": {
        "id": "upjLDeyp46hu",
        "colab": {
          "base_uri": "https://localhost:8080/",
          "height": 198
        },
        "outputId": "6894d717-af55-4af1-d35a-a5d89c45ad55"
      },
      "source": [
        "res = translated2json(translated[6], data[6])"
      ],
      "execution_count": null,
      "outputs": [
        {
          "output_type": "error",
          "ename": "IndexError",
          "evalue": "ignored",
          "traceback": [
            "\u001b[0;31m---------------------------------------------------------------------------\u001b[0m",
            "\u001b[0;31mIndexError\u001b[0m                                Traceback (most recent call last)",
            "\u001b[0;32m<ipython-input-16-7a7685a4d6cc>\u001b[0m in \u001b[0;36m<module>\u001b[0;34m()\u001b[0m\n\u001b[0;32m----> 1\u001b[0;31m \u001b[0mres\u001b[0m \u001b[0;34m=\u001b[0m \u001b[0mtranslated2json\u001b[0m\u001b[0;34m(\u001b[0m\u001b[0mtranslated\u001b[0m\u001b[0;34m[\u001b[0m\u001b[0;36m6\u001b[0m\u001b[0;34m]\u001b[0m\u001b[0;34m,\u001b[0m \u001b[0mdata\u001b[0m\u001b[0;34m[\u001b[0m\u001b[0;36m6\u001b[0m\u001b[0;34m]\u001b[0m\u001b[0;34m)\u001b[0m\u001b[0;34m\u001b[0m\u001b[0;34m\u001b[0m\u001b[0m\n\u001b[0m",
            "\u001b[0;31mIndexError\u001b[0m: list index out of range"
          ]
        }
      ]
    },
    {
      "cell_type": "code",
      "metadata": {
        "colab": {
          "base_uri": "https://localhost:8080/",
          "height": 198
        },
        "id": "EM9nFixhEOez",
        "outputId": "1835a358-1c9e-453f-df43-e248d2ed651c"
      },
      "source": [
        "json2txt(res)"
      ],
      "execution_count": null,
      "outputs": [
        {
          "output_type": "error",
          "ename": "NameError",
          "evalue": "ignored",
          "traceback": [
            "\u001b[0;31m---------------------------------------------------------------------------\u001b[0m",
            "\u001b[0;31mNameError\u001b[0m                                 Traceback (most recent call last)",
            "\u001b[0;32m<ipython-input-45-6e747550dbc2>\u001b[0m in \u001b[0;36m<module>\u001b[0;34m()\u001b[0m\n\u001b[0;32m----> 1\u001b[0;31m \u001b[0mjson2txt\u001b[0m\u001b[0;34m(\u001b[0m\u001b[0mres\u001b[0m\u001b[0;34m)\u001b[0m\u001b[0;34m\u001b[0m\u001b[0;34m\u001b[0m\u001b[0m\n\u001b[0m",
            "\u001b[0;31mNameError\u001b[0m: name 'res' is not defined"
          ]
        }
      ]
    },
    {
      "cell_type": "code",
      "metadata": {
        "id": "L1kg9qduEOe0",
        "outputId": "b7d2ed3a-e26d-4e65-c627-e1c89719853c"
      },
      "source": [
        "json2txt(data[6])"
      ],
      "execution_count": null,
      "outputs": [
        {
          "output_type": "execute_result",
          "data": {
            "text/plain": [
              "['мне нужна информация о месте, где я могу увидеть местные достопримечательности.',\n",
              " 'Ладно! Какую часть города вы хотели бы посетить?',\n",
              " 'Если подумать, давайте пока отложим это. Я думал попробовать новую кухню, пока мы в городе. Что-то дорогое.',\n",
              " 'Ладно! Какую кухню вы бы хотели попробовать?',\n",
              " 'У меня есть пара [ямайских] приятелей, и я хочу, чтобы они чувствовали себя как дома.',\n",
              " 'У нас в городе нет дорогих ямайских заведений. Хотите попробовать что-нибудь еще?',\n",
              " 'Как насчет того, чтобы подать [африканскую] еду?',\n",
              " '[Бедуин] в центре города - дорогой африканский ресторан. Хотите, я забронирую это для вас?',\n",
              " 'Мне сейчас не нужен столик, но мне нужен почтовый индекс и номер телефона этого ресторана.',\n",
              " 'номер телефона 01223367660, почтовый индекс cb12bd',\n",
              " 'Спасибо за эту информацию. Еще мне нужны достопримечательности в том же районе города, что и ресторан. У вас есть какие-нибудь занятия на лодке?',\n",
              " 'В этой области их 2. Это Scudamores Punting Co и The Cambridge Punter.',\n",
              " 'Я хочу попробовать [Scudamores Punting Co]. Какой у них почтовый индекс и номер телефона, пожалуйста?',\n",
              " 'Почтовый индекс cb21rs, номер телефона 01223359750.',\n",
              " 'хорошо, спасибо. мне больше ничего не нужно. до встречи!',\n",
              " 'До свидания. Я надеюсь, вам понравился ваш визит.']"
            ]
          },
          "metadata": {
            "tags": []
          },
          "execution_count": 206
        }
      ]
    },
    {
      "cell_type": "code",
      "metadata": {
        "id": "BUvprCfTEOe1"
      },
      "source": [
        "# generating json with translated data\n",
        "translated_json = []\n",
        "for i in range(len(translated)):\n",
        "    res = translated2json(translated[i], data[i])\n",
        "    translated_json.append(res)\n",
        "    \n",
        "with open(\"dialogues_001_russian.json\", \"w\", encoding='utf-8') as f:\n",
        "    json.dump(translated_json, f, ensure_ascii=False)"
      ],
      "execution_count": null,
      "outputs": []
    },
    {
      "cell_type": "code",
      "metadata": {
        "colab": {
          "base_uri": "https://localhost:8080/",
          "height": 198
        },
        "id": "CGdX7guT8TjR",
        "outputId": "2de7ceb3-df8b-42d3-c404-7c111d9ff445"
      },
      "source": [
        "# testing\n",
        "for i in range(len(translated)):\n",
        "    test_reference = translated[i] # reference version from translated texts\n",
        "    res = translated2json(translated[i], data[i])\n",
        "    orig = json2txt(original_data[i])\n",
        "    test_target = json2txt(res)\n",
        "    for j in range(len(translated[i])):\n",
        "        if test_reference[j] != test_target[j]:\n",
        "            print(f\"Error at dialogue #{i} - utterance #{j}:\")\n",
        "            print(f\"[bold green]Original[/bold green]: {orig[j]}\")\n",
        "            print(f\"[bold yellow]Translation[/bold yellow]: {test_reference[j]}\")\n",
        "            print(f\"[bold red]After matching[/bold red]: {test_target[j]}\")\n",
        "            print(\"==\"*20)\n",
        "    #print(test_reference)\n",
        "    #print(\"=\"*20)\n",
        "    #print(test_target)\n",
        "    #assert test_reference == test_target, f\"Failed for text {i}\""
      ],
      "execution_count": null,
      "outputs": [
        {
          "output_type": "display_data",
          "data": {
            "text/html": [
              "<pre style=\"white-space:pre;overflow-x:auto;line-height:normal;font-family:Menlo,'DejaVu Sans Mono',consolas,'Courier New',monospace\">Error at dialogue #<span style=\"color: #000080; font-weight: bold\">6</span> - utterance #<span style=\"color: #000080; font-weight: bold\">7</span>:\n",
              "</pre>\n"
            ],
            "text/plain": [
              "<rich.jupyter.JupyterRenderable at 0x7f7dbd25fc40>"
            ]
          },
          "metadata": {
            "tags": []
          }
        },
        {
          "output_type": "display_data",
          "data": {
            "text/html": [
              "<pre style=\"white-space:pre;overflow-x:auto;line-height:normal;font-family:Menlo,'DejaVu Sans Mono',consolas,'Courier New',monospace\"><span style=\"color: #008000; font-weight: bold\">Original</span>: The <span style=\"font-weight: bold\">[</span>Bedouin<span style=\"font-weight: bold\">]</span> in the city centre is an expensive African restaurant. Would you like\n",
              "me to book it for you?\n",
              "</pre>\n"
            ],
            "text/plain": [
              "<rich.jupyter.JupyterRenderable at 0x7f7dbd18adc0>"
            ]
          },
          "metadata": {
            "tags": []
          }
        },
        {
          "output_type": "display_data",
          "data": {
            "text/html": [
              "<pre style=\"white-space:pre;overflow-x:auto;line-height:normal;font-family:Menlo,'DejaVu Sans Mono',consolas,'Courier New',monospace\"><span style=\"color: #808000; font-weight: bold\">Translation</span>: «Бедуин» в центре города - дорогой африканский ресторан. Хотите, я забронирую \n",
              "это для вас?\n",
              "</pre>\n"
            ],
            "text/plain": [
              "<rich.jupyter.JupyterRenderable at 0x7f7dbcf523d0>"
            ]
          },
          "metadata": {
            "tags": []
          }
        },
        {
          "output_type": "display_data",
          "data": {
            "text/html": [
              "<pre style=\"white-space:pre;overflow-x:auto;line-height:normal;font-family:Menlo,'DejaVu Sans Mono',consolas,'Courier New',monospace\"><span style=\"color: #800000; font-weight: bold\">After matching</span>: <span style=\"font-weight: bold\">[</span>Бедуин<span style=\"font-weight: bold\">]</span> в центре города - дорогой африканский ресторан. Хотите, я забронирую\n",
              "это для вас?\n",
              "</pre>\n"
            ],
            "text/plain": [
              "<rich.jupyter.JupyterRenderable at 0x7f7dbcf52850>"
            ]
          },
          "metadata": {
            "tags": []
          }
        },
        {
          "output_type": "display_data",
          "data": {
            "text/html": [
              "<pre style=\"white-space:pre;overflow-x:auto;line-height:normal;font-family:Menlo,'DejaVu Sans Mono',consolas,'Courier New',monospace\">========================================\n",
              "</pre>\n"
            ],
            "text/plain": [
              "<rich.jupyter.JupyterRenderable at 0x7f7dbd18adc0>"
            ]
          },
          "metadata": {
            "tags": []
          }
        },
        {
          "output_type": "display_data",
          "data": {
            "text/html": [
              "<pre style=\"white-space:pre;overflow-x:auto;line-height:normal;font-family:Menlo,'DejaVu Sans Mono',consolas,'Courier New',monospace\">Error at dialogue #<span style=\"color: #000080; font-weight: bold\">68</span> - utterance #<span style=\"color: #000080; font-weight: bold\">10</span>:\n",
              "</pre>\n"
            ],
            "text/plain": [
              "<rich.jupyter.JupyterRenderable at 0x7f7dbd087e20>"
            ]
          },
          "metadata": {
            "tags": []
          }
        },
        {
          "output_type": "display_data",
          "data": {
            "text/html": [
              "<pre style=\"white-space:pre;overflow-x:auto;line-height:normal;font-family:Menlo,'DejaVu Sans Mono',consolas,'Courier New',monospace\"><span style=\"color: #008000; font-weight: bold\">Original</span>: <span style=\"font-weight: bold\">[</span>S<span style=\"font-weight: bold\">]</span> would be a fine choice, I need a table on Friday for <span style=\"color: #000080; font-weight: bold\">2</span> people at <span style=\"font-weight: bold\">[</span><span style=\"color: #00ff00; font-weight: bold\">11:15</span><span style=\"font-weight: bold\">]</span>.\n",
              "</pre>\n"
            ],
            "text/plain": [
              "<rich.jupyter.JupyterRenderable at 0x7f7dbcf523d0>"
            ]
          },
          "metadata": {
            "tags": []
          }
        },
        {
          "output_type": "display_data",
          "data": {
            "text/html": [
              "<pre style=\"white-space:pre;overflow-x:auto;line-height:normal;font-family:Menlo,'DejaVu Sans Mono',consolas,'Courier New',monospace\"><span style=\"color: #808000; font-weight: bold\">Translation</span>: <span style=\"font-weight: bold\">[</span>S <span style=\"font-weight: bold\">[</span>луг и салат<span style=\"font-weight: bold\">]]</span> будет хорошим выбором, мне нужен столик в пятницу на <span style=\"color: #000080; font-weight: bold\">2</span> человек\n",
              "в <span style=\"font-weight: bold\">[</span><span style=\"color: #00ff00; font-weight: bold\">11:15</span><span style=\"font-weight: bold\">]</span>.\n",
              "</pre>\n"
            ],
            "text/plain": [
              "<rich.jupyter.JupyterRenderable at 0x7f7dbcf52850>"
            ]
          },
          "metadata": {
            "tags": []
          }
        },
        {
          "output_type": "display_data",
          "data": {
            "text/html": [
              "<pre style=\"white-space:pre;overflow-x:auto;line-height:normal;font-family:Menlo,'DejaVu Sans Mono',consolas,'Courier New',monospace\"><span style=\"color: #800000; font-weight: bold\">After matching</span>: <span style=\"font-weight: bold\">[</span>S <span style=\"font-weight: bold\">[</span>луг и салат <span style=\"font-weight: bold\">]]</span>будет хорошим выбором, мне нужен столик в пятницу на <span style=\"color: #000080; font-weight: bold\">2</span> \n",
              "человек в <span style=\"font-weight: bold\">[</span><span style=\"color: #00ff00; font-weight: bold\">11:15</span><span style=\"font-weight: bold\">]</span>.\n",
              "</pre>\n"
            ],
            "text/plain": [
              "<rich.jupyter.JupyterRenderable at 0x7f7dbd18adf0>"
            ]
          },
          "metadata": {
            "tags": []
          }
        },
        {
          "output_type": "display_data",
          "data": {
            "text/html": [
              "<pre style=\"white-space:pre;overflow-x:auto;line-height:normal;font-family:Menlo,'DejaVu Sans Mono',consolas,'Courier New',monospace\">========================================\n",
              "</pre>\n"
            ],
            "text/plain": [
              "<rich.jupyter.JupyterRenderable at 0x7f7dbd087a00>"
            ]
          },
          "metadata": {
            "tags": []
          }
        },
        {
          "output_type": "display_data",
          "data": {
            "text/html": [
              "<pre style=\"white-space:pre;overflow-x:auto;line-height:normal;font-family:Menlo,'DejaVu Sans Mono',consolas,'Courier New',monospace\">Error at dialogue #<span style=\"color: #000080; font-weight: bold\">72</span> - utterance #<span style=\"color: #000080; font-weight: bold\">1</span>:\n",
              "</pre>\n"
            ],
            "text/plain": [
              "<rich.jupyter.JupyterRenderable at 0x7f7dbd18a730>"
            ]
          },
          "metadata": {
            "tags": []
          }
        },
        {
          "output_type": "display_data",
          "data": {
            "text/html": [
              "<pre style=\"white-space:pre;overflow-x:auto;line-height:normal;font-family:Menlo,'DejaVu Sans Mono',consolas,'Courier New',monospace\"><span style=\"color: #008000; font-weight: bold\">Original</span>: Definitely! I recommend <span style=\"font-weight: bold\">[</span>C<span style=\"font-weight: bold\">]</span>, at <span style=\"color: #000080; font-weight: bold\">32</span> Bridge Street City Centre.\n",
              "</pre>\n"
            ],
            "text/plain": [
              "<rich.jupyter.JupyterRenderable at 0x7f7dbcf523d0>"
            ]
          },
          "metadata": {
            "tags": []
          }
        },
        {
          "output_type": "display_data",
          "data": {
            "text/html": [
              "<pre style=\"white-space:pre;overflow-x:auto;line-height:normal;font-family:Menlo,'DejaVu Sans Mono',consolas,'Courier New',monospace\"><span style=\"color: #808000; font-weight: bold\">Translation</span>: Однозначно! Я рекомендую <span style=\"font-weight: bold\">[</span>C <span style=\"font-weight: bold\">]</span>, на <span style=\"color: #000080; font-weight: bold\">32</span> Bridge Street City Center.\n",
              "</pre>\n"
            ],
            "text/plain": [
              "<rich.jupyter.JupyterRenderable at 0x7f7dbd087a00>"
            ]
          },
          "metadata": {
            "tags": []
          }
        },
        {
          "output_type": "display_data",
          "data": {
            "text/html": [
              "<pre style=\"white-space:pre;overflow-x:auto;line-height:normal;font-family:Menlo,'DejaVu Sans Mono',consolas,'Courier New',monospace\"><span style=\"color: #800000; font-weight: bold\">After matching</span>: Однозначно! Я рекомендую <span style=\"font-weight: bold\">[</span>C <span style=\"font-weight: bold\">]</span> на <span style=\"color: #000080; font-weight: bold\">32</span> Bridge Street City Center.\n",
              "</pre>\n"
            ],
            "text/plain": [
              "<rich.jupyter.JupyterRenderable at 0x7f7dbd18a040>"
            ]
          },
          "metadata": {
            "tags": []
          }
        },
        {
          "output_type": "display_data",
          "data": {
            "text/html": [
              "<pre style=\"white-space:pre;overflow-x:auto;line-height:normal;font-family:Menlo,'DejaVu Sans Mono',consolas,'Courier New',monospace\">========================================\n",
              "</pre>\n"
            ],
            "text/plain": [
              "<rich.jupyter.JupyterRenderable at 0x7f7dbd18adc0>"
            ]
          },
          "metadata": {
            "tags": []
          }
        },
        {
          "output_type": "display_data",
          "data": {
            "text/html": [
              "<pre style=\"white-space:pre;overflow-x:auto;line-height:normal;font-family:Menlo,'DejaVu Sans Mono',consolas,'Courier New',monospace\">Error at dialogue #<span style=\"color: #000080; font-weight: bold\">139</span> - utterance #<span style=\"color: #000080; font-weight: bold\">4</span>:\n",
              "</pre>\n"
            ],
            "text/plain": [
              "<rich.jupyter.JupyterRenderable at 0x7f7dbd18a2e0>"
            ]
          },
          "metadata": {
            "tags": []
          }
        },
        {
          "output_type": "display_data",
          "data": {
            "text/html": [
              "<pre style=\"white-space:pre;overflow-x:auto;line-height:normal;font-family:Menlo,'DejaVu Sans Mono',consolas,'Courier New',monospace\"><span style=\"color: #008000; font-weight: bold\">Original</span>: Yes, I would like to hear more about The <span style=\"font-weight: bold\">[</span>Ashley Hotel<span style=\"font-weight: bold\">]</span> please.\n",
              "</pre>\n"
            ],
            "text/plain": [
              "<rich.jupyter.JupyterRenderable at 0x7f7dbd087e20>"
            ]
          },
          "metadata": {
            "tags": []
          }
        },
        {
          "output_type": "display_data",
          "data": {
            "text/html": [
              "<pre style=\"white-space:pre;overflow-x:auto;line-height:normal;font-family:Menlo,'DejaVu Sans Mono',consolas,'Courier New',monospace\"><span style=\"color: #808000; font-weight: bold\">Translation</span>: Да, я хотел бы услышать больше об отеле «Эшли», пожалуйста.\n",
              "</pre>\n"
            ],
            "text/plain": [
              "<rich.jupyter.JupyterRenderable at 0x7f7dbd087a00>"
            ]
          },
          "metadata": {
            "tags": []
          }
        },
        {
          "output_type": "display_data",
          "data": {
            "text/html": [
              "<pre style=\"white-space:pre;overflow-x:auto;line-height:normal;font-family:Menlo,'DejaVu Sans Mono',consolas,'Courier New',monospace\"><span style=\"color: #800000; font-weight: bold\">After matching</span>: Да, я хотел бы услышать больше об отеле <span style=\"font-weight: bold\">[</span>Эшли<span style=\"font-weight: bold\">]</span>, пожалуйста.\n",
              "</pre>\n"
            ],
            "text/plain": [
              "<rich.jupyter.JupyterRenderable at 0x7f7dbd3701f0>"
            ]
          },
          "metadata": {
            "tags": []
          }
        },
        {
          "output_type": "display_data",
          "data": {
            "text/html": [
              "<pre style=\"white-space:pre;overflow-x:auto;line-height:normal;font-family:Menlo,'DejaVu Sans Mono',consolas,'Courier New',monospace\">========================================\n",
              "</pre>\n"
            ],
            "text/plain": [
              "<rich.jupyter.JupyterRenderable at 0x7f7dbd25fc40>"
            ]
          },
          "metadata": {
            "tags": []
          }
        },
        {
          "output_type": "display_data",
          "data": {
            "text/html": [
              "<pre style=\"white-space:pre;overflow-x:auto;line-height:normal;font-family:Menlo,'DejaVu Sans Mono',consolas,'Courier New',monospace\">Error at dialogue #<span style=\"color: #000080; font-weight: bold\">164</span> - utterance #<span style=\"color: #000080; font-weight: bold\">11</span>:\n",
              "</pre>\n"
            ],
            "text/plain": [
              "<rich.jupyter.JupyterRenderable at 0x7f7dbd087a00>"
            ]
          },
          "metadata": {
            "tags": []
          }
        },
        {
          "output_type": "display_data",
          "data": {
            "text/html": [
              "<pre style=\"white-space:pre;overflow-x:auto;line-height:normal;font-family:Menlo,'DejaVu Sans Mono',consolas,'Courier New',monospace\"><span style=\"color: #008000; font-weight: bold\">Original</span>: I hear the  is really nice. Would you like me to book you a room there?\n",
              "</pre>\n"
            ],
            "text/plain": [
              "<rich.jupyter.JupyterRenderable at 0x7f7dbcf52850>"
            ]
          },
          "metadata": {
            "tags": []
          }
        },
        {
          "output_type": "display_data",
          "data": {
            "text/html": [
              "<pre style=\"white-space:pre;overflow-x:auto;line-height:normal;font-family:Menlo,'DejaVu Sans Mono',consolas,'Courier New',monospace\"><span style=\"color: #808000; font-weight: bold\">Translation</span>: Я слышал, что дом действительно хорош. Вы хотите, чтобы я зарезервировал вам там\n",
              "комнату?\n",
              "</pre>\n"
            ],
            "text/plain": [
              "<rich.jupyter.JupyterRenderable at 0x7f7dbd18a040>"
            ]
          },
          "metadata": {
            "tags": []
          }
        },
        {
          "output_type": "display_data",
          "data": {
            "text/html": [
              "<pre style=\"white-space:pre;overflow-x:auto;line-height:normal;font-family:Menlo,'DejaVu Sans Mono',consolas,'Courier New',monospace\"><span style=\"color: #800000; font-weight: bold\">After matching</span>: Я слышал, ч<span style=\"font-weight: bold\">[</span>то дом дейс<span style=\"font-weight: bold\">]</span>твительно хорош. Вы хотите, чтобы я зарезервировал \n",
              "вам там комнату?\n",
              "</pre>\n"
            ],
            "text/plain": [
              "<rich.jupyter.JupyterRenderable at 0x7f7dbcf523d0>"
            ]
          },
          "metadata": {
            "tags": []
          }
        },
        {
          "output_type": "display_data",
          "data": {
            "text/html": [
              "<pre style=\"white-space:pre;overflow-x:auto;line-height:normal;font-family:Menlo,'DejaVu Sans Mono',consolas,'Courier New',monospace\">========================================\n",
              "</pre>\n"
            ],
            "text/plain": [
              "<rich.jupyter.JupyterRenderable at 0x7f7dbd18a730>"
            ]
          },
          "metadata": {
            "tags": []
          }
        },
        {
          "output_type": "display_data",
          "data": {
            "text/html": [
              "<pre style=\"white-space:pre;overflow-x:auto;line-height:normal;font-family:Menlo,'DejaVu Sans Mono',consolas,'Courier New',monospace\">Error at dialogue #<span style=\"color: #000080; font-weight: bold\">295</span> - utterance #<span style=\"color: #000080; font-weight: bold\">9</span>:\n",
              "</pre>\n"
            ],
            "text/plain": [
              "<rich.jupyter.JupyterRenderable at 0x7f7dbd18adc0>"
            ]
          },
          "metadata": {
            "tags": []
          }
        },
        {
          "output_type": "display_data",
          "data": {
            "text/html": [
              "<pre style=\"white-space:pre;overflow-x:auto;line-height:normal;font-family:Menlo,'DejaVu Sans Mono',consolas,'Courier New',monospace\"><span style=\"color: #008000; font-weight: bold\">Original</span>: The <span style=\"font-weight: bold\">[</span>Cambridge Contemporary Art<span style=\"font-weight: bold\">]</span> Museum is on Trinity Street. There are a number of\n",
              "others in the area also. Can I give you any other information?\n",
              "</pre>\n"
            ],
            "text/plain": [
              "<rich.jupyter.JupyterRenderable at 0x7f7dbd18a2e0>"
            ]
          },
          "metadata": {
            "tags": []
          }
        },
        {
          "output_type": "display_data",
          "data": {
            "text/html": [
              "<pre style=\"white-space:pre;overflow-x:auto;line-height:normal;font-family:Menlo,'DejaVu Sans Mono',consolas,'Courier New',monospace\"><span style=\"color: #808000; font-weight: bold\">Translation</span>: Кембриджский музей современного искусства находится на Тринити-стрит. Есть и \n",
              "другие в этом районе. Могу я дать вам другую информацию?\n",
              "</pre>\n"
            ],
            "text/plain": [
              "<rich.jupyter.JupyterRenderable at 0x7f7dbcf52850>"
            ]
          },
          "metadata": {
            "tags": []
          }
        },
        {
          "output_type": "display_data",
          "data": {
            "text/html": [
              "<pre style=\"white-space:pre;overflow-x:auto;line-height:normal;font-family:Menlo,'DejaVu Sans Mono',consolas,'Courier New',monospace\"><span style=\"color: #800000; font-weight: bold\">After matching</span>: Кемб<span style=\"font-weight: bold\">[</span>риджский музей современног<span style=\"font-weight: bold\">]</span>о искусства находится на Тринити-стрит. Есть \n",
              "и другие в этом районе. Могу я дать вам другую информацию?\n",
              "</pre>\n"
            ],
            "text/plain": [
              "<rich.jupyter.JupyterRenderable at 0x7f7dbcf523d0>"
            ]
          },
          "metadata": {
            "tags": []
          }
        },
        {
          "output_type": "display_data",
          "data": {
            "text/html": [
              "<pre style=\"white-space:pre;overflow-x:auto;line-height:normal;font-family:Menlo,'DejaVu Sans Mono',consolas,'Courier New',monospace\">========================================\n",
              "</pre>\n"
            ],
            "text/plain": [
              "<rich.jupyter.JupyterRenderable at 0x7f7dbd18a040>"
            ]
          },
          "metadata": {
            "tags": []
          }
        },
        {
          "output_type": "display_data",
          "data": {
            "text/html": [
              "<pre style=\"white-space:pre;overflow-x:auto;line-height:normal;font-family:Menlo,'DejaVu Sans Mono',consolas,'Courier New',monospace\">Error at dialogue #<span style=\"color: #000080; font-weight: bold\">307</span> - utterance #<span style=\"color: #000080; font-weight: bold\">9</span>:\n",
              "</pre>\n"
            ],
            "text/plain": [
              "<rich.jupyter.JupyterRenderable at 0x7f7dbd18a2e0>"
            ]
          },
          "metadata": {
            "tags": []
          }
        },
        {
          "output_type": "display_data",
          "data": {
            "text/html": [
              "<pre style=\"white-space:pre;overflow-x:auto;line-height:normal;font-family:Menlo,'DejaVu Sans Mono',consolas,'Courier New',monospace\"><span style=\"color: #008000; font-weight: bold\">Original</span>: The postcode for <span style=\"font-weight: bold\">]</span> is cb58wr, phone <span style=\"color: #000080; font-weight: bold\">01223323737</span>. Can I help you with anything else?\n",
              "</pre>\n"
            ],
            "text/plain": [
              "<rich.jupyter.JupyterRenderable at 0x7f7dbd18adf0>"
            ]
          },
          "metadata": {
            "tags": []
          }
        },
        {
          "output_type": "display_data",
          "data": {
            "text/html": [
              "<pre style=\"white-space:pre;overflow-x:auto;line-height:normal;font-family:Menlo,'DejaVu Sans Mono',consolas,'Courier New',monospace\"><span style=\"color: #808000; font-weight: bold\">Translation</span>: Почтовый индекс для <span style=\"font-weight: bold\">]</span>: cb58wr, телефон <span style=\"color: #000080; font-weight: bold\">01223323737</span>. Могу я вам чем-нибудь \n",
              "помочь?\n",
              "</pre>\n"
            ],
            "text/plain": [
              "<rich.jupyter.JupyterRenderable at 0x7f7dbd25fc40>"
            ]
          },
          "metadata": {
            "tags": []
          }
        },
        {
          "output_type": "display_data",
          "data": {
            "text/html": [
              "<pre style=\"white-space:pre;overflow-x:auto;line-height:normal;font-family:Menlo,'DejaVu Sans Mono',consolas,'Courier New',monospace\"><span style=\"color: #800000; font-weight: bold\">After matching</span>: Почтовый индекс для <span style=\"font-weight: bold\">]</span> cb58wr, телефон <span style=\"color: #000080; font-weight: bold\">01223323737</span>. Могу я вам чем-нибудь \n",
              "помочь?\n",
              "</pre>\n"
            ],
            "text/plain": [
              "<rich.jupyter.JupyterRenderable at 0x7f7dbcf52850>"
            ]
          },
          "metadata": {
            "tags": []
          }
        },
        {
          "output_type": "display_data",
          "data": {
            "text/html": [
              "<pre style=\"white-space:pre;overflow-x:auto;line-height:normal;font-family:Menlo,'DejaVu Sans Mono',consolas,'Courier New',monospace\">========================================\n",
              "</pre>\n"
            ],
            "text/plain": [
              "<rich.jupyter.JupyterRenderable at 0x7f7dbd087e20>"
            ]
          },
          "metadata": {
            "tags": []
          }
        },
        {
          "output_type": "display_data",
          "data": {
            "text/html": [
              "<pre style=\"white-space:pre;overflow-x:auto;line-height:normal;font-family:Menlo,'DejaVu Sans Mono',consolas,'Courier New',monospace\">Error at dialogue #<span style=\"color: #000080; font-weight: bold\">323</span> - utterance #<span style=\"color: #000080; font-weight: bold\">9</span>:\n",
              "</pre>\n"
            ],
            "text/plain": [
              "<rich.jupyter.JupyterRenderable at 0x7f7dbcf523d0>"
            ]
          },
          "metadata": {
            "tags": []
          }
        },
        {
          "output_type": "display_data",
          "data": {
            "text/html": [
              "<pre style=\"white-space:pre;overflow-x:auto;line-height:normal;font-family:Menlo,'DejaVu Sans Mono',consolas,'Courier New',monospace\"><span style=\"color: #008000; font-weight: bold\">Original</span>: Okay, I see two restaurants in the system, Pizza Express and Pizza Express Fen \n",
              "Ditton. They're both moderately priced <span style=\"font-weight: bold\">[</span>Italian<span style=\"font-weight: bold\">]</span> restaurants located in the centre of town.\n",
              "</pre>\n"
            ],
            "text/plain": [
              "<rich.jupyter.JupyterRenderable at 0x7f7dbd18adc0>"
            ]
          },
          "metadata": {
            "tags": []
          }
        },
        {
          "output_type": "display_data",
          "data": {
            "text/html": [
              "<pre style=\"white-space:pre;overflow-x:auto;line-height:normal;font-family:Menlo,'DejaVu Sans Mono',consolas,'Courier New',monospace\"><span style=\"color: #808000; font-weight: bold\">Translation</span>: Хорошо, я вижу в системе два ресторана, Pizza Express и Pizza Express Fen \n",
              "Ditton. Это оба итальянских ресторана с умеренными ценами, расположенные в центре города.\n",
              "</pre>\n"
            ],
            "text/plain": [
              "<rich.jupyter.JupyterRenderable at 0x7f7dbd3701f0>"
            ]
          },
          "metadata": {
            "tags": []
          }
        },
        {
          "output_type": "display_data",
          "data": {
            "text/html": [
              "<pre style=\"white-space:pre;overflow-x:auto;line-height:normal;font-family:Menlo,'DejaVu Sans Mono',consolas,'Courier New',monospace\"><span style=\"color: #800000; font-weight: bold\">After matching</span>: Хорошо, я вижу в системе два ресторана, Pizza Express и Pizza Express Fen \n",
              "Ditton. Это оба итальянских ресторана с умер<span style=\"font-weight: bold\">[</span>енными <span style=\"font-weight: bold\">]</span>ценами, расположенные в центре города.\n",
              "</pre>\n"
            ],
            "text/plain": [
              "<rich.jupyter.JupyterRenderable at 0x7f7dbd18a730>"
            ]
          },
          "metadata": {
            "tags": []
          }
        },
        {
          "output_type": "display_data",
          "data": {
            "text/html": [
              "<pre style=\"white-space:pre;overflow-x:auto;line-height:normal;font-family:Menlo,'DejaVu Sans Mono',consolas,'Courier New',monospace\">========================================\n",
              "</pre>\n"
            ],
            "text/plain": [
              "<rich.jupyter.JupyterRenderable at 0x7f7dbd18adf0>"
            ]
          },
          "metadata": {
            "tags": []
          }
        },
        {
          "output_type": "display_data",
          "data": {
            "text/html": [
              "<pre style=\"white-space:pre;overflow-x:auto;line-height:normal;font-family:Menlo,'DejaVu Sans Mono',consolas,'Courier New',monospace\">Error at dialogue #<span style=\"color: #000080; font-weight: bold\">326</span> - utterance #<span style=\"color: #000080; font-weight: bold\">11</span>:\n",
              "</pre>\n"
            ],
            "text/plain": [
              "<rich.jupyter.JupyterRenderable at 0x7f7dbcf523d0>"
            ]
          },
          "metadata": {
            "tags": []
          }
        },
        {
          "output_type": "display_data",
          "data": {
            "text/html": [
              "<pre style=\"white-space:pre;overflow-x:auto;line-height:normal;font-family:Menlo,'DejaVu Sans Mono',consolas,'Courier New',monospace\"><span style=\"color: #008000; font-weight: bold\">Original</span>: I would suggest <span style=\"font-weight: bold\">[</span>C<span style=\"font-weight: bold\">]</span>. They are located in the east. There is no entrance fee.\n",
              "</pre>\n"
            ],
            "text/plain": [
              "<rich.jupyter.JupyterRenderable at 0x7f7dbcf52850>"
            ]
          },
          "metadata": {
            "tags": []
          }
        },
        {
          "output_type": "display_data",
          "data": {
            "text/html": [
              "<pre style=\"white-space:pre;overflow-x:auto;line-height:normal;font-family:Menlo,'DejaVu Sans Mono',consolas,'Courier New',monospace\"><span style=\"color: #808000; font-weight: bold\">Translation</span>: Я бы посоветовал <span style=\"font-weight: bold\">[</span>C <span style=\"font-weight: bold\">]</span>. Они расположены на востоке. Входной платы нет.\n",
              "</pre>\n"
            ],
            "text/plain": [
              "<rich.jupyter.JupyterRenderable at 0x7f7dbd087e20>"
            ]
          },
          "metadata": {
            "tags": []
          }
        },
        {
          "output_type": "display_data",
          "data": {
            "text/html": [
              "<pre style=\"white-space:pre;overflow-x:auto;line-height:normal;font-family:Menlo,'DejaVu Sans Mono',consolas,'Courier New',monospace\"><span style=\"color: #800000; font-weight: bold\">After matching</span>: Я бы посоветовал <span style=\"font-weight: bold\">[</span>C <span style=\"font-weight: bold\">]</span> Они расположены на востоке. Входной платы нет.\n",
              "</pre>\n"
            ],
            "text/plain": [
              "<rich.jupyter.JupyterRenderable at 0x7f7dbd18a040>"
            ]
          },
          "metadata": {
            "tags": []
          }
        },
        {
          "output_type": "display_data",
          "data": {
            "text/html": [
              "<pre style=\"white-space:pre;overflow-x:auto;line-height:normal;font-family:Menlo,'DejaVu Sans Mono',consolas,'Courier New',monospace\">========================================\n",
              "</pre>\n"
            ],
            "text/plain": [
              "<rich.jupyter.JupyterRenderable at 0x7f7dbd18a2e0>"
            ]
          },
          "metadata": {
            "tags": []
          }
        },
        {
          "output_type": "display_data",
          "data": {
            "text/html": [
              "<pre style=\"white-space:pre;overflow-x:auto;line-height:normal;font-family:Menlo,'DejaVu Sans Mono',consolas,'Courier New',monospace\">Error at dialogue #<span style=\"color: #000080; font-weight: bold\">351</span> - utterance #<span style=\"color: #000080; font-weight: bold\">15</span>:\n",
              "</pre>\n"
            ],
            "text/plain": [
              "<rich.jupyter.JupyterRenderable at 0x7f7dbd18adc0>"
            ]
          },
          "metadata": {
            "tags": []
          }
        },
        {
          "output_type": "display_data",
          "data": {
            "text/html": [
              "<pre style=\"white-space:pre;overflow-x:auto;line-height:normal;font-family:Menlo,'DejaVu Sans Mono',consolas,'Courier New',monospace\"><span style=\"color: #008000; font-weight: bold\">Original</span>: I have booked you a room at the <span style=\"font-weight: bold\">[</span>B<span style=\"font-weight: bold\">]</span>, located at <span style=\"color: #000080; font-weight: bold\">151</span> hills road. Your reference \n",
              "number number is ZKR6W58Z .\n",
              "</pre>\n"
            ],
            "text/plain": [
              "<rich.jupyter.JupyterRenderable at 0x7f7dbd18adf0>"
            ]
          },
          "metadata": {
            "tags": []
          }
        },
        {
          "output_type": "display_data",
          "data": {
            "text/html": [
              "<pre style=\"white-space:pre;overflow-x:auto;line-height:normal;font-family:Menlo,'DejaVu Sans Mono',consolas,'Courier New',monospace\"><span style=\"color: #808000; font-weight: bold\">Translation</span>: Я забронировал вам номер в <span style=\"font-weight: bold\">[</span>B <span style=\"font-weight: bold\">[</span>Rridge Guest House<span style=\"font-weight: bold\">]]</span>, расположенном на дороге <span style=\"color: #000080; font-weight: bold\">151</span>\n",
              "холмов. Ваш ссылочный номер - ZKR6W58Z.\n",
              "</pre>\n"
            ],
            "text/plain": [
              "<rich.jupyter.JupyterRenderable at 0x7f7dbd087e20>"
            ]
          },
          "metadata": {
            "tags": []
          }
        },
        {
          "output_type": "display_data",
          "data": {
            "text/html": [
              "<pre style=\"white-space:pre;overflow-x:auto;line-height:normal;font-family:Menlo,'DejaVu Sans Mono',consolas,'Courier New',monospace\"><span style=\"color: #800000; font-weight: bold\">After matching</span>: Я забронировал вам номер в <span style=\"font-weight: bold\">[</span>B <span style=\"font-weight: bold\">[</span>Rridge Guest House,<span style=\"font-weight: bold\">]]</span> расположенном на дороге \n",
              "<span style=\"color: #000080; font-weight: bold\">151</span> холмов. Ваш ссылочный номер - ZKR6W58Z.\n",
              "</pre>\n"
            ],
            "text/plain": [
              "<rich.jupyter.JupyterRenderable at 0x7f7dbd18a2e0>"
            ]
          },
          "metadata": {
            "tags": []
          }
        },
        {
          "output_type": "display_data",
          "data": {
            "text/html": [
              "<pre style=\"white-space:pre;overflow-x:auto;line-height:normal;font-family:Menlo,'DejaVu Sans Mono',consolas,'Courier New',monospace\">========================================\n",
              "</pre>\n"
            ],
            "text/plain": [
              "<rich.jupyter.JupyterRenderable at 0x7f7dbd087a00>"
            ]
          },
          "metadata": {
            "tags": []
          }
        },
        {
          "output_type": "display_data",
          "data": {
            "text/html": [
              "<pre style=\"white-space:pre;overflow-x:auto;line-height:normal;font-family:Menlo,'DejaVu Sans Mono',consolas,'Courier New',monospace\">Error at dialogue #<span style=\"color: #000080; font-weight: bold\">376</span> - utterance #<span style=\"color: #000080; font-weight: bold\">9</span>:\n",
              "</pre>\n"
            ],
            "text/plain": [
              "<rich.jupyter.JupyterRenderable at 0x7f7dbd18adf0>"
            ]
          },
          "metadata": {
            "tags": []
          }
        },
        {
          "output_type": "display_data",
          "data": {
            "text/html": [
              "<pre style=\"white-space:pre;overflow-x:auto;line-height:normal;font-family:Menlo,'DejaVu Sans Mono',consolas,'Courier New',monospace\"><span style=\"color: #008000; font-weight: bold\">Original</span>: The  guest house<span style=\"font-weight: bold\">]</span> you be just perfect for you. Shall I book it ?\n",
              "</pre>\n"
            ],
            "text/plain": [
              "<rich.jupyter.JupyterRenderable at 0x7f7dbd3701f0>"
            ]
          },
          "metadata": {
            "tags": []
          }
        },
        {
          "output_type": "display_data",
          "data": {
            "text/html": [
              "<pre style=\"white-space:pre;overflow-x:auto;line-height:normal;font-family:Menlo,'DejaVu Sans Mono',consolas,'Courier New',monospace\"><span style=\"color: #808000; font-weight: bold\">Translation</span>: <span style=\"font-weight: bold\">[[</span>Кукурузный<span style=\"font-weight: bold\">]</span> гостевой дом<span style=\"font-weight: bold\">]</span> вы просто идеальны для вас. Могу я его заказать?\n",
              "</pre>\n"
            ],
            "text/plain": [
              "<rich.jupyter.JupyterRenderable at 0x7f7dbd18a040>"
            ]
          },
          "metadata": {
            "tags": []
          }
        },
        {
          "output_type": "display_data",
          "data": {
            "text/html": [
              "<pre style=\"white-space:pre;overflow-x:auto;line-height:normal;font-family:Menlo,'DejaVu Sans Mono',consolas,'Courier New',monospace\"><span style=\"color: #800000; font-weight: bold\">After matching</span>: Ку<span style=\"font-weight: bold\">[</span>курузный го<span style=\"font-weight: bold\">]</span>стевой дом вы просто идеальны для вас. Могу я его заказать<span style=\"font-weight: bold\">[]</span> \n",
              "вы просто идеальны для вас. Могу я его заказать?\n",
              "</pre>\n"
            ],
            "text/plain": [
              "<rich.jupyter.JupyterRenderable at 0x7f7dbcf52850>"
            ]
          },
          "metadata": {
            "tags": []
          }
        },
        {
          "output_type": "display_data",
          "data": {
            "text/html": [
              "<pre style=\"white-space:pre;overflow-x:auto;line-height:normal;font-family:Menlo,'DejaVu Sans Mono',consolas,'Courier New',monospace\">========================================\n",
              "</pre>\n"
            ],
            "text/plain": [
              "<rich.jupyter.JupyterRenderable at 0x7f7dbd18a730>"
            ]
          },
          "metadata": {
            "tags": []
          }
        },
        {
          "output_type": "display_data",
          "data": {
            "text/html": [
              "<pre style=\"white-space:pre;overflow-x:auto;line-height:normal;font-family:Menlo,'DejaVu Sans Mono',consolas,'Courier New',monospace\">Error at dialogue #<span style=\"color: #000080; font-weight: bold\">389</span> - utterance #<span style=\"color: #000080; font-weight: bold\">6</span>:\n",
              "</pre>\n"
            ],
            "text/plain": [
              "<rich.jupyter.JupyterRenderable at 0x7f7dbd3701f0>"
            ]
          },
          "metadata": {
            "tags": []
          }
        },
        {
          "output_type": "display_data",
          "data": {
            "text/html": [
              "<pre style=\"white-space:pre;overflow-x:auto;line-height:normal;font-family:Menlo,'DejaVu Sans Mono',consolas,'Courier New',monospace\"><span style=\"color: #008000; font-weight: bold\">Original</span>: I am looking for an expensive  food restaurant, please.\n",
              "</pre>\n"
            ],
            "text/plain": [
              "<rich.jupyter.JupyterRenderable at 0x7f7dbd087e20>"
            ]
          },
          "metadata": {
            "tags": []
          }
        },
        {
          "output_type": "display_data",
          "data": {
            "text/html": [
              "<pre style=\"white-space:pre;overflow-x:auto;line-height:normal;font-family:Menlo,'DejaVu Sans Mono',consolas,'Courier New',monospace\"><span style=\"color: #808000; font-weight: bold\">Translation</span>: Я ищу дорогой ресторан индийской кухни, пожалуйста.\n",
              "</pre>\n"
            ],
            "text/plain": [
              "<rich.jupyter.JupyterRenderable at 0x7f7dbd087a00>"
            ]
          },
          "metadata": {
            "tags": []
          }
        },
        {
          "output_type": "display_data",
          "data": {
            "text/html": [
              "<pre style=\"white-space:pre;overflow-x:auto;line-height:normal;font-family:Menlo,'DejaVu Sans Mono',consolas,'Courier New',monospace\"><span style=\"color: #800000; font-weight: bold\">After matching</span>: Я ищу дорогой ресторан индийск<span style=\"font-weight: bold\">[</span>ой кух<span style=\"font-weight: bold\">]</span>ни, пожалуйста.\n",
              "</pre>\n"
            ],
            "text/plain": [
              "<rich.jupyter.JupyterRenderable at 0x7f7dbd18adc0>"
            ]
          },
          "metadata": {
            "tags": []
          }
        },
        {
          "output_type": "display_data",
          "data": {
            "text/html": [
              "<pre style=\"white-space:pre;overflow-x:auto;line-height:normal;font-family:Menlo,'DejaVu Sans Mono',consolas,'Courier New',monospace\">========================================\n",
              "</pre>\n"
            ],
            "text/plain": [
              "<rich.jupyter.JupyterRenderable at 0x7f7dbd18adf0>"
            ]
          },
          "metadata": {
            "tags": []
          }
        },
        {
          "output_type": "display_data",
          "data": {
            "text/html": [
              "<pre style=\"white-space:pre;overflow-x:auto;line-height:normal;font-family:Menlo,'DejaVu Sans Mono',consolas,'Courier New',monospace\">Error at dialogue #<span style=\"color: #000080; font-weight: bold\">400</span> - utterance #<span style=\"color: #000080; font-weight: bold\">12</span>:\n",
              "</pre>\n"
            ],
            "text/plain": [
              "<rich.jupyter.JupyterRenderable at 0x7f7dbcf523d0>"
            ]
          },
          "metadata": {
            "tags": []
          }
        },
        {
          "output_type": "display_data",
          "data": {
            "text/html": [
              "<pre style=\"white-space:pre;overflow-x:auto;line-height:normal;font-family:Menlo,'DejaVu Sans Mono',consolas,'Courier New',monospace\"><span style=\"color: #008000; font-weight: bold\">Original</span>: That sounds ! How much is the entrance fee?\n",
              "</pre>\n"
            ],
            "text/plain": [
              "<rich.jupyter.JupyterRenderable at 0x7f7dbd087e20>"
            ]
          },
          "metadata": {
            "tags": []
          }
        },
        {
          "output_type": "display_data",
          "data": {
            "text/html": [
              "<pre style=\"white-space:pre;overflow-x:auto;line-height:normal;font-family:Menlo,'DejaVu Sans Mono',consolas,'Courier New',monospace\"><span style=\"color: #808000; font-weight: bold\">Translation</span>: Это звучит весело<span style=\"font-weight: bold\">]</span>! Сколько стоит входной билет?\n",
              "</pre>\n"
            ],
            "text/plain": [
              "<rich.jupyter.JupyterRenderable at 0x7f7dbd087a00>"
            ]
          },
          "metadata": {
            "tags": []
          }
        },
        {
          "output_type": "display_data",
          "data": {
            "text/html": [
              "<pre style=\"white-space:pre;overflow-x:auto;line-height:normal;font-family:Menlo,'DejaVu Sans Mono',consolas,'Courier New',monospace\"><span style=\"color: #800000; font-weight: bold\">After matching</span>: Это звучит в<span style=\"font-weight: bold\">[</span>есе<span style=\"font-weight: bold\">]</span>ло! Сколько стоит входной билет?\n",
              "</pre>\n"
            ],
            "text/plain": [
              "<rich.jupyter.JupyterRenderable at 0x7f7dbd18a730>"
            ]
          },
          "metadata": {
            "tags": []
          }
        },
        {
          "output_type": "display_data",
          "data": {
            "text/html": [
              "<pre style=\"white-space:pre;overflow-x:auto;line-height:normal;font-family:Menlo,'DejaVu Sans Mono',consolas,'Courier New',monospace\">========================================\n",
              "</pre>\n"
            ],
            "text/plain": [
              "<rich.jupyter.JupyterRenderable at 0x7f7dbcf523d0>"
            ]
          },
          "metadata": {
            "tags": []
          }
        },
        {
          "output_type": "display_data",
          "data": {
            "text/html": [
              "<pre style=\"white-space:pre;overflow-x:auto;line-height:normal;font-family:Menlo,'DejaVu Sans Mono',consolas,'Courier New',monospace\">Error at dialogue #<span style=\"color: #000080; font-weight: bold\">494</span> - utterance #<span style=\"color: #000080; font-weight: bold\">1</span>:\n",
              "</pre>\n"
            ],
            "text/plain": [
              "<rich.jupyter.JupyterRenderable at 0x7f7dbd087e20>"
            ]
          },
          "metadata": {
            "tags": []
          }
        },
        {
          "output_type": "display_data",
          "data": {
            "text/html": [
              "<pre style=\"white-space:pre;overflow-x:auto;line-height:normal;font-family:Menlo,'DejaVu Sans Mono',consolas,'Courier New',monospace\"><span style=\"color: #008000; font-weight: bold\">Original</span>: <span style=\"font-weight: bold\">[</span>The A<span style=\"font-weight: bold\">]</span> is a moderate priced restaurant located in the centre. Would that meet your\n",
              "needs?\n",
              "</pre>\n"
            ],
            "text/plain": [
              "<rich.jupyter.JupyterRenderable at 0x7f7dbd18adf0>"
            ]
          },
          "metadata": {
            "tags": []
          }
        },
        {
          "output_type": "display_data",
          "data": {
            "text/html": [
              "<pre style=\"white-space:pre;overflow-x:auto;line-height:normal;font-family:Menlo,'DejaVu Sans Mono',consolas,'Courier New',monospace\"><span style=\"color: #808000; font-weight: bold\">Translation</span>: <span style=\"font-weight: bold\">[</span>A <span style=\"font-weight: bold\">]</span> - недорогой ресторан, расположенный в центре. Отвечает ли это вашим \n",
              "потребностям?\n",
              "</pre>\n"
            ],
            "text/plain": [
              "<rich.jupyter.JupyterRenderable at 0x7f7dbd305d00>"
            ]
          },
          "metadata": {
            "tags": []
          }
        },
        {
          "output_type": "display_data",
          "data": {
            "text/html": [
              "<pre style=\"white-space:pre;overflow-x:auto;line-height:normal;font-family:Menlo,'DejaVu Sans Mono',consolas,'Courier New',monospace\"><span style=\"color: #800000; font-weight: bold\">After matching</span>: <span style=\"font-weight: bold\">[</span>A <span style=\"font-weight: bold\">]</span>- недорогой ресторан, расположенный в центре. Отвечает ли это вашим \n",
              "потребностям?\n",
              "</pre>\n"
            ],
            "text/plain": [
              "<rich.jupyter.JupyterRenderable at 0x7f7dbd087a00>"
            ]
          },
          "metadata": {
            "tags": []
          }
        },
        {
          "output_type": "display_data",
          "data": {
            "text/html": [
              "<pre style=\"white-space:pre;overflow-x:auto;line-height:normal;font-family:Menlo,'DejaVu Sans Mono',consolas,'Courier New',monospace\">========================================\n",
              "</pre>\n"
            ],
            "text/plain": [
              "<rich.jupyter.JupyterRenderable at 0x7f7dbcf82760>"
            ]
          },
          "metadata": {
            "tags": []
          }
        }
      ]
    },
    {
      "cell_type": "code",
      "metadata": {
        "id": "s36ua85F_AjT"
      },
      "source": [
        ""
      ],
      "execution_count": null,
      "outputs": []
    }
  ]
}